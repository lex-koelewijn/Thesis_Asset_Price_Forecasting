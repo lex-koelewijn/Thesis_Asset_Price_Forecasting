{
 "cells": [
  {
   "cell_type": "code",
   "execution_count": null,
   "metadata": {},
   "outputs": [],
   "source": [
    "import keras\n",
    "import tensorflow\n",
    "import pandas as pd\n",
    "import numpy as np\n",
    "from keras.models import Sequential\n",
    "from keras.layers import Dense, Activation, BatchNormalization, Conv1D, Conv2D, Flatten, MaxPooling1D \n",
    "from tensorflow.keras.callbacks import EarlyStopping\n",
    "from tensorflow.keras import regularizers\n",
    "from keras import optimizers \n",
    "from keras import metrics \n",
    "from tqdm.notebook import tqdm\n",
    "from numpy.random import seed"
   ]
  },
  {
   "cell_type": "markdown",
   "metadata": {},
   "source": [
    "## Google Collab Setup \n",
    "The following blocks of code should be used when running the code on Google Collab. (Meaning the local set up block should be commented) "
   ]
  },
  {
   "cell_type": "code",
   "execution_count": null,
   "metadata": {},
   "outputs": [],
   "source": [
    "# import sys\n",
    "# import os\n",
    "# import tensorflow as tf\n",
    "# from google.colab import files\n",
    "# from google.colab import drive"
   ]
  },
  {
   "cell_type": "code",
   "execution_count": null,
   "metadata": {},
   "outputs": [],
   "source": [
    "# # Mount my google drive where the input files are stored. \n",
    "# drive.mount('/content/drive')\n",
    "# sys.path.append('/content/drive/MyDrive/RUG/Master thesis finance/')\n",
    "\n",
    "# #Import util files from Drive\n",
    "# from utils.utils import *\n",
    "# from utils.clarkWestTest import clarkWestTest"
   ]
  },
  {
   "cell_type": "code",
   "execution_count": null,
   "metadata": {},
   "outputs": [],
   "source": [
    "# # Load the GPU provided by google\n",
    "# device_name = tf.test.gpu_device_name()\n",
    "# if device_name != '/device:GPU:0':\n",
    "#   raise SystemError('GPU device not found')\n",
    "# print('Found GPU at: {}'.format(device_name))\n",
    "\n",
    "# #Set desired verbosity of tensorflow\n",
    "# tf.compat.v1.logging.set_verbosity(tf.compat.v1.logging.ERROR)\n",
    "\n",
    "# # Read the data from the drive location\n",
    "# path_to_data = '/content/drive/MyDrive/RUG/Master thesis finance/'\n",
    "# # Read in the relevant data for the analysis.\n",
    "# ep = readEquityPremiumData(path_to_data)\n",
    "# mev = readMacroEconomicVariableData(path_to_data)\n",
    "# ta = readTechnicalIndicatorData(path_to_data)"
   ]
  },
  {
   "cell_type": "code",
   "execution_count": null,
   "metadata": {},
   "outputs": [],
   "source": [
    "# def downloadFiles(directory):\n",
    "#     \"\"\"\n",
    "#     Function which downloads all files in the directory specified in the Collab environment.   \n",
    "#     \"\"\"\n",
    "#     for filename in os.listdir(directory):\n",
    "#         files.download(directory+filename)"
   ]
  },
  {
   "cell_type": "markdown",
   "metadata": {},
   "source": [
    "## Local Setup\n",
    "The code blocks below should be used when running the repository on a local machine. (Meaning the Google collab block should be commented)"
   ]
  },
  {
   "cell_type": "code",
   "execution_count": null,
   "metadata": {},
   "outputs": [],
   "source": [
    "from utils.utils import *\n",
    "from utils.clarkWestTest import clarkWestTest"
   ]
  },
  {
   "cell_type": "code",
   "execution_count": null,
   "metadata": {},
   "outputs": [],
   "source": [
    "ep = readEquityPremiumData()\n",
    "mev = readMacroEconomicVariableData()\n",
    "ta = readTechnicalIndicatorData()"
   ]
  },
  {
   "cell_type": "markdown",
   "metadata": {},
   "source": [
    "## Global Setup\n",
    "From hereonout all code works both on a local machine or in Google collab. The required settings that are unisversal will be applied below. "
   ]
  },
  {
   "cell_type": "code",
   "execution_count": null,
   "metadata": {},
   "outputs": [],
   "source": [
    "#Set fixed seed for python, numpy and tensorflow\n",
    "seed(42)\n",
    "np.random.seed(42)\n",
    "try:\n",
    "    tensorflow.random.set_seed(42)\n",
    "except:\n",
    "    tensorflow.set_random_seed(42)"
   ]
  },
  {
   "cell_type": "markdown",
   "metadata": {},
   "source": [
    "## Functions"
   ]
  },
  {
   "cell_type": "code",
   "execution_count": null,
   "metadata": {},
   "outputs": [],
   "source": [
    "def normalizeData(X):\n",
    "    return (X-np.mean(X))/np.std(X)"
   ]
  },
  {
   "cell_type": "code",
   "execution_count": null,
   "metadata": {},
   "outputs": [],
   "source": [
    "def analyzeResults(results, resultsRF, method, dataset):\n",
    "    \"\"\"\n",
    "    Calcutale the evaluation measures based on the results of a mdel and append them to a datafram provided. \n",
    "    \"\"\"\n",
    "    CW = clarkWestTest(results['Actual'].astype(float), results['HA'].astype(float), results['Pred'].astype(float))\n",
    "    resultsRF = resultsRF.append(pd.Series({\n",
    "                'Method': method,\n",
    "                'Dataset': dataset,\n",
    "                'R2': round(R2(results.Actual, results.Pred, results.HA) , 3),\n",
    "                'CW': significanceLevel(CW[0], CW[1]),\n",
    "                'DA': directionalAccuracy(results.Actual, results.Pred),\n",
    "                'DA HA': directionalAccuracy(results.Actual, results.HA)\n",
    "            }), ignore_index=True)\n",
    "    return resultsRF"
   ]
  },
  {
   "cell_type": "code",
   "execution_count": null,
   "metadata": {},
   "outputs": [],
   "source": [
    "def createModel(X, y, inputUnits, inputShape):\n",
    "    \"\"\"\n",
    "    Define the model in keras. \n",
    "    \"\"\"\n",
    "    model = Sequential()\n",
    "    \n",
    "    # Input layer\n",
    "    model.add(Dense(inputUnits, input_shape=inputShape, \n",
    "                    activation='relu', \n",
    "                    activity_regularizer=regularizers.l1(0.01)))\n",
    "    \n",
    "    #Convolutional and max polling layers. \n",
    "    model.add(Conv1D(filters=64, kernel_size=4, activation='relu', input_shape=inputShape))\n",
    "    model.add(Conv1D(filters=32, kernel_size=2, activation='relu', input_shape=inputShape))\n",
    "    model.add(MaxPooling1D(pool_size=2))\n",
    "    \n",
    "    #Flatten and fully connected output layer\n",
    "    model.add(Flatten())  \n",
    "    model.add(Dense(25, activation='relu'))\n",
    "    \n",
    "    #Output layer\n",
    "    model.add(Dense(1, activation='linear'))\n",
    "    \n",
    "    model.compile(optimizer = 'sgd', loss = 'mean_squared_error', metrics = ['mean_squared_error'])\n",
    "    \n",
    "    print(model.summary())\n",
    "    \n",
    "    early_stopping = EarlyStopping(monitor='val_loss', patience = 5, min_delta=0.001, mode = 'min')\n",
    "    model.fit(X, y, epochs=100, batch_size=128, validation_split = 0.2, callbacks=[early_stopping], verbose=0)\n",
    "    return model"
   ]
  },
  {
   "cell_type": "code",
   "execution_count": null,
   "metadata": {},
   "outputs": [],
   "source": [
    "def trainCNN(X_mev, y_mev, window_size, inputUnits, inputShape):\n",
    "    results = pd.DataFrame(columns=['Date_t1', 'Actual', 'Pred', 'HA']) \n",
    "    \n",
    "    for i in tqdm(range(0, X_mev.shape[0]-window_size)):\n",
    "        #Slice the 180 month rolling window to train the model\n",
    "        X = X_mev[i:(window_size + i):]\n",
    "        y = y_mev[i:(window_size + i):]\n",
    "\n",
    "        #Get the X and y datapoint at time t (the most recent one) and seperate from the training set. \n",
    "        X_t = X[X.shape[0]-1,:].reshape(1,X.shape[1],1)\n",
    "        y_t1 = y.tail(1)\n",
    "        X = X[:X.shape[0]-1]\n",
    "        y = y.iloc[:y.shape[0]-1]\n",
    "        \n",
    "         # Define and train the model in keras once every year\n",
    "        if(i % 12 == 0):\n",
    "            model = createModel(X, y, inputUnits, inputShape)\n",
    "\n",
    "        #Make a 1 month OOS prediction of the current time point t.\n",
    "        y_pred = model.predict(X_t)\n",
    "\n",
    "        #Calculate the historical average based on all returns in the current window\n",
    "        HA = y.mean()\n",
    "\n",
    "        results = results.append(pd.Series({\n",
    "            'Date_t1': ep.index[window_size+i],\n",
    "            'Actual': y_t1.values.astype('float64')[0],\n",
    "            'Pred': y_pred[0][0],\n",
    "            'HA': HA\n",
    "        }), ignore_index=True)\n",
    "        \n",
    "    return results"
   ]
  },
  {
   "cell_type": "code",
   "execution_count": null,
   "metadata": {},
   "outputs": [],
   "source": [
    "def modelTrainingSequence(X, y, window_size, architecture, dataset, inputUnits, inputShape):\n",
    "    performanceResults = pd.DataFrame(columns=['Method', 'Dataset', 'R2', 'CW']) \n",
    "    \n",
    "    # For each of the network specifications, try to find saved outputs. Otherwise train and evaluate model and save the outcomes. \n",
    "    try: \n",
    "        results = pd.read_parquet('output/' + str(architecture) + '_' + str(dataset)+'.gzip')\n",
    "    except:\n",
    "        print('No saved results found, running model estimation.')\n",
    "        results = trainCNN(X, y, window_size = window_size, inputUnits = inputUnits, inputShape = inputShape)\n",
    "        results.to_parquet('output/' + str(architecture) + '_' + str(dataset)+'.gzip', compression='gzip')\n",
    "    performanceResults = analyzeResults(results, performanceResults, method = str(architecture)+' ', dataset = dataset)\n",
    "\n",
    "    return performanceResults "
   ]
  },
  {
   "cell_type": "markdown",
   "metadata": {},
   "source": [
    "### CNN MEV\n",
    "Run the NN for all the macroeconomic at once as training input. "
   ]
  },
  {
   "cell_type": "code",
   "execution_count": null,
   "metadata": {},
   "outputs": [],
   "source": [
    "window_size = 180\n",
    "check_existence_directory(['output'])"
   ]
  },
  {
   "cell_type": "code",
   "execution_count": null,
   "metadata": {},
   "outputs": [],
   "source": [
    "y_mev = ep.shift(periods=-1)[:ep.shape[0]-1].reset_index(drop=True)['Log equity premium'].astype('float64')\n",
    "X_mev = mev.iloc[:mev.shape[0]-1]\n",
    "# Reshape data such that CNN layers of keras can handle the input.\n",
    "X_mev = normalizeData(X_mev).values.reshape(X_mev.shape[0], X_mev.shape[1], 1)\n",
    "resultsMEVAll = modelTrainingSequence(X_mev, normalizeData(y_mev), window_size, architecture = 'CNN', dataset = 'MEV', inputUnits = 14, inputShape = (14,1))"
   ]
  },
  {
   "cell_type": "code",
   "execution_count": null,
   "metadata": {},
   "outputs": [],
   "source": [
    "resultsMEVAll"
   ]
  },
  {
   "cell_type": "code",
   "execution_count": null,
   "metadata": {},
   "outputs": [],
   "source": []
  },
  {
   "cell_type": "code",
   "execution_count": null,
   "metadata": {},
   "outputs": [],
   "source": []
  },
  {
   "cell_type": "code",
   "execution_count": null,
   "metadata": {},
   "outputs": [],
   "source": []
  },
  {
   "cell_type": "code",
   "execution_count": null,
   "metadata": {},
   "outputs": [],
   "source": []
  },
  {
   "cell_type": "code",
   "execution_count": null,
   "metadata": {},
   "outputs": [],
   "source": []
  },
  {
   "cell_type": "markdown",
   "metadata": {},
   "source": [
    "### CNN TA\n",
    "Run the CNN for all the macroeconomic at once as training input. "
   ]
  },
  {
   "cell_type": "code",
   "execution_count": null,
   "metadata": {},
   "outputs": [],
   "source": [
    "window_size = 180\n",
    "check_existence_directory(['output'])"
   ]
  },
  {
   "cell_type": "code",
   "execution_count": null,
   "metadata": {},
   "outputs": [],
   "source": [
    "#Shift y variable by 1 month to the future and remove the last observation of the independent variables. Now X and y line up such that each row in X is at time t\n",
    "# and each row in y with the same index is t+1.\n",
    "y_ta = ep.shift(periods=-1)[:ep.shape[0]-1].reset_index(drop=True)['Log equity premium'].astype('float64')\n",
    "X_ta = ta.iloc[:ta.shape[0]-1]\n",
    "# Reshape data such that CNN layers of keras can handle the input.\n",
    "X_ta = normalizeData(X_ta).values.reshape(X_ta.shape[0], X_ta.shape[1], 1)"
   ]
  },
  {
   "cell_type": "code",
   "execution_count": null,
   "metadata": {},
   "outputs": [],
   "source": [
    "resultsTAAll = modelTrainingSequence(X_ta, normalizeData(y_ta), window_size, architecture = 'CNN', dataset = 'TA', inputUnits = 14, inputShape = (14,1))"
   ]
  },
  {
   "cell_type": "code",
   "execution_count": null,
   "metadata": {},
   "outputs": [],
   "source": [
    "resultsTAAll"
   ]
  },
  {
   "cell_type": "markdown",
   "metadata": {},
   "source": [
    "# Analysis per Variable\n",
    "Up till now we have trained models using a vector of all variables at each time point. In the analysis below models will be trained for each variable seperately with the same set up as above. This allows us to observe the predictive power of variables indivdually given the current model architecucture."
   ]
  },
  {
   "cell_type": "code",
   "execution_count": null,
   "metadata": {},
   "outputs": [],
   "source": [
    "def createModelPerVariable(X, y, inputUnits, inputShape):\n",
    "    \"\"\"\n",
    "    Define the model in keras. \n",
    "    \"\"\"\n",
    "    model = Sequential()\n",
    "    \n",
    "    # Input layer\n",
    "    model.add(Dense(inputUnits, input_shape=inputShape, \n",
    "                    activation='relu', \n",
    "                    activity_regularizer=regularizers.l1(0.01)))\n",
    "    \n",
    "    #Convolutional and max polling layers. \n",
    "    model.add(Conv1D(filters=64, kernel_size=1, activation='relu', input_shape=inputShape))\n",
    "    model.add(Conv1D(filters=32, kernel_size=1, activation='relu'))\n",
    "    model.add(MaxPooling1D(pool_size=1))\n",
    "    \n",
    "    #Flatten and fully connected output layer\n",
    "    model.add(Flatten())  \n",
    "    model.add(Dense(25, activation='relu'))\n",
    "    \n",
    "    #Output layer\n",
    "    model.add(Dense(1, activation='linear'))\n",
    "    \n",
    "    model.compile(optimizer = 'sgd', loss = 'mean_squared_error', metrics = ['mean_squared_error'])\n",
    "    early_stopping = EarlyStopping(monitor='val_loss', patience = 5, min_delta=0.001, mode = 'min')\n",
    "    model.fit(X, y, epochs=100, batch_size=128, validation_split = 0.2, callbacks=[early_stopping], verbose=0)\n",
    "    return model"
   ]
  },
  {
   "cell_type": "code",
   "execution_count": null,
   "metadata": {},
   "outputs": [],
   "source": [
    "def trainCNNPerVariable(X_mev, y_mev, window_size, inputUnits, inputShape):\n",
    "    results = pd.DataFrame(columns=['Date_t1', 'Actual', 'Pred', 'HA']) \n",
    "    \n",
    "    for i in tqdm(range(0, X_mev.shape[0]-window_size)):\n",
    "        #Slice the 180 month rolling window to train the model\n",
    "        X = X_mev[i:(window_size + i):]\n",
    "        y = y_mev[i:(window_size + i):]\n",
    "\n",
    "        #Get the X and y datapoint at time t (the most recent one) and seperate from the training set. \n",
    "        X_t = X[X.shape[0]-1,:].reshape(1,X.shape[1],1)\n",
    "        y_t1 = y.tail(1)\n",
    "        X = X[:X.shape[0]-1]\n",
    "        y = y.iloc[:y.shape[0]-1]\n",
    "        \n",
    "         # Define and train the model in keras once every year\n",
    "        if(i % 12 == 0):\n",
    "            model = createModelPerVariable(X, y, inputUnits, inputShape)\n",
    "\n",
    "        #Make a 1 month OOS prediction of the current time point t.\n",
    "        y_pred = model.predict(X_t)\n",
    "\n",
    "        #Calculate the historical average based on all returns in the current window\n",
    "        HA = y.mean()\n",
    "\n",
    "        results = results.append(pd.Series({\n",
    "            'Date_t1': ep.index[window_size+i],\n",
    "            'Actual': y_t1.values.astype('float64')[0],\n",
    "            'Pred': y_pred[0][0],\n",
    "            'HA': HA\n",
    "        }), ignore_index=True)\n",
    "        \n",
    "    return results"
   ]
  },
  {
   "cell_type": "code",
   "execution_count": null,
   "metadata": {},
   "outputs": [],
   "source": [
    "def runAnalysisPerVariable(X_raw, y_raw, window_size, architecture, dataset, inputUnits, inputShape):\n",
    "    # Initialize empty datafram to contain the results. \n",
    "    resultsDF = pd.DataFrame(columns=['Method', 'Dataset', 'R2', 'CW']) \n",
    "    \n",
    "    # Init y\n",
    "    y = y_raw.shift(periods=-1)[:y_raw.shape[0]-1].reset_index(drop=True)['Log equity premium'].astype('float64')\n",
    "\n",
    "    for variable in X_raw.columns:\n",
    "        # Select current variable and reshape such that pandas and numpy understand each other. \n",
    "        X = X_raw.iloc[:X_raw.shape[0]-1][variable]\n",
    "        X = pd.DataFrame(X.values.reshape(-1, 1))\n",
    "        \n",
    "        # Reshape data such that CNN layers of keras can handle the input.\n",
    "        X = normalizeData(X).values.reshape(X.shape[0], X.shape[1], 1)\n",
    "\n",
    "        # If model has been trained already we load input, otherwise train model. \n",
    "        try: \n",
    "            results = pd.read_parquet('output/' + str(architecture) + '_' + str(dataset) +'_' + str(variable).replace(' ', '').replace('%', '') + '.gzip')\n",
    "        except:\n",
    "            print('No saved results found, running model estimation.')\n",
    "            results = trainCNNPerVariable(X, normalizeData(y), window_size = window_size, inputUnits = inputUnits, inputShape = inputShape)\n",
    "            results.to_parquet('output/' + str(architecture) + '_' + str(dataset) + '_' + str(variable).replace(' ', '').replace('%', '') + '.gzip', compression='gzip')\n",
    "\n",
    "        #Analyze the results\n",
    "        resultsDF = analyzeResults(results, resultsDF, method = architecture, dataset =   dataset + ': ' + str(variable))\n",
    "            \n",
    "    return resultsDF "
   ]
  },
  {
   "cell_type": "markdown",
   "metadata": {},
   "source": [
    "### Macroeconomic variables"
   ]
  },
  {
   "cell_type": "code",
   "execution_count": null,
   "metadata": {},
   "outputs": [],
   "source": [
    "resultsMEV = runAnalysisPerVariable(mev, ep, window_size, architecture = 'CNN', dataset = 'MEV', inputUnits = 1, inputShape = (1,1))"
   ]
  },
  {
   "cell_type": "code",
   "execution_count": null,
   "metadata": {},
   "outputs": [],
   "source": [
    "resultsMEV"
   ]
  },
  {
   "cell_type": "markdown",
   "metadata": {},
   "source": [
    "### Technical Indicators"
   ]
  },
  {
   "cell_type": "code",
   "execution_count": null,
   "metadata": {},
   "outputs": [],
   "source": [
    "resultsTA = runAnalysisPerVariable(ta, ep, window_size, architecture = 'CNN',  dataset = 'TA', inputUnits = 1, inputShape = (1,1))"
   ]
  },
  {
   "cell_type": "code",
   "execution_count": null,
   "metadata": {},
   "outputs": [],
   "source": [
    "resultsTA"
   ]
  },
  {
   "cell_type": "code",
   "execution_count": null,
   "metadata": {},
   "outputs": [],
   "source": [
    "with pd.ExcelWriter('output/CNN.xlsx') as writer:\n",
    "    resultsMEVAll.to_excel(writer, sheet_name='Accuracy MEV')\n",
    "    resultsTAAll.to_excel(writer, sheet_name='Accuracy TA')\n",
    "    resultsMEV.to_excel(writer, sheet_name='MEV Variables')\n",
    "    resultsTA.to_excel(writer, sheet_name='TA Variables')"
   ]
  },
  {
   "cell_type": "code",
   "execution_count": null,
   "metadata": {},
   "outputs": [],
   "source": []
  },
  {
   "cell_type": "code",
   "execution_count": null,
   "metadata": {},
   "outputs": [],
   "source": []
  }
 ],
 "metadata": {
  "kernelspec": {
   "display_name": "Python 3",
   "language": "python",
   "name": "python3"
  },
  "language_info": {
   "codemirror_mode": {
    "name": "ipython",
    "version": 3
   },
   "file_extension": ".py",
   "mimetype": "text/x-python",
   "name": "python",
   "nbconvert_exporter": "python",
   "pygments_lexer": "ipython3",
   "version": "3.6.10"
  }
 },
 "nbformat": 4,
 "nbformat_minor": 4
}
