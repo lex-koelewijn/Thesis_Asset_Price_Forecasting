{
 "cells": [
  {
   "cell_type": "code",
   "execution_count": 2,
   "metadata": {},
   "outputs": [],
   "source": [
    "import sklearn\n",
    "import cProfile\n",
    "import pstats\n",
    "import os\n",
    "import pandas as pd\n",
    "import numpy as np\n",
    "from sklearn.ensemble import RandomForestRegressor\n",
    "from sklearn.model_selection import train_test_split\n",
    "from sklearn.preprocessing import StandardScaler\n",
    "from sklearn import metrics\n",
    "from sklearn.decomposition import PCA\n",
    "from utils.dm_test import dm_test\n",
    "from utils.clarkWestTest import clarkWestTest\n",
    "from utils.utils import * \n",
    "from tqdm.notebook import tqdm #This is not a functional neccesity, but improves the interface. "
   ]
  },
  {
   "cell_type": "code",
   "execution_count": 3,
   "metadata": {},
   "outputs": [],
   "source": [
    "pd.set_option('display.max_columns', None)"
   ]
  },
  {
   "cell_type": "markdown",
   "metadata": {},
   "source": [
    "## Reading Data\n",
    "First we start with loading the relevant data from the excel to be used in our analyis"
   ]
  },
  {
   "cell_type": "code",
   "execution_count": 4,
   "metadata": {},
   "outputs": [],
   "source": [
    "# Read in the relevant data for the analysis.\n",
    "ep = readEquityPremiumData()\n",
    "mev = readMacroEconomicVariableData()\n",
    "ta = readTechnicalIndicatorData()"
   ]
  },
  {
   "cell_type": "markdown",
   "metadata": {},
   "source": [
    "# Random Forest\n",
    "In the code below a random forest setup will first be used for the macro economic variables (MEV) and then for the technical indicators (TA). I will first give a general overview of the setup: \n",
    "\n",
    "A rollwing window with a size of 180 months is used to select the training sample of the data on which we train the model to make the 1 month OOS forecast. Thus for example:\n",
    "1. First rolling window: Train model on MEV data from 1950:12 - 1965:12 and make prediction for 1966:01\n",
    "2. Second rolling window: Train model on MEV data from 1951:01 - 1966:01 and make prediction for 1966:02\n",
    "3. Etc. \n",
    "\n",
    "The model is trained using the vector $z_t$ which contains all the macroeconomic variables at time t as the indepent variables and the return at time $t+1$ is used as the dependent variable. The model tries to find a function for $r_{t+1} = g^*(z_t)$. Thus each rolling window has 180 observations used to train the model and this trained model will then predict the return at time $t+1$.\n",
    "\n",
    "After we have gone through all the data we can look at the accuracy of the model though the $R^2$ metric. Furthermore we can compare the forecasts produced by the model with the historical average through the Diebold Mariano test to see whether the model is significantly better than the historical average benchmark.\n",
    "\n",
    "Below follow first the general functions to train a random forest, analyze the results and some global variables that are set. Then the analysis is done with a number of different setups."
   ]
  },
  {
   "cell_type": "code",
   "execution_count": 5,
   "metadata": {},
   "outputs": [],
   "source": [
    "def trainRandomForest(X_mev, y_mev, window_size):\n",
    "    results_mev = pd.DataFrame(columns=['Date_t', 'Date_t1', 'Actual', 'Pred', 'HA']) \n",
    "\n",
    "    for i in tqdm(range(0, X_mev.shape[0]-window_size)):\n",
    "        #Slice the 180 month rolling window to train the model\n",
    "        X = X_mev.iloc[i:(window_size + i):]\n",
    "        y = y_mev[i:(window_size + i):]\n",
    "\n",
    "        #Get the X and y datapoint at time t (the most recent one) and seperate from the training set. \n",
    "        X_t = X.tail(1)\n",
    "        y_t1 = y.tail(1)\n",
    "        X = X.iloc[:X.shape[0]-1]\n",
    "        y = y.iloc[:y.shape[0]-1]\n",
    "\n",
    "        #Train a random forest model on current slice of data\n",
    "        RF = RandomForestRegressor(n_estimators = 300, max_depth = 6, random_state = 42).fit(X, y)\n",
    "\n",
    "        #Make a 1 month OOS prediction of the current time point t.\n",
    "        y_pred = RF.predict(X_t)\n",
    "\n",
    "        #Calculate the historical average based on all returns in the current window\n",
    "        HA = y.mean()\n",
    "\n",
    "        results_mev = results_mev.append(pd.Series({\n",
    "            'Date_t': X_t.index.format()[0],\n",
    "            'Date_t1': ep.index[window_size+i],\n",
    "            'Actual': y_t1.values.astype('float64')[0],\n",
    "            'Pred': y_pred[0],\n",
    "            'HA': HA\n",
    "        }), ignore_index=True)\n",
    "        \n",
    "    return results_mev"
   ]
  },
  {
   "cell_type": "code",
   "execution_count": 6,
   "metadata": {},
   "outputs": [],
   "source": [
    "def analyzeResults(results, resultsRF, method, dataset):\n",
    "    CW = clarkWestTest(results['Actual'].astype(float), results['HA'].astype(float), results['Pred'].astype(float))\n",
    "    resultsRF = resultsRF.append(pd.Series({\n",
    "                'Method': method,\n",
    "                'Dataset': dataset,\n",
    "                'R2': round(R2(results.Actual, results.Pred, results.HA) , 3),\n",
    "                'CW': significanceLevel(CW[0], CW[1]),\n",
    "                'DA': directionalAccuracy(results.Actual, results.Pred),\n",
    "                'DA HA': directionalAccuracy(results.Actual, results.HA)\n",
    "            }), ignore_index=True)\n",
    "    return resultsRF"
   ]
  },
  {
   "cell_type": "code",
   "execution_count": 7,
   "metadata": {},
   "outputs": [],
   "source": [
    "window_size = 180\n",
    "resultsRF = pd.DataFrame(columns=['Method', 'Dataset', 'R2', 'CW']) \n",
    "check_existence_directory(['output'])"
   ]
  },
  {
   "cell_type": "markdown",
   "metadata": {},
   "source": [
    "### Macro Economic Variables"
   ]
  },
  {
   "cell_type": "code",
   "execution_count": 8,
   "metadata": {},
   "outputs": [],
   "source": [
    "#Shift y variable by 1 month to the future and remove the last observation of the independent variables. Now X and y line up such that each row in X is at time t\n",
    "# and each row in y with the same index is t+1.\n",
    "y_mev = ep.shift(periods=-1)[:ep.shape[0]-1].reset_index(drop=True)['Log equity premium'].astype('float64')\n",
    "X_mev = mev.iloc[:mev.shape[0]-1]"
   ]
  },
  {
   "cell_type": "code",
   "execution_count": 9,
   "metadata": {},
   "outputs": [],
   "source": [
    "# Check if we have the stored results available. If not then we train the model and save the results.\n",
    "try: \n",
    "    results_mev = pd.read_parquet('output/RF_MEV.gzip')\n",
    "except:\n",
    "    print('No saved results found, running model estimation.')\n",
    "    results_mev = trainRandomForest(X_mev, y_mev, window_size)\n",
    "    results_mev.to_parquet('output/RF_MEV.gzip', compression='gzip')"
   ]
  },
  {
   "cell_type": "code",
   "execution_count": 10,
   "metadata": {},
   "outputs": [],
   "source": [
    "resultsRF = analyzeResults(results_mev, resultsRF, method = 'Random Forest', dataset = 'MEV')"
   ]
  },
  {
   "cell_type": "markdown",
   "metadata": {},
   "source": [
    "### Technical Indiciators\n"
   ]
  },
  {
   "cell_type": "code",
   "execution_count": 11,
   "metadata": {},
   "outputs": [],
   "source": [
    "#Shift y variable by 1 month to the future and remove the last observation of the independent variables. Now X and y line up such that each row in X is at time t\n",
    "# and each row in y with the same index is t+1.\n",
    "y_ta = ep.shift(periods=-1)[:ep.shape[0]-1].reset_index(drop=True)['Log equity premium'].astype('float64')\n",
    "X_ta = ta.iloc[:ta.shape[0]-1]"
   ]
  },
  {
   "cell_type": "code",
   "execution_count": 12,
   "metadata": {},
   "outputs": [],
   "source": [
    "# Check if we have the stored results available. If not then we train the model and save the results.\n",
    "try: \n",
    "    results_ta = pd.read_parquet('output/RF_TA.gzip')\n",
    "except:\n",
    "    print('No saved results found, running model estimation.')\n",
    "    results_ta = trainRandomForest(X_ta, y_ta, window_size)\n",
    "    results_ta.to_parquet('output/RF_TA.gzip', compression='gzip')"
   ]
  },
  {
   "cell_type": "code",
   "execution_count": 13,
   "metadata": {},
   "outputs": [],
   "source": [
    "resultsRF = analyzeResults(results_ta, resultsRF, method = 'Random Forest', dataset = 'TA')"
   ]
  },
  {
   "cell_type": "markdown",
   "metadata": {},
   "source": [
    "### All Variables"
   ]
  },
  {
   "cell_type": "code",
   "execution_count": 14,
   "metadata": {},
   "outputs": [],
   "source": [
    "X_all = pd.DataFrame()\n",
    "X_all = pd.concat([X_mev,X_ta], ignore_index = False, axis =1)\n",
    "y_all = y_mev"
   ]
  },
  {
   "cell_type": "code",
   "execution_count": 15,
   "metadata": {},
   "outputs": [],
   "source": [
    "# Check if we have the stored results available. If not then we train the model and save the results.\n",
    "try: \n",
    "    results_all = pd.read_parquet('output/RF_ALL.gzip')\n",
    "except:\n",
    "    print('No saved results found, running model estimation.')\n",
    "    results_all = trainRandomForest(X_all, y_all, window_size)\n",
    "    results_all.to_parquet('output/RF_ALL.gzip', compression='gzip')"
   ]
  },
  {
   "cell_type": "code",
   "execution_count": 16,
   "metadata": {},
   "outputs": [],
   "source": [
    "resultsRF = analyzeResults(results_all, resultsRF, method = 'Random Forest', dataset = 'ALL')"
   ]
  },
  {
   "cell_type": "markdown",
   "metadata": {},
   "source": [
    "# Principal Components Analysis\n",
    "### Macro Economic Variables"
   ]
  },
  {
   "cell_type": "code",
   "execution_count": 17,
   "metadata": {},
   "outputs": [],
   "source": [
    "pca = PCA(n_components=3, svd_solver='full')\n",
    "scalerX = StandardScaler()\n",
    "X_mev_pca = scalerX.fit_transform(X_mev, y_mev)\n",
    "X_mev_pca = pd.DataFrame(pca.fit_transform(X_mev_pca))"
   ]
  },
  {
   "cell_type": "code",
   "execution_count": 18,
   "metadata": {},
   "outputs": [],
   "source": [
    "# Check if we have the stored results available. If not then we train the model and save the results.\n",
    "try: \n",
    "    results_mev_pca = pd.read_parquet('output/RF_MEV_PCA.gzip')\n",
    "except:\n",
    "    print('No saved results found, running model estimation.')\n",
    "    results_mev_pca = trainRandomForest(X_mev_pca, y_mev, window_size)\n",
    "    results_mev_pca.to_parquet('output/RF_MEV_PCA.gzip', compression='gzip')"
   ]
  },
  {
   "cell_type": "code",
   "execution_count": 19,
   "metadata": {},
   "outputs": [],
   "source": [
    "resultsRF = analyzeResults(results_mev_pca, resultsRF, method = 'Random Forest', dataset = 'MEV PCA')"
   ]
  },
  {
   "cell_type": "markdown",
   "metadata": {},
   "source": [
    "### Technical Indicators"
   ]
  },
  {
   "cell_type": "code",
   "execution_count": 20,
   "metadata": {},
   "outputs": [],
   "source": [
    "pca = PCA(n_components=3, svd_solver='full')\n",
    "scalerX = StandardScaler()\n",
    "X_ta_pca = scalerX.fit_transform(X_ta, y_ta)\n",
    "X_ta_pca = pd.DataFrame(pca.fit_transform(X_ta_pca))"
   ]
  },
  {
   "cell_type": "code",
   "execution_count": 21,
   "metadata": {},
   "outputs": [],
   "source": [
    "# Check if we have the stored results available. If not then we train the model and save the results.\n",
    "try: \n",
    "    results_ta_pca = pd.read_parquet('output/RF_TA_PCA.gzip')\n",
    "except:\n",
    "    print('No saved results found, running model estimation.')\n",
    "    results_ta_pca = trainRandomForest(X_ta_pca, y_ta, window_size)\n",
    "    results_ta_pca.to_parquet('output/RF_TA_PCA.gzip', compression='gzip')"
   ]
  },
  {
   "cell_type": "code",
   "execution_count": 22,
   "metadata": {},
   "outputs": [],
   "source": [
    "resultsRF = analyzeResults(results_ta_pca, resultsRF, method = 'Random Forest', dataset = 'TA PCA')"
   ]
  },
  {
   "cell_type": "markdown",
   "metadata": {},
   "source": [
    "## Output\n",
    "In the result below the follow elements can be found:\n",
    "* R2 = The out of sample $R^2$ score as defined by eq. 25 in the thesis. A negative value means the models predictions are worse than the historical average benchmark.\n",
    "* DM: The test statistic for a one-sided Diebold Mariano test with its significance level: \n",
    "    * $H_0$: Forcasts of model are worse than historical average or not significantly different from the historical average. \n",
    "    * $H_A$: Forcasts of model are significantly better than historical average. \n",
    "* DA: The directional accuracy of the model in terms of the percentage of predictions that have the correct direction. \n",
    "* DA HA: The directional accuracy of the historical averave in terms of percentage of prediction that have the correct direction."
   ]
  },
  {
   "cell_type": "code",
   "execution_count": 23,
   "metadata": {},
   "outputs": [
    {
     "data": {
      "text/html": [
       "<div>\n",
       "<style scoped>\n",
       "    .dataframe tbody tr th:only-of-type {\n",
       "        vertical-align: middle;\n",
       "    }\n",
       "\n",
       "    .dataframe tbody tr th {\n",
       "        vertical-align: top;\n",
       "    }\n",
       "\n",
       "    .dataframe thead th {\n",
       "        text-align: right;\n",
       "    }\n",
       "</style>\n",
       "<table border=\"1\" class=\"dataframe\">\n",
       "  <thead>\n",
       "    <tr style=\"text-align: right;\">\n",
       "      <th></th>\n",
       "      <th>Method</th>\n",
       "      <th>Dataset</th>\n",
       "      <th>R2</th>\n",
       "      <th>CW</th>\n",
       "      <th>DA</th>\n",
       "      <th>DA HA</th>\n",
       "    </tr>\n",
       "  </thead>\n",
       "  <tbody>\n",
       "    <tr>\n",
       "      <th>0</th>\n",
       "      <td>Random Forest</td>\n",
       "      <td>MEV</td>\n",
       "      <td>-0.151</td>\n",
       "      <td>0.93</td>\n",
       "      <td>54.63</td>\n",
       "      <td>56.02</td>\n",
       "    </tr>\n",
       "    <tr>\n",
       "      <th>1</th>\n",
       "      <td>Random Forest</td>\n",
       "      <td>TA</td>\n",
       "      <td>-0.077</td>\n",
       "      <td>0.55</td>\n",
       "      <td>57.56</td>\n",
       "      <td>56.02</td>\n",
       "    </tr>\n",
       "    <tr>\n",
       "      <th>2</th>\n",
       "      <td>Random Forest</td>\n",
       "      <td>ALL</td>\n",
       "      <td>-0.151</td>\n",
       "      <td>0.85</td>\n",
       "      <td>55.86</td>\n",
       "      <td>56.02</td>\n",
       "    </tr>\n",
       "    <tr>\n",
       "      <th>3</th>\n",
       "      <td>Random Forest</td>\n",
       "      <td>MEV PCA</td>\n",
       "      <td>-0.211</td>\n",
       "      <td>0.2</td>\n",
       "      <td>54.48</td>\n",
       "      <td>56.02</td>\n",
       "    </tr>\n",
       "    <tr>\n",
       "      <th>4</th>\n",
       "      <td>Random Forest</td>\n",
       "      <td>TA PCA</td>\n",
       "      <td>-0.101</td>\n",
       "      <td>-0.67</td>\n",
       "      <td>57.72</td>\n",
       "      <td>56.02</td>\n",
       "    </tr>\n",
       "  </tbody>\n",
       "</table>\n",
       "</div>"
      ],
      "text/plain": [
       "          Method  Dataset     R2     CW     DA  DA HA\n",
       "0  Random Forest      MEV -0.151   0.93  54.63  56.02\n",
       "1  Random Forest       TA -0.077   0.55  57.56  56.02\n",
       "2  Random Forest      ALL -0.151   0.85  55.86  56.02\n",
       "3  Random Forest  MEV PCA -0.211    0.2  54.48  56.02\n",
       "4  Random Forest   TA PCA -0.101  -0.67  57.72  56.02"
      ]
     },
     "execution_count": 23,
     "metadata": {},
     "output_type": "execute_result"
    }
   ],
   "source": [
    "resultsRF"
   ]
  },
  {
   "cell_type": "markdown",
   "metadata": {},
   "source": [
    "# Analysis Per Variable\n",
    "Up till now we have trained models using a vector of all variables at each time point. In the analysis below models will be trained for each variable seperately with the same set up as above. This allows us to observe the predictive power of variables indivdually given the current model architecucture."
   ]
  },
  {
   "cell_type": "code",
   "execution_count": 25,
   "metadata": {},
   "outputs": [],
   "source": [
    "def runAnalysisPerVariable(X_raw, y_raw, window_size, dataset):\n",
    "    # Initialize empty datafram to contain the results. \n",
    "    resultsDF = pd.DataFrame(columns=['Method', 'Dataset', 'R2', 'CW']) \n",
    "\n",
    "    for variable in X_raw.columns:\n",
    "        # Init y\n",
    "        y = y_raw.shift(periods=-1)[:y_raw.shape[0]-1].reset_index(drop=True)['Log equity premium'].astype('float64')\n",
    "\n",
    "        # Select current variable and reshape such that pandas and numpy understand each other. \n",
    "        X = X_raw.iloc[:X_raw.shape[0]-1][variable]\n",
    "        X = pd.DataFrame(X.values.reshape(-1, 1))\n",
    "\n",
    "        # If model has been trained already we load input, otherwise train model. \n",
    "        try: \n",
    "            results = pd.read_parquet('output/RF_' + dataset + '_' + str(variable) + '.gzip')\n",
    "        except:\n",
    "            print('No saved results found, running model estimation.')\n",
    "            results = trainRandomForest(X, y, window_size)\n",
    "            results.to_parquet('output/RF_' + dataset + '_' + str(variable) + '.gzip', compression='gzip')\n",
    "\n",
    "\n",
    "        #Analyze the results\n",
    "        resultsDF = analyzeResults(results, resultsDF, method = 'Random Forest', dataset =   dataset + ': ' + str(variable))\n",
    "    return resultsDF\n",
    "    "
   ]
  },
  {
   "cell_type": "markdown",
   "metadata": {},
   "source": [
    "### MEV Analysis"
   ]
  },
  {
   "cell_type": "code",
   "execution_count": 26,
   "metadata": {},
   "outputs": [],
   "source": [
    "resultsMEV = runAnalysisPerVariable(mev, ep, window_size, dataset = 'MEV')"
   ]
  },
  {
   "cell_type": "code",
   "execution_count": 27,
   "metadata": {},
   "outputs": [
    {
     "data": {
      "text/html": [
       "<div>\n",
       "<style scoped>\n",
       "    .dataframe tbody tr th:only-of-type {\n",
       "        vertical-align: middle;\n",
       "    }\n",
       "\n",
       "    .dataframe tbody tr th {\n",
       "        vertical-align: top;\n",
       "    }\n",
       "\n",
       "    .dataframe thead th {\n",
       "        text-align: right;\n",
       "    }\n",
       "</style>\n",
       "<table border=\"1\" class=\"dataframe\">\n",
       "  <thead>\n",
       "    <tr style=\"text-align: right;\">\n",
       "      <th></th>\n",
       "      <th>Method</th>\n",
       "      <th>Dataset</th>\n",
       "      <th>R2</th>\n",
       "      <th>CW</th>\n",
       "      <th>DA</th>\n",
       "      <th>DA HA</th>\n",
       "    </tr>\n",
       "  </thead>\n",
       "  <tbody>\n",
       "    <tr>\n",
       "      <th>0</th>\n",
       "      <td>Random Forest</td>\n",
       "      <td>MEV: DP</td>\n",
       "      <td>-0.258</td>\n",
       "      <td>0.51</td>\n",
       "      <td>54.63</td>\n",
       "      <td>56.02</td>\n",
       "    </tr>\n",
       "    <tr>\n",
       "      <th>1</th>\n",
       "      <td>Random Forest</td>\n",
       "      <td>MEV: DY</td>\n",
       "      <td>-0.309</td>\n",
       "      <td>-0.29</td>\n",
       "      <td>54.01</td>\n",
       "      <td>56.02</td>\n",
       "    </tr>\n",
       "    <tr>\n",
       "      <th>2</th>\n",
       "      <td>Random Forest</td>\n",
       "      <td>MEV: EP</td>\n",
       "      <td>-0.270</td>\n",
       "      <td>0.01</td>\n",
       "      <td>50.77</td>\n",
       "      <td>56.02</td>\n",
       "    </tr>\n",
       "    <tr>\n",
       "      <th>3</th>\n",
       "      <td>Random Forest</td>\n",
       "      <td>MEV: DE</td>\n",
       "      <td>-0.230</td>\n",
       "      <td>0.27</td>\n",
       "      <td>53.09</td>\n",
       "      <td>56.02</td>\n",
       "    </tr>\n",
       "    <tr>\n",
       "      <th>4</th>\n",
       "      <td>Random Forest</td>\n",
       "      <td>MEV: RVOL</td>\n",
       "      <td>-0.150</td>\n",
       "      <td>1.35*</td>\n",
       "      <td>57.72</td>\n",
       "      <td>56.02</td>\n",
       "    </tr>\n",
       "    <tr>\n",
       "      <th>5</th>\n",
       "      <td>Random Forest</td>\n",
       "      <td>MEV: BM</td>\n",
       "      <td>-0.287</td>\n",
       "      <td>-0.16</td>\n",
       "      <td>53.40</td>\n",
       "      <td>56.02</td>\n",
       "    </tr>\n",
       "    <tr>\n",
       "      <th>6</th>\n",
       "      <td>Random Forest</td>\n",
       "      <td>MEV: NTIS</td>\n",
       "      <td>-0.205</td>\n",
       "      <td>-0.02</td>\n",
       "      <td>53.24</td>\n",
       "      <td>56.02</td>\n",
       "    </tr>\n",
       "    <tr>\n",
       "      <th>7</th>\n",
       "      <td>Random Forest</td>\n",
       "      <td>MEV: TBL (ann %)</td>\n",
       "      <td>-0.269</td>\n",
       "      <td>-1.05</td>\n",
       "      <td>54.32</td>\n",
       "      <td>56.02</td>\n",
       "    </tr>\n",
       "    <tr>\n",
       "      <th>8</th>\n",
       "      <td>Random Forest</td>\n",
       "      <td>MEV: LTY (ann %)</td>\n",
       "      <td>-0.332</td>\n",
       "      <td>-0.33</td>\n",
       "      <td>55.25</td>\n",
       "      <td>56.02</td>\n",
       "    </tr>\n",
       "    <tr>\n",
       "      <th>9</th>\n",
       "      <td>Random Forest</td>\n",
       "      <td>MEV: LTR (%)</td>\n",
       "      <td>-0.105</td>\n",
       "      <td>0.76</td>\n",
       "      <td>54.78</td>\n",
       "      <td>56.02</td>\n",
       "    </tr>\n",
       "    <tr>\n",
       "      <th>10</th>\n",
       "      <td>Random Forest</td>\n",
       "      <td>MEV: TMS (ann %)</td>\n",
       "      <td>-0.180</td>\n",
       "      <td>-0.13</td>\n",
       "      <td>52.62</td>\n",
       "      <td>56.02</td>\n",
       "    </tr>\n",
       "    <tr>\n",
       "      <th>11</th>\n",
       "      <td>Random Forest</td>\n",
       "      <td>MEV: DFY (ann %)</td>\n",
       "      <td>-0.175</td>\n",
       "      <td>1.0</td>\n",
       "      <td>53.40</td>\n",
       "      <td>56.02</td>\n",
       "    </tr>\n",
       "    <tr>\n",
       "      <th>12</th>\n",
       "      <td>Random Forest</td>\n",
       "      <td>MEV: DFR (%)</td>\n",
       "      <td>-0.122</td>\n",
       "      <td>0.13</td>\n",
       "      <td>54.63</td>\n",
       "      <td>56.02</td>\n",
       "    </tr>\n",
       "    <tr>\n",
       "      <th>13</th>\n",
       "      <td>Random Forest</td>\n",
       "      <td>MEV: INFL (%)</td>\n",
       "      <td>-0.183</td>\n",
       "      <td>-0.8</td>\n",
       "      <td>53.40</td>\n",
       "      <td>56.02</td>\n",
       "    </tr>\n",
       "  </tbody>\n",
       "</table>\n",
       "</div>"
      ],
      "text/plain": [
       "           Method           Dataset     R2     CW     DA  DA HA\n",
       "0   Random Forest           MEV: DP -0.258   0.51  54.63  56.02\n",
       "1   Random Forest           MEV: DY -0.309  -0.29  54.01  56.02\n",
       "2   Random Forest           MEV: EP -0.270   0.01  50.77  56.02\n",
       "3   Random Forest           MEV: DE -0.230   0.27  53.09  56.02\n",
       "4   Random Forest         MEV: RVOL -0.150  1.35*  57.72  56.02\n",
       "5   Random Forest           MEV: BM -0.287  -0.16  53.40  56.02\n",
       "6   Random Forest         MEV: NTIS -0.205  -0.02  53.24  56.02\n",
       "7   Random Forest  MEV: TBL (ann %) -0.269  -1.05  54.32  56.02\n",
       "8   Random Forest  MEV: LTY (ann %) -0.332  -0.33  55.25  56.02\n",
       "9   Random Forest      MEV: LTR (%) -0.105   0.76  54.78  56.02\n",
       "10  Random Forest  MEV: TMS (ann %) -0.180  -0.13  52.62  56.02\n",
       "11  Random Forest  MEV: DFY (ann %) -0.175    1.0  53.40  56.02\n",
       "12  Random Forest      MEV: DFR (%) -0.122   0.13  54.63  56.02\n",
       "13  Random Forest     MEV: INFL (%) -0.183   -0.8  53.40  56.02"
      ]
     },
     "execution_count": 27,
     "metadata": {},
     "output_type": "execute_result"
    }
   ],
   "source": [
    "resultsMEV"
   ]
  },
  {
   "cell_type": "markdown",
   "metadata": {},
   "source": [
    "### TA Analysis"
   ]
  },
  {
   "cell_type": "code",
   "execution_count": 28,
   "metadata": {},
   "outputs": [],
   "source": [
    "resultsTA = runAnalysisPerVariable(ta, ep, window_size, dataset='TA')"
   ]
  },
  {
   "cell_type": "code",
   "execution_count": 29,
   "metadata": {},
   "outputs": [
    {
     "data": {
      "text/html": [
       "<div>\n",
       "<style scoped>\n",
       "    .dataframe tbody tr th:only-of-type {\n",
       "        vertical-align: middle;\n",
       "    }\n",
       "\n",
       "    .dataframe tbody tr th {\n",
       "        vertical-align: top;\n",
       "    }\n",
       "\n",
       "    .dataframe thead th {\n",
       "        text-align: right;\n",
       "    }\n",
       "</style>\n",
       "<table border=\"1\" class=\"dataframe\">\n",
       "  <thead>\n",
       "    <tr style=\"text-align: right;\">\n",
       "      <th></th>\n",
       "      <th>Method</th>\n",
       "      <th>Dataset</th>\n",
       "      <th>R2</th>\n",
       "      <th>CW</th>\n",
       "      <th>DA</th>\n",
       "      <th>DA HA</th>\n",
       "    </tr>\n",
       "  </thead>\n",
       "  <tbody>\n",
       "    <tr>\n",
       "      <th>0</th>\n",
       "      <td>Random Forest</td>\n",
       "      <td>TA: MA(1,9)</td>\n",
       "      <td>-0.008</td>\n",
       "      <td>0.22</td>\n",
       "      <td>58.80</td>\n",
       "      <td>56.02</td>\n",
       "    </tr>\n",
       "    <tr>\n",
       "      <th>1</th>\n",
       "      <td>Random Forest</td>\n",
       "      <td>TA: MA(1,12)</td>\n",
       "      <td>-0.008</td>\n",
       "      <td>0.33</td>\n",
       "      <td>58.95</td>\n",
       "      <td>56.02</td>\n",
       "    </tr>\n",
       "    <tr>\n",
       "      <th>2</th>\n",
       "      <td>Random Forest</td>\n",
       "      <td>TA: MA(2,9)</td>\n",
       "      <td>-0.007</td>\n",
       "      <td>-0.03</td>\n",
       "      <td>58.18</td>\n",
       "      <td>56.02</td>\n",
       "    </tr>\n",
       "    <tr>\n",
       "      <th>3</th>\n",
       "      <td>Random Forest</td>\n",
       "      <td>TA: MA(2,12)</td>\n",
       "      <td>-0.004</td>\n",
       "      <td>0.67</td>\n",
       "      <td>58.49</td>\n",
       "      <td>56.02</td>\n",
       "    </tr>\n",
       "    <tr>\n",
       "      <th>4</th>\n",
       "      <td>Random Forest</td>\n",
       "      <td>TA: MA(3,9)</td>\n",
       "      <td>-0.008</td>\n",
       "      <td>0.14</td>\n",
       "      <td>59.72</td>\n",
       "      <td>56.02</td>\n",
       "    </tr>\n",
       "    <tr>\n",
       "      <th>5</th>\n",
       "      <td>Random Forest</td>\n",
       "      <td>TA: MA(3,12)</td>\n",
       "      <td>-0.012</td>\n",
       "      <td>-0.55</td>\n",
       "      <td>57.87</td>\n",
       "      <td>56.02</td>\n",
       "    </tr>\n",
       "    <tr>\n",
       "      <th>6</th>\n",
       "      <td>Random Forest</td>\n",
       "      <td>TA: MOM(9)</td>\n",
       "      <td>-0.007</td>\n",
       "      <td>0.12</td>\n",
       "      <td>56.17</td>\n",
       "      <td>56.02</td>\n",
       "    </tr>\n",
       "    <tr>\n",
       "      <th>7</th>\n",
       "      <td>Random Forest</td>\n",
       "      <td>TA: MOM(12)</td>\n",
       "      <td>-0.008</td>\n",
       "      <td>-0.14</td>\n",
       "      <td>56.94</td>\n",
       "      <td>56.02</td>\n",
       "    </tr>\n",
       "    <tr>\n",
       "      <th>8</th>\n",
       "      <td>Random Forest</td>\n",
       "      <td>TA: VOL(1,9)</td>\n",
       "      <td>-0.003</td>\n",
       "      <td>0.45</td>\n",
       "      <td>58.49</td>\n",
       "      <td>56.02</td>\n",
       "    </tr>\n",
       "    <tr>\n",
       "      <th>9</th>\n",
       "      <td>Random Forest</td>\n",
       "      <td>TA: VOL(1,12)</td>\n",
       "      <td>-0.001</td>\n",
       "      <td>1.03</td>\n",
       "      <td>59.88</td>\n",
       "      <td>56.02</td>\n",
       "    </tr>\n",
       "    <tr>\n",
       "      <th>10</th>\n",
       "      <td>Random Forest</td>\n",
       "      <td>TA: VOL(2,9)</td>\n",
       "      <td>-0.007</td>\n",
       "      <td>0.35</td>\n",
       "      <td>58.49</td>\n",
       "      <td>56.02</td>\n",
       "    </tr>\n",
       "    <tr>\n",
       "      <th>11</th>\n",
       "      <td>Random Forest</td>\n",
       "      <td>TA: VOL(2,12)</td>\n",
       "      <td>-0.006</td>\n",
       "      <td>0.64</td>\n",
       "      <td>59.57</td>\n",
       "      <td>56.02</td>\n",
       "    </tr>\n",
       "    <tr>\n",
       "      <th>12</th>\n",
       "      <td>Random Forest</td>\n",
       "      <td>TA: VOL(3,9)</td>\n",
       "      <td>-0.015</td>\n",
       "      <td>-0.21</td>\n",
       "      <td>58.64</td>\n",
       "      <td>56.02</td>\n",
       "    </tr>\n",
       "    <tr>\n",
       "      <th>13</th>\n",
       "      <td>Random Forest</td>\n",
       "      <td>TA: VOL(3,12)</td>\n",
       "      <td>-0.007</td>\n",
       "      <td>0.66</td>\n",
       "      <td>58.64</td>\n",
       "      <td>56.02</td>\n",
       "    </tr>\n",
       "  </tbody>\n",
       "</table>\n",
       "</div>"
      ],
      "text/plain": [
       "           Method        Dataset     R2     CW     DA  DA HA\n",
       "0   Random Forest    TA: MA(1,9) -0.008   0.22  58.80  56.02\n",
       "1   Random Forest   TA: MA(1,12) -0.008   0.33  58.95  56.02\n",
       "2   Random Forest    TA: MA(2,9) -0.007  -0.03  58.18  56.02\n",
       "3   Random Forest   TA: MA(2,12) -0.004   0.67  58.49  56.02\n",
       "4   Random Forest    TA: MA(3,9) -0.008   0.14  59.72  56.02\n",
       "5   Random Forest   TA: MA(3,12) -0.012  -0.55  57.87  56.02\n",
       "6   Random Forest     TA: MOM(9) -0.007   0.12  56.17  56.02\n",
       "7   Random Forest    TA: MOM(12) -0.008  -0.14  56.94  56.02\n",
       "8   Random Forest   TA: VOL(1,9) -0.003   0.45  58.49  56.02\n",
       "9   Random Forest  TA: VOL(1,12) -0.001   1.03  59.88  56.02\n",
       "10  Random Forest   TA: VOL(2,9) -0.007   0.35  58.49  56.02\n",
       "11  Random Forest  TA: VOL(2,12) -0.006   0.64  59.57  56.02\n",
       "12  Random Forest   TA: VOL(3,9) -0.015  -0.21  58.64  56.02\n",
       "13  Random Forest  TA: VOL(3,12) -0.007   0.66  58.64  56.02"
      ]
     },
     "execution_count": 29,
     "metadata": {},
     "output_type": "execute_result"
    }
   ],
   "source": [
    "resultsTA"
   ]
  },
  {
   "cell_type": "code",
   "execution_count": 30,
   "metadata": {},
   "outputs": [],
   "source": [
    "with pd.ExcelWriter('output/RandomForest.xlsx') as writer:\n",
    "    resultsRF.to_excel(writer, sheet_name='Accuracy')\n",
    "    resultsMEV.to_excel(writer, sheet_name='MEV')\n",
    "    resultsTA.to_excel(writer, sheet_name='TA')"
   ]
  },
  {
   "cell_type": "code",
   "execution_count": null,
   "metadata": {},
   "outputs": [],
   "source": []
  },
  {
   "cell_type": "code",
   "execution_count": null,
   "metadata": {},
   "outputs": [],
   "source": []
  },
  {
   "cell_type": "code",
   "execution_count": null,
   "metadata": {},
   "outputs": [],
   "source": []
  },
  {
   "cell_type": "code",
   "execution_count": null,
   "metadata": {},
   "outputs": [],
   "source": []
  }
 ],
 "metadata": {
  "kernelspec": {
   "display_name": "Python 3",
   "language": "python",
   "name": "python3"
  },
  "language_info": {
   "codemirror_mode": {
    "name": "ipython",
    "version": 3
   },
   "file_extension": ".py",
   "mimetype": "text/x-python",
   "name": "python",
   "nbconvert_exporter": "python",
   "pygments_lexer": "ipython3",
   "version": "3.6.10"
  }
 },
 "nbformat": 4,
 "nbformat_minor": 4
}
