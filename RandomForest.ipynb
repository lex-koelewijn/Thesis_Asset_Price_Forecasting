{
 "cells": [
  {
   "cell_type": "code",
   "execution_count": 48,
   "metadata": {},
   "outputs": [],
   "source": [
    "import sklearn\n",
    "import cProfile\n",
    "import pstats\n",
    "import os\n",
    "import pandas as pd\n",
    "import numpy as np\n",
    "from sklearn.ensemble import RandomForestRegressor\n",
    "from sklearn.model_selection import train_test_split\n",
    "from sklearn.preprocessing import StandardScaler\n",
    "from sklearn import metrics\n",
    "from sklearn.decomposition import PCA\n",
    "from utils.dm_test import dm_test\n",
    "from utils.cw_test import clarkWestTest\n",
    "from tqdm.notebook import tqdm #This is not a functional neccesity, but improves the interface. "
   ]
  },
  {
   "cell_type": "code",
   "execution_count": 49,
   "metadata": {},
   "outputs": [],
   "source": [
    "pd.set_option('display.max_columns', None)"
   ]
  },
  {
   "cell_type": "code",
   "execution_count": 50,
   "metadata": {},
   "outputs": [],
   "source": [
    "def createRollingWindow(dataset, look_back = 1):\n",
    "    \"\"\"\n",
    "    Function takes a 2 dimensional array as input and outputs a 2 dimensional array containing rolling windows of the matrix of size [No_Obs - look_back, look_back * No_Vars].\n",
    "    It creates rolling windows through concatenating all variables at time t with all variables at time t+1 etc until you you have reached t+look_back and move to next window. \n",
    "    \"\"\"\n",
    "    X= pd.DataFrame(np.empty((dataset.shape[0] - look_back, dataset.shape[1] * look_back)))\n",
    "    for i in range(dataset.shape[0] - look_back):    \n",
    "        X.iloc[i] = dataset.iloc[i:(i + look_back):].to_numpy().flatten()\n",
    "    return X"
   ]
  },
  {
   "cell_type": "code",
   "execution_count": 51,
   "metadata": {},
   "outputs": [],
   "source": [
    "def createRollingWindow1D(dataset, returns, look_back = 1):\n",
    "    \"\"\"\n",
    "    Function takes a 1 dimensional array as input and outputs a 2 dimensional array containing rolling windows of the series of size look_back. (Where each row is a rolling window)\n",
    "    The corresponding returns (y) will also be shifted to be in line with the look_back variable such that the rolling windows and the 1 month OOS return line up.\n",
    "    \"\"\"\n",
    "    X= pd.DataFrame(np.empty((dataset.shape[0] - look_back, look_back)))\n",
    "    for i in range(dataset.shape[0] - look_back):    \n",
    "        X.iloc[i] = dataset.iloc[i:(i + look_back):].to_numpy().flatten()\n",
    "        \n",
    "    y = returns.shift(periods=-look_back)[:returns.shape[0]-look_back].reset_index(drop=True)['Log equity premium'].astype('float64')\n",
    "#     y = y\n",
    "    return X, y"
   ]
  },
  {
   "cell_type": "code",
   "execution_count": 52,
   "metadata": {},
   "outputs": [],
   "source": [
    "def R2(actual, predicted, average):\n",
    "    \"\"\"\n",
    "    Calculated the R2 score of the vectors containing the actual returns, predicted returns and the average returns. \n",
    "    \"\"\"\n",
    "    SSR = sum((actual-predicted)**2)\n",
    "    SST = sum((actual-average)**2)\n",
    "    return (1- SSR/SST)"
   ]
  },
  {
   "cell_type": "code",
   "execution_count": 53,
   "metadata": {},
   "outputs": [],
   "source": [
    "def significanceLevel(stat, pVal):\n",
    "    \"\"\"\n",
    "    Function to format statistical test results by adding asterisks for the appropriate significance levels and round the numbers. \n",
    "    \"\"\"\n",
    "    if(pVal < 0.01):\n",
    "        return str(round(stat,2)) + '***'\n",
    "    elif(pVal < 0.05):\n",
    "        return str(round(stat,2)) + '**'\n",
    "    elif(pVal < 0.1):\n",
    "        return str(round(stat,2)) + '*'\n",
    "    else:\n",
    "        return str(round(stat,2))"
   ]
  },
  {
   "cell_type": "code",
   "execution_count": 54,
   "metadata": {},
   "outputs": [],
   "source": [
    "def directionalAccuracy(actual, predicted):\n",
    "    \"\"\"\n",
    "    Calculate the directional accuracy of a predicted series compared to the actual series. Output is a value between 0 and 1 representing a percentage.\n",
    "    \"\"\"\n",
    "    return round(sum(np.sign(actual) == np.sign(predicted))/actual.shape[0]*100,2)"
   ]
  },
  {
   "cell_type": "code",
   "execution_count": 55,
   "metadata": {},
   "outputs": [],
   "source": [
    "def check_existence_directory(directories):\n",
    "    for direc in directories:\n",
    "        if not os.path.exists(direc):\n",
    "            os.makedirs(direc)"
   ]
  },
  {
   "cell_type": "markdown",
   "metadata": {},
   "source": [
    "## Reading Data\n",
    "First we start with loading the relevant data from the excel to be used in our analyis"
   ]
  },
  {
   "cell_type": "code",
   "execution_count": 56,
   "metadata": {},
   "outputs": [],
   "source": [
    "#Read the equity premium series to a dataframe\n",
    "ep = pd.read_excel('data/Augemented_Formatted_results.xls', sheet_name='Equity premium', skiprows= range(1118,1127,1))[:-1]\n",
    "ep['Date'] = pd.to_datetime(ep['Date'], format='%Y%m')\n",
    "ep = ep.set_index('Date')\n",
    "ep = ep.loc[(ep.index >= '1950-12-01')]"
   ]
  },
  {
   "cell_type": "code",
   "execution_count": 57,
   "metadata": {},
   "outputs": [],
   "source": [
    "#Read the maacroeconomic variables to a dataframe\n",
    "mev = pd.read_excel('data/Augemented_Formatted_results.xls', sheet_name='Macroeconomic variables', \n",
    "                    skiprows= range(1118,1126,1)).fillna(method='bfill')[:-1] #backward fill missing values. \n",
    "mev = mev.loc[:, ~mev.columns.str.match('Unnamed')]  #Remove empty column\n",
    "mev['Date'] = pd.to_datetime(mev['Date'], format='%Y%m') #convert date pandas format\n",
    "mev = mev.set_index('Date') #Set date as index. \n",
    "mev = mev.loc[(mev.index >= '1950-12-01')]"
   ]
  },
  {
   "cell_type": "code",
   "execution_count": 58,
   "metadata": {},
   "outputs": [],
   "source": [
    "ta = pd.read_excel('data/Augemented_Formatted_results.xls', sheet_name='Technical indicators', \n",
    "                    skiprows= range(1118,1119,1))[:-1]\n",
    "ta['Date'] = pd.to_datetime(ta['Date'], format='%Y%m')\n",
    "ta = ta.set_index('Date')\n",
    "ta = ta.loc[(ta.index >= '1950-12-01')]"
   ]
  },
  {
   "cell_type": "markdown",
   "metadata": {},
   "source": [
    "# Random Forest\n",
    "In the code below a random forest setup will first be used for the macro economic variables (MEV) and then for the technical indicators (TA). I will first give a general overview of the setup: \n",
    "\n",
    "A rollwing window with a size of 180 months is used to select the training sample of the data on which we train the model to make the 1 month OOS forecast. Thus for example:\n",
    "1. First rolling window: Train model on MEV data from 1950:12 - 1965:12 and make prediction for 1966:01\n",
    "2. Second rolling window: Train model on MEV data from 1951:01 - 1966:01 and make prediction for 1966:02\n",
    "3. Etc. \n",
    "\n",
    "The model is trained using the vector $z_t$ which contains all the macroeconomic variables at time t as the indepent variables and the return at time $t+1$ is used as the dependent variable. The model tries to find a function for $r_{t+1} = g^*(z_t)$. Thus each rolling window has 180 observations used to train the model and this trained model will then predict the return at time $t+1$.\n",
    "\n",
    "After we have gone through all the data we can look at the accuracy of the model though the $R^2$ metric. Furthermore we can compare the forecasts produced by the model with the historical average through the Diebold Mariano test to see whether the model is significantly better than the historical average benchmark.\n",
    "\n",
    "Below follow first the general functions to train a random forest, analyze the results and some global variables that are set. Then the analysis is done with a number of different setups."
   ]
  },
  {
   "cell_type": "code",
   "execution_count": 59,
   "metadata": {},
   "outputs": [],
   "source": [
    "def trainRandomForest(X_mev, y_mev, window_size):\n",
    "    results_mev = pd.DataFrame(columns=['Date_t', 'Date_t1', 'Actual', 'Pred', 'HA']) \n",
    "\n",
    "    for i in tqdm(range(0, X_mev.shape[0]-window_size)):\n",
    "        #Slice the 180 month rolling window to train the model\n",
    "        X = X_mev.iloc[i:(window_size + i):]\n",
    "        y = y_mev[i:(window_size + i):]\n",
    "\n",
    "        #Get the X and y datapoint at time t (the most recent one) and seperate from the training set. \n",
    "        X_t = X.tail(1)\n",
    "        y_t1 = y.tail(1)\n",
    "        X = X.iloc[:X.shape[0]-1]\n",
    "        y = y.iloc[:y.shape[0]-1]\n",
    "\n",
    "        #Train a random forest model on current slice of data\n",
    "        RF = RandomForestRegressor(n_estimators = 300, max_depth = 6, random_state = 42).fit(X, y)\n",
    "\n",
    "        #Make a 1 month OOS prediction of the current time point t.\n",
    "        y_pred = RF.predict(X_t)\n",
    "\n",
    "        #Calculate the historical average based on all returns in the current window\n",
    "        HA = y.mean()\n",
    "\n",
    "        results_mev = results_mev.append(pd.Series({\n",
    "            'Date_t': X_t.index.format()[0],\n",
    "            'Date_t1': ep.index[window_size+i],\n",
    "            'Actual': y_t1.values.astype('float64')[0],\n",
    "            'Pred': y_pred[0],\n",
    "            'HA': HA\n",
    "        }), ignore_index=True)\n",
    "        \n",
    "    return results_mev"
   ]
  },
  {
   "cell_type": "code",
   "execution_count": 60,
   "metadata": {},
   "outputs": [],
   "source": [
    "def analyzeResults(results, resultsRF, method, dataset):\n",
    "    DM = dm_test(results['Actual'].astype(float), results['HA'].astype(float), results['Pred'].astype(float))\n",
    "    CW = clarkWestTest(results['Actual'].astype(float), results['HA'].astype(float), results['Pred'].astype(float))\n",
    "    resultsRF = resultsRF.append(pd.Series({\n",
    "                'Method': method,\n",
    "                'Dataset': dataset,\n",
    "                'R2': round(R2(results.Actual, results.Pred, results.HA) , 3),\n",
    "                'CW': significanceLevel(CW[0], CW[1]),\n",
    "                'DA': directionalAccuracy(results.Actual, results.Pred),\n",
    "                'DA HA': directionalAccuracy(results.Actual, results.HA)\n",
    "            }), ignore_index=True)\n",
    "    return resultsRF"
   ]
  },
  {
   "cell_type": "code",
   "execution_count": 61,
   "metadata": {},
   "outputs": [],
   "source": [
    "window_size = 180\n",
    "resultsRF = pd.DataFrame(columns=['Method', 'Dataset', 'R2', 'CW']) \n",
    "check_existence_directory(['output'])"
   ]
  },
  {
   "cell_type": "markdown",
   "metadata": {},
   "source": [
    "### Macro Economic Variables"
   ]
  },
  {
   "cell_type": "code",
   "execution_count": 62,
   "metadata": {},
   "outputs": [],
   "source": [
    "#Shift y variable by 1 month to the future and remove the last observation of the independent variables. Now X and y line up such that each row in X is at time t\n",
    "# and each row in y with the same index is t+1.\n",
    "y_mev = ep.shift(periods=-1)[:ep.shape[0]-1].reset_index(drop=True)['Log equity premium'].astype('float64')\n",
    "X_mev = mev.iloc[:mev.shape[0]-1]"
   ]
  },
  {
   "cell_type": "code",
   "execution_count": 63,
   "metadata": {},
   "outputs": [],
   "source": [
    "# Check if we have the stored results available. If not then we train the model and save the results.\n",
    "try: \n",
    "    results_mev = pd.read_parquet('output/RF_MEV.gzip')\n",
    "except:\n",
    "    print('No saved results found, running model estimation.')\n",
    "    results_mev = trainRandomForest(X_mev, y_mev, window_size)\n",
    "    results_mev.to_parquet('output/RF_MEV.gzip', compression='gzip')"
   ]
  },
  {
   "cell_type": "code",
   "execution_count": 64,
   "metadata": {},
   "outputs": [],
   "source": [
    "resultsRF = analyzeResults(results_mev, resultsRF, method = 'Random Forest', dataset = 'MEV')"
   ]
  },
  {
   "cell_type": "markdown",
   "metadata": {},
   "source": [
    "### Technical Indiciators\n"
   ]
  },
  {
   "cell_type": "code",
   "execution_count": 65,
   "metadata": {},
   "outputs": [],
   "source": [
    "#Shift y variable by 1 month to the future and remove the last observation of the independent variables. Now X and y line up such that each row in X is at time t\n",
    "# and each row in y with the same index is t+1.\n",
    "y_ta = ep.shift(periods=-1)[:ep.shape[0]-1].reset_index(drop=True)['Log equity premium'].astype('float64')\n",
    "X_ta = ta.iloc[:ta.shape[0]-1]"
   ]
  },
  {
   "cell_type": "code",
   "execution_count": 66,
   "metadata": {},
   "outputs": [],
   "source": [
    "# Check if we have the stored results available. If not then we train the model and save the results.\n",
    "try: \n",
    "    results_ta = pd.read_parquet('output/RF_TA.gzip')\n",
    "except:\n",
    "    print('No saved results found, running model estimation.')\n",
    "    results_ta = trainRandomForest(X_ta, y_ta, window_size)\n",
    "    results_ta.to_parquet('output/RF_TA.gzip', compression='gzip')"
   ]
  },
  {
   "cell_type": "code",
   "execution_count": 67,
   "metadata": {},
   "outputs": [],
   "source": [
    "resultsRF = analyzeResults(results_ta, resultsRF, method = 'Random Forest', dataset = 'TA')"
   ]
  },
  {
   "cell_type": "markdown",
   "metadata": {},
   "source": [
    "### All Variables"
   ]
  },
  {
   "cell_type": "code",
   "execution_count": 68,
   "metadata": {},
   "outputs": [],
   "source": [
    "X_all = pd.DataFrame()\n",
    "X_all = pd.concat([X_mev,X_ta], ignore_index = False, axis =1)\n",
    "y_all = y_mev"
   ]
  },
  {
   "cell_type": "code",
   "execution_count": 69,
   "metadata": {},
   "outputs": [],
   "source": [
    "# Check if we have the stored results available. If not then we train the model and save the results.\n",
    "try: \n",
    "    results_all = pd.read_parquet('output/RF_ALL.gzip')\n",
    "except:\n",
    "    print('No saved results found, running model estimation.')\n",
    "    results_all = trainRandomForest(X_all, y_all, window_size)\n",
    "    results_all.to_parquet('output/RF_ALL.gzip', compression='gzip')"
   ]
  },
  {
   "cell_type": "code",
   "execution_count": 70,
   "metadata": {},
   "outputs": [],
   "source": [
    "resultsRF = analyzeResults(results_all, resultsRF, method = 'Random Forest', dataset = 'ALL')"
   ]
  },
  {
   "cell_type": "markdown",
   "metadata": {},
   "source": [
    "# Principal Components Analysis\n",
    "### Macro Economic Variables"
   ]
  },
  {
   "cell_type": "code",
   "execution_count": 71,
   "metadata": {},
   "outputs": [],
   "source": [
    "pca = PCA(n_components=3, svd_solver='full')\n",
    "scalerX = StandardScaler()\n",
    "X_mev_pca = scalerX.fit_transform(X_mev, y_mev)\n",
    "X_mev_pca = pd.DataFrame(pca.fit_transform(X_mev_pca))"
   ]
  },
  {
   "cell_type": "code",
   "execution_count": 72,
   "metadata": {},
   "outputs": [],
   "source": [
    "# Check if we have the stored results available. If not then we train the model and save the results.\n",
    "try: \n",
    "    results_mev_pca = pd.read_parquet('output/RF_MEV_PCA.gzip')\n",
    "except:\n",
    "    print('No saved results found, running model estimation.')\n",
    "    results_mev_pca = trainRandomForest(X_mev_pca, y_pca, window_size)\n",
    "    results_mev_pca.to_parquet('output/RF_MEV_PCA.gzip', compression='gzip')"
   ]
  },
  {
   "cell_type": "code",
   "execution_count": 73,
   "metadata": {},
   "outputs": [],
   "source": [
    "resultsRF = analyzeResults(results_mev_pca, resultsRF, method = 'Random Forest', dataset = 'MEV PCA')"
   ]
  },
  {
   "cell_type": "markdown",
   "metadata": {},
   "source": [
    "### Technical Indicators"
   ]
  },
  {
   "cell_type": "code",
   "execution_count": 74,
   "metadata": {},
   "outputs": [],
   "source": [
    "pca = PCA(n_components=3, svd_solver='full')\n",
    "scalerX = StandardScaler()\n",
    "X_ta_pca = scalerX.fit_transform(X_ta, y_ta)\n",
    "X_ta_pca = pd.DataFrame(pca.fit_transform(X_ta_pca))"
   ]
  },
  {
   "cell_type": "code",
   "execution_count": 75,
   "metadata": {},
   "outputs": [],
   "source": [
    "# Check if we have the stored results available. If not then we train the model and save the results.\n",
    "try: \n",
    "    results_ta_pca = pd.read_parquet('output/RF_TA_PCA.gzip')\n",
    "except:\n",
    "    print('No saved results found, running model estimation.')\n",
    "    results_ta_pca = trainRandomForest(X_ta_pca, y_pca, window_size)\n",
    "    results_ta_pca.to_parquet('output/RF_TA_PCA.gzip', compression='gzip')"
   ]
  },
  {
   "cell_type": "code",
   "execution_count": 76,
   "metadata": {},
   "outputs": [],
   "source": [
    "resultsRF = analyzeResults(results_ta_pca, resultsRF, method = 'Random Forest', dataset = 'TA PCA')"
   ]
  },
  {
   "cell_type": "markdown",
   "metadata": {},
   "source": [
    "## Output\n",
    "In the result below the follow elements can be found:\n",
    "* R2 = The out of sample $R^2$ score as defined by eq. 25 in the thesis. A negative value means the models predictions are worse than the historical average benchmark.\n",
    "* DM: The test statistic for a one-sided Diebold Mariano test with its significance level: \n",
    "    * $H_0$: Forcasts of model are worse than historical average or not significantly different from the historical average. \n",
    "    * $H_A$: Forcasts of model are significantly better than historical average. \n",
    "* DA: The directional accuracy of the model in terms of the percentage of predictions that have the correct direction. \n",
    "* DA HA: The directional accuracy of the historical averave in terms of percentage of prediction that have the correct direction."
   ]
  },
  {
   "cell_type": "code",
   "execution_count": 91,
   "metadata": {},
   "outputs": [
    {
     "data": {
      "text/html": [
       "<div>\n",
       "<style scoped>\n",
       "    .dataframe tbody tr th:only-of-type {\n",
       "        vertical-align: middle;\n",
       "    }\n",
       "\n",
       "    .dataframe tbody tr th {\n",
       "        vertical-align: top;\n",
       "    }\n",
       "\n",
       "    .dataframe thead th {\n",
       "        text-align: right;\n",
       "    }\n",
       "</style>\n",
       "<table border=\"1\" class=\"dataframe\">\n",
       "  <thead>\n",
       "    <tr style=\"text-align: right;\">\n",
       "      <th></th>\n",
       "      <th>Method</th>\n",
       "      <th>Dataset</th>\n",
       "      <th>R2</th>\n",
       "      <th>CW</th>\n",
       "      <th>DA</th>\n",
       "      <th>DA HA</th>\n",
       "    </tr>\n",
       "  </thead>\n",
       "  <tbody>\n",
       "    <tr>\n",
       "      <th>0</th>\n",
       "      <td>Random Forest</td>\n",
       "      <td>MEV</td>\n",
       "      <td>-0.147</td>\n",
       "      <td>0.95</td>\n",
       "      <td>54.63</td>\n",
       "      <td>56.02</td>\n",
       "    </tr>\n",
       "    <tr>\n",
       "      <th>1</th>\n",
       "      <td>Random Forest</td>\n",
       "      <td>TA</td>\n",
       "      <td>-0.077</td>\n",
       "      <td>0.55</td>\n",
       "      <td>57.56</td>\n",
       "      <td>56.02</td>\n",
       "    </tr>\n",
       "    <tr>\n",
       "      <th>2</th>\n",
       "      <td>Random Forest</td>\n",
       "      <td>ALL</td>\n",
       "      <td>-0.154</td>\n",
       "      <td>0.76</td>\n",
       "      <td>55.25</td>\n",
       "      <td>56.02</td>\n",
       "    </tr>\n",
       "    <tr>\n",
       "      <th>3</th>\n",
       "      <td>Random Forest</td>\n",
       "      <td>MEV PCA</td>\n",
       "      <td>-0.157</td>\n",
       "      <td>0.96</td>\n",
       "      <td>54.17</td>\n",
       "      <td>56.02</td>\n",
       "    </tr>\n",
       "    <tr>\n",
       "      <th>4</th>\n",
       "      <td>Random Forest</td>\n",
       "      <td>TA PCA</td>\n",
       "      <td>-0.101</td>\n",
       "      <td>-0.67</td>\n",
       "      <td>57.72</td>\n",
       "      <td>56.02</td>\n",
       "    </tr>\n",
       "    <tr>\n",
       "      <th>5</th>\n",
       "      <td>Random Forest</td>\n",
       "      <td>DP test</td>\n",
       "      <td>-0.258</td>\n",
       "      <td>0.51</td>\n",
       "      <td>54.63</td>\n",
       "      <td>56.02</td>\n",
       "    </tr>\n",
       "  </tbody>\n",
       "</table>\n",
       "</div>"
      ],
      "text/plain": [
       "          Method  Dataset     R2     CW     DA  DA HA\n",
       "0  Random Forest      MEV -0.147   0.95  54.63  56.02\n",
       "1  Random Forest       TA -0.077   0.55  57.56  56.02\n",
       "2  Random Forest      ALL -0.154   0.76  55.25  56.02\n",
       "3  Random Forest  MEV PCA -0.157   0.96  54.17  56.02\n",
       "4  Random Forest   TA PCA -0.101  -0.67  57.72  56.02\n",
       "5  Random Forest  DP test -0.258   0.51  54.63  56.02"
      ]
     },
     "execution_count": 91,
     "metadata": {},
     "output_type": "execute_result"
    }
   ],
   "source": [
    "resultsRF"
   ]
  },
  {
   "cell_type": "markdown",
   "metadata": {},
   "source": [
    "# Analysis Per Variable\n",
    "Up till now we have trained models using a vector of all variables at each time point. In the analysis below models will be trained for each variable seperately with the same set up as above. This allows us to observe the predictive power of variables indivdually given the current model architecucture."
   ]
  },
  {
   "cell_type": "code",
   "execution_count": 97,
   "metadata": {},
   "outputs": [],
   "source": [
    "def runAnalysisPerVariable(X_raw, y_raw, window_size, dataset):\n",
    "    # Initialize empty datafram to contain the results. \n",
    "    resultsDF = pd.DataFrame(columns=['Method', 'Dataset', 'R2', 'CW']) \n",
    "\n",
    "    for variable in X_raw.columns:\n",
    "        # Init y\n",
    "        y = y_raw.shift(periods=-1)[:y_raw.shape[0]-1].reset_index(drop=True)['Log equity premium'].astype('float64')\n",
    "\n",
    "        # Select current variable and reshape such that pandas and numpy understand each other. \n",
    "        X = X_raw.iloc[:X_raw.shape[0]-1][variable]\n",
    "        X = pd.DataFrame(X.values.reshape(-1, 1))\n",
    "\n",
    "        # If model has been trained already we load input, otherwise train model. \n",
    "        try: \n",
    "            results = pd.read_parquet('output/RF_' + dataset + '_' + str(variable) + '.gzip')\n",
    "        except:\n",
    "            print('No saved results found, running model estimation.')\n",
    "            results = trainRandomForest(X, y, window_size)\n",
    "            results.to_parquet('output/RF_' + dataset + '_' + str(variable) + '.gzip', compression='gzip')\n",
    "\n",
    "\n",
    "        #Analyze the results\n",
    "        resultsDF = analyzeResults(results, resultsDF, method = 'Random Forest', dataset =   dataset + ': ' + str(variable))\n",
    "    return resultsDF\n",
    "    \n",
    "\n"
   ]
  },
  {
   "cell_type": "markdown",
   "metadata": {},
   "source": [
    "### MEV Analysis"
   ]
  },
  {
   "cell_type": "code",
   "execution_count": 98,
   "metadata": {},
   "outputs": [],
   "source": [
    "resultsMEV = runAnalysisPerVariable(mev, ep, window_size, dataset = 'MEV')"
   ]
  },
  {
   "cell_type": "code",
   "execution_count": 99,
   "metadata": {},
   "outputs": [
    {
     "data": {
      "text/html": [
       "<div>\n",
       "<style scoped>\n",
       "    .dataframe tbody tr th:only-of-type {\n",
       "        vertical-align: middle;\n",
       "    }\n",
       "\n",
       "    .dataframe tbody tr th {\n",
       "        vertical-align: top;\n",
       "    }\n",
       "\n",
       "    .dataframe thead th {\n",
       "        text-align: right;\n",
       "    }\n",
       "</style>\n",
       "<table border=\"1\" class=\"dataframe\">\n",
       "  <thead>\n",
       "    <tr style=\"text-align: right;\">\n",
       "      <th></th>\n",
       "      <th>Method</th>\n",
       "      <th>Dataset</th>\n",
       "      <th>R2</th>\n",
       "      <th>CW</th>\n",
       "      <th>DA</th>\n",
       "      <th>DA HA</th>\n",
       "    </tr>\n",
       "  </thead>\n",
       "  <tbody>\n",
       "    <tr>\n",
       "      <th>0</th>\n",
       "      <td>Random Forest</td>\n",
       "      <td>MEV: DP</td>\n",
       "      <td>-0.258</td>\n",
       "      <td>0.51</td>\n",
       "      <td>54.63</td>\n",
       "      <td>56.02</td>\n",
       "    </tr>\n",
       "    <tr>\n",
       "      <th>1</th>\n",
       "      <td>Random Forest</td>\n",
       "      <td>MEV: DY</td>\n",
       "      <td>-0.309</td>\n",
       "      <td>-0.29</td>\n",
       "      <td>54.01</td>\n",
       "      <td>56.02</td>\n",
       "    </tr>\n",
       "    <tr>\n",
       "      <th>2</th>\n",
       "      <td>Random Forest</td>\n",
       "      <td>MEV: EP</td>\n",
       "      <td>-0.270</td>\n",
       "      <td>0.01</td>\n",
       "      <td>50.77</td>\n",
       "      <td>56.02</td>\n",
       "    </tr>\n",
       "    <tr>\n",
       "      <th>3</th>\n",
       "      <td>Random Forest</td>\n",
       "      <td>MEV: DE</td>\n",
       "      <td>-0.230</td>\n",
       "      <td>0.27</td>\n",
       "      <td>53.09</td>\n",
       "      <td>56.02</td>\n",
       "    </tr>\n",
       "    <tr>\n",
       "      <th>4</th>\n",
       "      <td>Random Forest</td>\n",
       "      <td>MEV: RVOL</td>\n",
       "      <td>-0.150</td>\n",
       "      <td>1.35*</td>\n",
       "      <td>57.72</td>\n",
       "      <td>56.02</td>\n",
       "    </tr>\n",
       "    <tr>\n",
       "      <th>5</th>\n",
       "      <td>Random Forest</td>\n",
       "      <td>MEV: BM</td>\n",
       "      <td>-0.287</td>\n",
       "      <td>-0.16</td>\n",
       "      <td>53.40</td>\n",
       "      <td>56.02</td>\n",
       "    </tr>\n",
       "    <tr>\n",
       "      <th>6</th>\n",
       "      <td>Random Forest</td>\n",
       "      <td>MEV: NTIS</td>\n",
       "      <td>-0.205</td>\n",
       "      <td>-0.02</td>\n",
       "      <td>53.24</td>\n",
       "      <td>56.02</td>\n",
       "    </tr>\n",
       "    <tr>\n",
       "      <th>7</th>\n",
       "      <td>Random Forest</td>\n",
       "      <td>MEV: TBL (ann %)</td>\n",
       "      <td>-0.269</td>\n",
       "      <td>-1.05</td>\n",
       "      <td>54.32</td>\n",
       "      <td>56.02</td>\n",
       "    </tr>\n",
       "    <tr>\n",
       "      <th>8</th>\n",
       "      <td>Random Forest</td>\n",
       "      <td>MEV: LTY (ann %)</td>\n",
       "      <td>-0.332</td>\n",
       "      <td>-0.33</td>\n",
       "      <td>55.25</td>\n",
       "      <td>56.02</td>\n",
       "    </tr>\n",
       "    <tr>\n",
       "      <th>9</th>\n",
       "      <td>Random Forest</td>\n",
       "      <td>MEV: LTR (%)</td>\n",
       "      <td>-0.105</td>\n",
       "      <td>0.76</td>\n",
       "      <td>54.78</td>\n",
       "      <td>56.02</td>\n",
       "    </tr>\n",
       "    <tr>\n",
       "      <th>10</th>\n",
       "      <td>Random Forest</td>\n",
       "      <td>MEV: TMS (ann %)</td>\n",
       "      <td>-0.180</td>\n",
       "      <td>-0.13</td>\n",
       "      <td>52.62</td>\n",
       "      <td>56.02</td>\n",
       "    </tr>\n",
       "    <tr>\n",
       "      <th>11</th>\n",
       "      <td>Random Forest</td>\n",
       "      <td>MEV: DFY (ann %)</td>\n",
       "      <td>-0.175</td>\n",
       "      <td>1.0</td>\n",
       "      <td>53.40</td>\n",
       "      <td>56.02</td>\n",
       "    </tr>\n",
       "    <tr>\n",
       "      <th>12</th>\n",
       "      <td>Random Forest</td>\n",
       "      <td>MEV: DFR (%)</td>\n",
       "      <td>-0.122</td>\n",
       "      <td>0.13</td>\n",
       "      <td>54.63</td>\n",
       "      <td>56.02</td>\n",
       "    </tr>\n",
       "    <tr>\n",
       "      <th>13</th>\n",
       "      <td>Random Forest</td>\n",
       "      <td>MEV: INFL (%)</td>\n",
       "      <td>-0.183</td>\n",
       "      <td>-0.8</td>\n",
       "      <td>53.40</td>\n",
       "      <td>56.02</td>\n",
       "    </tr>\n",
       "    <tr>\n",
       "      <th>14</th>\n",
       "      <td>Random Forest</td>\n",
       "      <td>MEV: Risk-free rate</td>\n",
       "      <td>-0.276</td>\n",
       "      <td>-1.11</td>\n",
       "      <td>54.32</td>\n",
       "      <td>56.02</td>\n",
       "    </tr>\n",
       "    <tr>\n",
       "      <th>15</th>\n",
       "      <td>Random Forest</td>\n",
       "      <td>MEV: 12-month moving sum of earnings</td>\n",
       "      <td>-0.288</td>\n",
       "      <td>-0.69</td>\n",
       "      <td>54.63</td>\n",
       "      <td>56.02</td>\n",
       "    </tr>\n",
       "  </tbody>\n",
       "</table>\n",
       "</div>"
      ],
      "text/plain": [
       "           Method                               Dataset     R2     CW     DA  \\\n",
       "0   Random Forest                               MEV: DP -0.258   0.51  54.63   \n",
       "1   Random Forest                               MEV: DY -0.309  -0.29  54.01   \n",
       "2   Random Forest                               MEV: EP -0.270   0.01  50.77   \n",
       "3   Random Forest                               MEV: DE -0.230   0.27  53.09   \n",
       "4   Random Forest                             MEV: RVOL -0.150  1.35*  57.72   \n",
       "5   Random Forest                               MEV: BM -0.287  -0.16  53.40   \n",
       "6   Random Forest                             MEV: NTIS -0.205  -0.02  53.24   \n",
       "7   Random Forest                      MEV: TBL (ann %) -0.269  -1.05  54.32   \n",
       "8   Random Forest                      MEV: LTY (ann %) -0.332  -0.33  55.25   \n",
       "9   Random Forest                          MEV: LTR (%) -0.105   0.76  54.78   \n",
       "10  Random Forest                      MEV: TMS (ann %) -0.180  -0.13  52.62   \n",
       "11  Random Forest                      MEV: DFY (ann %) -0.175    1.0  53.40   \n",
       "12  Random Forest                          MEV: DFR (%) -0.122   0.13  54.63   \n",
       "13  Random Forest                         MEV: INFL (%) -0.183   -0.8  53.40   \n",
       "14  Random Forest                   MEV: Risk-free rate -0.276  -1.11  54.32   \n",
       "15  Random Forest  MEV: 12-month moving sum of earnings -0.288  -0.69  54.63   \n",
       "\n",
       "    DA HA  \n",
       "0   56.02  \n",
       "1   56.02  \n",
       "2   56.02  \n",
       "3   56.02  \n",
       "4   56.02  \n",
       "5   56.02  \n",
       "6   56.02  \n",
       "7   56.02  \n",
       "8   56.02  \n",
       "9   56.02  \n",
       "10  56.02  \n",
       "11  56.02  \n",
       "12  56.02  \n",
       "13  56.02  \n",
       "14  56.02  \n",
       "15  56.02  "
      ]
     },
     "execution_count": 99,
     "metadata": {},
     "output_type": "execute_result"
    }
   ],
   "source": [
    "resultsMEV"
   ]
  },
  {
   "cell_type": "markdown",
   "metadata": {},
   "source": [
    "### TA Analysis"
   ]
  },
  {
   "cell_type": "code",
   "execution_count": null,
   "metadata": {},
   "outputs": [],
   "source": [
    "resultsTA = runAnalysisPerVariable(ta, ep, window_size, dataset='TA')"
   ]
  },
  {
   "cell_type": "code",
   "execution_count": null,
   "metadata": {},
   "outputs": [],
   "source": [
    "resultsTA"
   ]
  },
  {
   "cell_type": "code",
   "execution_count": 96,
   "metadata": {},
   "outputs": [],
   "source": [
    "with pd.ExcelWriter('output/RandomForest.xlsx') as writer:\n",
    "    resultsRF.to_excel(writer, sheet_name='Accuracy')\n",
    "    resultsMEV.to_excel(writer, sheet_name='MEV')\n",
    "    resultsTA.to_excel(writer, sheet_name='TA')"
   ]
  },
  {
   "cell_type": "code",
   "execution_count": null,
   "metadata": {},
   "outputs": [],
   "source": []
  },
  {
   "cell_type": "code",
   "execution_count": null,
   "metadata": {},
   "outputs": [],
   "source": []
  },
  {
   "cell_type": "code",
   "execution_count": null,
   "metadata": {},
   "outputs": [],
   "source": []
  },
  {
   "cell_type": "code",
   "execution_count": null,
   "metadata": {},
   "outputs": [],
   "source": []
  }
 ],
 "metadata": {
  "kernelspec": {
   "display_name": "Python 3",
   "language": "python",
   "name": "python3"
  },
  "language_info": {
   "codemirror_mode": {
    "name": "ipython",
    "version": 3
   },
   "file_extension": ".py",
   "mimetype": "text/x-python",
   "name": "python",
   "nbconvert_exporter": "python",
   "pygments_lexer": "ipython3",
   "version": "3.6.10"
  }
 },
 "nbformat": 4,
 "nbformat_minor": 4
}
