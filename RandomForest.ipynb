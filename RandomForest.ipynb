{
 "cells": [
  {
   "cell_type": "code",
   "execution_count": 1,
   "metadata": {},
   "outputs": [],
   "source": [
    "import pandas as pd\n",
    "import numpy as np\n",
    "import sklearn\n",
    "from sklearn.ensemble import RandomForestRegressor\n",
    "from sklearn.model_selection import train_test_split\n",
    "from sklearn import metrics\n",
    "from tqdm.notebook import tqdm"
   ]
  },
  {
   "cell_type": "code",
   "execution_count": 2,
   "metadata": {},
   "outputs": [],
   "source": [
    "pd.set_option('display.max_columns', None)"
   ]
  },
  {
   "cell_type": "code",
   "execution_count": 3,
   "metadata": {},
   "outputs": [],
   "source": [
    "def createRollingWindow(dataset, look_back = 1):\n",
    "    \"\"\"\n",
    "    Function takes a 2 dimensional array as input and outputs a 2 dimensional array containing rolling windows of the matrix of size [No_Obs - look_back, look_back * No_Vars].\n",
    "    It creates rolling windows through concatenating all variables at time t with all variables at time t+1 etc until you you have reached t+look_back and move to next window. \n",
    "    \"\"\"\n",
    "    X= pd.DataFrame(np.empty((dataset.shape[0] - look_back, dataset.shape[1] * look_back)))\n",
    "    for i in tqdm(range(dataset.shape[0] - look_back)):    \n",
    "        X.iloc[i] = dataset.iloc[i:(i + look_back):].to_numpy().flatten()\n",
    "    return X"
   ]
  },
  {
   "cell_type": "code",
   "execution_count": 4,
   "metadata": {},
   "outputs": [],
   "source": [
    "def createRollingWindow1D(dataset, look_back = 1):\n",
    "    \"\"\"\n",
    "    Function takes a 1 dimensional array as input and outputs a 2 dimensional array containing rolling windows of the series of size look_back.\n",
    "    \"\"\"\n",
    "    X= pd.DataFrame(np.empty((dataset.shape[0] - look_back, look_back)))\n",
    "    for i in tqdm(range(dataset.shape[0] - look_back)):    \n",
    "        X.iloc[i] = dataset.iloc[i:(i + look_back):].to_numpy().flatten()\n",
    "    return X"
   ]
  },
  {
   "cell_type": "markdown",
   "metadata": {},
   "source": [
    "## Reading Data\n",
    "First we start with loading the relevant data from the excel to be used in our analyis"
   ]
  },
  {
   "cell_type": "code",
   "execution_count": 5,
   "metadata": {},
   "outputs": [],
   "source": [
    "#Read the equity premium series to a dataframe\n",
    "ep = pd.read_excel('data/Augemented_Formatted_results.xls', sheet_name='Equity premium', skiprows= range(1118,1127,1))[:-1]\n",
    "ep['Date'] = pd.to_datetime(ep['Date'], format='%Y%m')\n",
    "ep = ep.set_index('Date')\n",
    "ep = ep.loc[(ep.index >= '1950-12-01')]"
   ]
  },
  {
   "cell_type": "code",
   "execution_count": 6,
   "metadata": {},
   "outputs": [],
   "source": [
    "#Read the maacroeconomic variables to a dataframe\n",
    "mev = pd.read_excel('data/Augemented_Formatted_results.xls', sheet_name='Macroeconomic variables', \n",
    "                    skiprows= range(1118,1126,1)).fillna(method='bfill')[:-1] #backward fill missing values. \n",
    "mev = mev.loc[:, ~mev.columns.str.match('Unnamed')]  #Remove empty column\n",
    "mev['Date'] = pd.to_datetime(mev['Date'], format='%Y%m') #convert date pandas format\n",
    "mev = mev.set_index('Date') #Set date as index. \n",
    "mev = mev.loc[(mev.index >= '1950-12-01')]"
   ]
  },
  {
   "cell_type": "code",
   "execution_count": 7,
   "metadata": {},
   "outputs": [],
   "source": [
    "ta = pd.read_excel('data/Augemented_Formatted_results.xls', sheet_name='Technical indicators', \n",
    "                    skiprows= range(1118,1119,1))[:-1]\n",
    "ta['Date'] = pd.to_datetime(ta['Date'], format='%Y%m')\n",
    "ta = ta.set_index('Date')\n",
    "ta = ta.loc[(ta.index >= '1950-12-01')]"
   ]
  },
  {
   "cell_type": "markdown",
   "metadata": {},
   "source": [
    "# Random Forest\n",
    "In the code below we will train a random forest for each macro economic variable and technical indicator separately using a rolling window of the past 12 months for each variable/indicator. The recorded R2 score is based on in sample analysis, but the MAE, MSE and MSE are calculated using out of sample analysis. Thus the random forest is trained ussing rolling windows from 1950:12 to 1965:12 yielding 180-12=168 rolling windows. The model is then assessed in terms of prediction accuracy in MAE, MSE and RMSE using data from 1966:01 to 2019:12 yielding 648 rolling windows. \n",
    "### Macro Economic Variables"
   ]
  },
  {
   "cell_type": "code",
   "execution_count": 8,
   "metadata": {},
   "outputs": [],
   "source": [
    "#Shift equity premiumms such that they correspond to the 1 month out of sample corresponding to each window. \n",
    "y = ep.shift(periods=-12)[:ep.shape[0]-12].reset_index(drop=True)\n",
    "\n",
    "#Convert y to a series with only log equity premium or simple equity premium \n",
    "y = y['Log equity premium'].astype('float64')"
   ]
  },
  {
   "cell_type": "code",
   "execution_count": 9,
   "metadata": {},
   "outputs": [
    {
     "data": {
      "application/vnd.jupyter.widget-view+json": {
       "model_id": "c5889c20dca74cf9ad9d9e03f42b0170",
       "version_major": 2,
       "version_minor": 0
      },
      "text/plain": [
       "HBox(children=(FloatProgress(value=0.0, max=817.0), HTML(value='')))"
      ]
     },
     "metadata": {},
     "output_type": "display_data"
    },
    {
     "name": "stdout",
     "output_type": "stream",
     "text": [
      "\n"
     ]
    },
    {
     "data": {
      "application/vnd.jupyter.widget-view+json": {
       "model_id": "677230c435584dc5b5c2d172115d2453",
       "version_major": 2,
       "version_minor": 0
      },
      "text/plain": [
       "HBox(children=(FloatProgress(value=0.0, max=817.0), HTML(value='')))"
      ]
     },
     "metadata": {},
     "output_type": "display_data"
    },
    {
     "name": "stdout",
     "output_type": "stream",
     "text": [
      "\n"
     ]
    },
    {
     "data": {
      "application/vnd.jupyter.widget-view+json": {
       "model_id": "d4e04e443dc64d15a18abf67c83450c6",
       "version_major": 2,
       "version_minor": 0
      },
      "text/plain": [
       "HBox(children=(FloatProgress(value=0.0, max=817.0), HTML(value='')))"
      ]
     },
     "metadata": {},
     "output_type": "display_data"
    },
    {
     "name": "stdout",
     "output_type": "stream",
     "text": [
      "\n"
     ]
    },
    {
     "data": {
      "application/vnd.jupyter.widget-view+json": {
       "model_id": "10c8d53dee47488385daef6180d54cea",
       "version_major": 2,
       "version_minor": 0
      },
      "text/plain": [
       "HBox(children=(FloatProgress(value=0.0, max=817.0), HTML(value='')))"
      ]
     },
     "metadata": {},
     "output_type": "display_data"
    },
    {
     "name": "stdout",
     "output_type": "stream",
     "text": [
      "\n"
     ]
    },
    {
     "data": {
      "application/vnd.jupyter.widget-view+json": {
       "model_id": "b2a558d01ddd455dbf52e2f4221cf430",
       "version_major": 2,
       "version_minor": 0
      },
      "text/plain": [
       "HBox(children=(FloatProgress(value=0.0, max=817.0), HTML(value='')))"
      ]
     },
     "metadata": {},
     "output_type": "display_data"
    },
    {
     "name": "stdout",
     "output_type": "stream",
     "text": [
      "\n"
     ]
    },
    {
     "data": {
      "application/vnd.jupyter.widget-view+json": {
       "model_id": "acce8c2479974ea8ae9dc21701082645",
       "version_major": 2,
       "version_minor": 0
      },
      "text/plain": [
       "HBox(children=(FloatProgress(value=0.0, max=817.0), HTML(value='')))"
      ]
     },
     "metadata": {},
     "output_type": "display_data"
    },
    {
     "name": "stdout",
     "output_type": "stream",
     "text": [
      "\n"
     ]
    },
    {
     "data": {
      "application/vnd.jupyter.widget-view+json": {
       "model_id": "1a8bace429b24f7582698da67efd6c20",
       "version_major": 2,
       "version_minor": 0
      },
      "text/plain": [
       "HBox(children=(FloatProgress(value=0.0, max=817.0), HTML(value='')))"
      ]
     },
     "metadata": {},
     "output_type": "display_data"
    },
    {
     "name": "stdout",
     "output_type": "stream",
     "text": [
      "\n"
     ]
    },
    {
     "data": {
      "application/vnd.jupyter.widget-view+json": {
       "model_id": "ea6a2e3d75f04d3a8b663d6b82ac912e",
       "version_major": 2,
       "version_minor": 0
      },
      "text/plain": [
       "HBox(children=(FloatProgress(value=0.0, max=817.0), HTML(value='')))"
      ]
     },
     "metadata": {},
     "output_type": "display_data"
    },
    {
     "name": "stdout",
     "output_type": "stream",
     "text": [
      "\n"
     ]
    },
    {
     "data": {
      "application/vnd.jupyter.widget-view+json": {
       "model_id": "16ea254e23ce44a6be9f81f1db31dfa6",
       "version_major": 2,
       "version_minor": 0
      },
      "text/plain": [
       "HBox(children=(FloatProgress(value=0.0, max=817.0), HTML(value='')))"
      ]
     },
     "metadata": {},
     "output_type": "display_data"
    },
    {
     "name": "stdout",
     "output_type": "stream",
     "text": [
      "\n"
     ]
    },
    {
     "data": {
      "application/vnd.jupyter.widget-view+json": {
       "model_id": "3c259b43bb914fb8b1958f8a9ca5a661",
       "version_major": 2,
       "version_minor": 0
      },
      "text/plain": [
       "HBox(children=(FloatProgress(value=0.0, max=817.0), HTML(value='')))"
      ]
     },
     "metadata": {},
     "output_type": "display_data"
    },
    {
     "name": "stdout",
     "output_type": "stream",
     "text": [
      "\n"
     ]
    },
    {
     "data": {
      "application/vnd.jupyter.widget-view+json": {
       "model_id": "5e6bd20c84e94954853388257f7b62fb",
       "version_major": 2,
       "version_minor": 0
      },
      "text/plain": [
       "HBox(children=(FloatProgress(value=0.0, max=817.0), HTML(value='')))"
      ]
     },
     "metadata": {},
     "output_type": "display_data"
    },
    {
     "name": "stdout",
     "output_type": "stream",
     "text": [
      "\n"
     ]
    },
    {
     "data": {
      "application/vnd.jupyter.widget-view+json": {
       "model_id": "2a99f9c7100b42b2807252359ce0218e",
       "version_major": 2,
       "version_minor": 0
      },
      "text/plain": [
       "HBox(children=(FloatProgress(value=0.0, max=817.0), HTML(value='')))"
      ]
     },
     "metadata": {},
     "output_type": "display_data"
    },
    {
     "name": "stdout",
     "output_type": "stream",
     "text": [
      "\n"
     ]
    },
    {
     "data": {
      "application/vnd.jupyter.widget-view+json": {
       "model_id": "edbeead69f9045649b9b929129403887",
       "version_major": 2,
       "version_minor": 0
      },
      "text/plain": [
       "HBox(children=(FloatProgress(value=0.0, max=817.0), HTML(value='')))"
      ]
     },
     "metadata": {},
     "output_type": "display_data"
    },
    {
     "name": "stdout",
     "output_type": "stream",
     "text": [
      "\n"
     ]
    },
    {
     "data": {
      "application/vnd.jupyter.widget-view+json": {
       "model_id": "4f6ad77f8b654f089eb3ee3bbc02de56",
       "version_major": 2,
       "version_minor": 0
      },
      "text/plain": [
       "HBox(children=(FloatProgress(value=0.0, max=817.0), HTML(value='')))"
      ]
     },
     "metadata": {},
     "output_type": "display_data"
    },
    {
     "name": "stdout",
     "output_type": "stream",
     "text": [
      "\n"
     ]
    },
    {
     "data": {
      "application/vnd.jupyter.widget-view+json": {
       "model_id": "81219a371ddf492a898695a0f51181c7",
       "version_major": 2,
       "version_minor": 0
      },
      "text/plain": [
       "HBox(children=(FloatProgress(value=0.0, max=817.0), HTML(value='')))"
      ]
     },
     "metadata": {},
     "output_type": "display_data"
    },
    {
     "name": "stdout",
     "output_type": "stream",
     "text": [
      "\n"
     ]
    },
    {
     "data": {
      "application/vnd.jupyter.widget-view+json": {
       "model_id": "5723df32373f4abc94b6c9d22f64faef",
       "version_major": 2,
       "version_minor": 0
      },
      "text/plain": [
       "HBox(children=(FloatProgress(value=0.0, max=817.0), HTML(value='')))"
      ]
     },
     "metadata": {},
     "output_type": "display_data"
    },
    {
     "name": "stdout",
     "output_type": "stream",
     "text": [
      "\n"
     ]
    }
   ],
   "source": [
    "# Create empty dictionary\n",
    "rollingWindowsMEV = dict()\n",
    "\n",
    "#Fill the dictionairy with the 2D array with rolling windows for each variable. \n",
    "for variable in mev.columns:\n",
    "    rollingWindowsMEV[variable] = createRollingWindow1D(mev[variable], 12)"
   ]
  },
  {
   "cell_type": "code",
   "execution_count": 18,
   "metadata": {},
   "outputs": [],
   "source": [
    "df = pd.DataFrame(columns=['Variable', 'R2', 'MAE', 'MSE', 'RMSE'])\n",
    "\n",
    "for variable in mev.columns:\n",
    "    X_train, X_test, y_train, y_test = train_test_split(rollingWindowsMEV[variable], y, train_size=168, random_state=0, shuffle=False)\n",
    "    reg = RandomForestRegressor(random_state = 42).fit(X_train, y_train)\n",
    "    y_pred = reg.predict(X_test)\n",
    "    df = df.append(pd.Series({'Variable' : variable, \n",
    "                              'R2':  reg.score(X_train, y_train), \n",
    "                              'MAE': metrics.mean_absolute_error(y_test, y_pred),\n",
    "                              'MSE': metrics.mean_squared_error(y_test, y_pred), \n",
    "                              'RMSE': np.sqrt(metrics.mean_squared_error(y_test, y_pred))}), ignore_index=True)"
   ]
  },
  {
   "cell_type": "code",
   "execution_count": 19,
   "metadata": {},
   "outputs": [
    {
     "data": {
      "text/html": [
       "<div>\n",
       "<style scoped>\n",
       "    .dataframe tbody tr th:only-of-type {\n",
       "        vertical-align: middle;\n",
       "    }\n",
       "\n",
       "    .dataframe tbody tr th {\n",
       "        vertical-align: top;\n",
       "    }\n",
       "\n",
       "    .dataframe thead th {\n",
       "        text-align: right;\n",
       "    }\n",
       "</style>\n",
       "<table border=\"1\" class=\"dataframe\">\n",
       "  <thead>\n",
       "    <tr style=\"text-align: right;\">\n",
       "      <th></th>\n",
       "      <th>Variable</th>\n",
       "      <th>R2</th>\n",
       "      <th>MAE</th>\n",
       "      <th>MSE</th>\n",
       "      <th>RMSE</th>\n",
       "    </tr>\n",
       "  </thead>\n",
       "  <tbody>\n",
       "    <tr>\n",
       "      <th>0</th>\n",
       "      <td>DP</td>\n",
       "      <td>0.852684</td>\n",
       "      <td>0.053325</td>\n",
       "      <td>0.004161</td>\n",
       "      <td>0.064506</td>\n",
       "    </tr>\n",
       "    <tr>\n",
       "      <th>1</th>\n",
       "      <td>DY</td>\n",
       "      <td>0.847577</td>\n",
       "      <td>0.051326</td>\n",
       "      <td>0.003833</td>\n",
       "      <td>0.061911</td>\n",
       "    </tr>\n",
       "    <tr>\n",
       "      <th>2</th>\n",
       "      <td>EP</td>\n",
       "      <td>0.854185</td>\n",
       "      <td>0.038757</td>\n",
       "      <td>0.002454</td>\n",
       "      <td>0.049538</td>\n",
       "    </tr>\n",
       "    <tr>\n",
       "      <th>3</th>\n",
       "      <td>DE</td>\n",
       "      <td>0.844104</td>\n",
       "      <td>0.035133</td>\n",
       "      <td>0.002153</td>\n",
       "      <td>0.046395</td>\n",
       "    </tr>\n",
       "    <tr>\n",
       "      <th>4</th>\n",
       "      <td>RVOL</td>\n",
       "      <td>0.831876</td>\n",
       "      <td>0.033817</td>\n",
       "      <td>0.002062</td>\n",
       "      <td>0.045411</td>\n",
       "    </tr>\n",
       "    <tr>\n",
       "      <th>5</th>\n",
       "      <td>BM</td>\n",
       "      <td>0.833905</td>\n",
       "      <td>0.040394</td>\n",
       "      <td>0.002495</td>\n",
       "      <td>0.049947</td>\n",
       "    </tr>\n",
       "    <tr>\n",
       "      <th>6</th>\n",
       "      <td>NTIS</td>\n",
       "      <td>0.851369</td>\n",
       "      <td>0.032983</td>\n",
       "      <td>0.001983</td>\n",
       "      <td>0.044532</td>\n",
       "    </tr>\n",
       "    <tr>\n",
       "      <th>7</th>\n",
       "      <td>TBL (ann %)</td>\n",
       "      <td>0.848862</td>\n",
       "      <td>0.045687</td>\n",
       "      <td>0.003251</td>\n",
       "      <td>0.057021</td>\n",
       "    </tr>\n",
       "    <tr>\n",
       "      <th>8</th>\n",
       "      <td>LTY (ann %)</td>\n",
       "      <td>0.849903</td>\n",
       "      <td>0.045913</td>\n",
       "      <td>0.003166</td>\n",
       "      <td>0.056272</td>\n",
       "    </tr>\n",
       "    <tr>\n",
       "      <th>9</th>\n",
       "      <td>LTR (%)</td>\n",
       "      <td>0.851968</td>\n",
       "      <td>0.034124</td>\n",
       "      <td>0.002075</td>\n",
       "      <td>0.045548</td>\n",
       "    </tr>\n",
       "    <tr>\n",
       "      <th>10</th>\n",
       "      <td>TMS (ann %)</td>\n",
       "      <td>0.846414</td>\n",
       "      <td>0.039303</td>\n",
       "      <td>0.002530</td>\n",
       "      <td>0.050299</td>\n",
       "    </tr>\n",
       "    <tr>\n",
       "      <th>11</th>\n",
       "      <td>DFY (ann %)</td>\n",
       "      <td>0.841523</td>\n",
       "      <td>0.036083</td>\n",
       "      <td>0.002311</td>\n",
       "      <td>0.048077</td>\n",
       "    </tr>\n",
       "    <tr>\n",
       "      <th>12</th>\n",
       "      <td>DFR (%)</td>\n",
       "      <td>0.845467</td>\n",
       "      <td>0.033616</td>\n",
       "      <td>0.002018</td>\n",
       "      <td>0.044918</td>\n",
       "    </tr>\n",
       "    <tr>\n",
       "      <th>13</th>\n",
       "      <td>INFL (%)</td>\n",
       "      <td>0.859927</td>\n",
       "      <td>0.033543</td>\n",
       "      <td>0.001979</td>\n",
       "      <td>0.044490</td>\n",
       "    </tr>\n",
       "    <tr>\n",
       "      <th>14</th>\n",
       "      <td>Risk-free rate</td>\n",
       "      <td>0.848432</td>\n",
       "      <td>0.045639</td>\n",
       "      <td>0.003246</td>\n",
       "      <td>0.056971</td>\n",
       "    </tr>\n",
       "    <tr>\n",
       "      <th>15</th>\n",
       "      <td>12-month moving sum of earnings</td>\n",
       "      <td>0.839806</td>\n",
       "      <td>0.032427</td>\n",
       "      <td>0.001862</td>\n",
       "      <td>0.043149</td>\n",
       "    </tr>\n",
       "  </tbody>\n",
       "</table>\n",
       "</div>"
      ],
      "text/plain": [
       "                           Variable        R2       MAE       MSE      RMSE\n",
       "0                                DP  0.852684  0.053325  0.004161  0.064506\n",
       "1                                DY  0.847577  0.051326  0.003833  0.061911\n",
       "2                                EP  0.854185  0.038757  0.002454  0.049538\n",
       "3                                DE  0.844104  0.035133  0.002153  0.046395\n",
       "4                              RVOL  0.831876  0.033817  0.002062  0.045411\n",
       "5                                BM  0.833905  0.040394  0.002495  0.049947\n",
       "6                              NTIS  0.851369  0.032983  0.001983  0.044532\n",
       "7                       TBL (ann %)  0.848862  0.045687  0.003251  0.057021\n",
       "8                       LTY (ann %)  0.849903  0.045913  0.003166  0.056272\n",
       "9                           LTR (%)  0.851968  0.034124  0.002075  0.045548\n",
       "10                      TMS (ann %)  0.846414  0.039303  0.002530  0.050299\n",
       "11                      DFY (ann %)  0.841523  0.036083  0.002311  0.048077\n",
       "12                          DFR (%)  0.845467  0.033616  0.002018  0.044918\n",
       "13                         INFL (%)  0.859927  0.033543  0.001979  0.044490\n",
       "14                   Risk-free rate  0.848432  0.045639  0.003246  0.056971\n",
       "15  12-month moving sum of earnings  0.839806  0.032427  0.001862  0.043149"
      ]
     },
     "execution_count": 19,
     "metadata": {},
     "output_type": "execute_result"
    }
   ],
   "source": [
    "df"
   ]
  },
  {
   "cell_type": "markdown",
   "metadata": {},
   "source": [
    "### Technical Indiciators\n"
   ]
  },
  {
   "cell_type": "code",
   "execution_count": 12,
   "metadata": {},
   "outputs": [],
   "source": [
    "#Shift equity premiumms such that they correspond to the 1 month out of sample corresponding to each window. \n",
    "y = ep.shift(periods=-12)[:ep.shape[0]-12].reset_index(drop=True)\n",
    "\n",
    "#Convert y to a series with only log equity premium or simple equity premium \n",
    "y = y['Log equity premium'].astype('float64')"
   ]
  },
  {
   "cell_type": "code",
   "execution_count": 13,
   "metadata": {},
   "outputs": [
    {
     "data": {
      "application/vnd.jupyter.widget-view+json": {
       "model_id": "3024727ae6744b9681c84dc6496c8f61",
       "version_major": 2,
       "version_minor": 0
      },
      "text/plain": [
       "HBox(children=(FloatProgress(value=0.0, max=817.0), HTML(value='')))"
      ]
     },
     "metadata": {},
     "output_type": "display_data"
    },
    {
     "name": "stdout",
     "output_type": "stream",
     "text": [
      "\n"
     ]
    },
    {
     "data": {
      "application/vnd.jupyter.widget-view+json": {
       "model_id": "9d8a9133a2af4e299b99b1411d5d28ee",
       "version_major": 2,
       "version_minor": 0
      },
      "text/plain": [
       "HBox(children=(FloatProgress(value=0.0, max=817.0), HTML(value='')))"
      ]
     },
     "metadata": {},
     "output_type": "display_data"
    },
    {
     "name": "stdout",
     "output_type": "stream",
     "text": [
      "\n"
     ]
    },
    {
     "data": {
      "application/vnd.jupyter.widget-view+json": {
       "model_id": "d591976bd7304ad3a9dafd25d04bffbe",
       "version_major": 2,
       "version_minor": 0
      },
      "text/plain": [
       "HBox(children=(FloatProgress(value=0.0, max=817.0), HTML(value='')))"
      ]
     },
     "metadata": {},
     "output_type": "display_data"
    },
    {
     "name": "stdout",
     "output_type": "stream",
     "text": [
      "\n"
     ]
    },
    {
     "data": {
      "application/vnd.jupyter.widget-view+json": {
       "model_id": "2d44dcb2929f4d83bc3c0081929d5fae",
       "version_major": 2,
       "version_minor": 0
      },
      "text/plain": [
       "HBox(children=(FloatProgress(value=0.0, max=817.0), HTML(value='')))"
      ]
     },
     "metadata": {},
     "output_type": "display_data"
    },
    {
     "name": "stdout",
     "output_type": "stream",
     "text": [
      "\n"
     ]
    },
    {
     "data": {
      "application/vnd.jupyter.widget-view+json": {
       "model_id": "959bc0c97a7441dba483f5841d00ad94",
       "version_major": 2,
       "version_minor": 0
      },
      "text/plain": [
       "HBox(children=(FloatProgress(value=0.0, max=817.0), HTML(value='')))"
      ]
     },
     "metadata": {},
     "output_type": "display_data"
    },
    {
     "name": "stdout",
     "output_type": "stream",
     "text": [
      "\n"
     ]
    },
    {
     "data": {
      "application/vnd.jupyter.widget-view+json": {
       "model_id": "206335e80c064292b4d7021ea7448b96",
       "version_major": 2,
       "version_minor": 0
      },
      "text/plain": [
       "HBox(children=(FloatProgress(value=0.0, max=817.0), HTML(value='')))"
      ]
     },
     "metadata": {},
     "output_type": "display_data"
    },
    {
     "name": "stdout",
     "output_type": "stream",
     "text": [
      "\n"
     ]
    },
    {
     "data": {
      "application/vnd.jupyter.widget-view+json": {
       "model_id": "ef2c5bca120c49cdaa17d86bffedd2f1",
       "version_major": 2,
       "version_minor": 0
      },
      "text/plain": [
       "HBox(children=(FloatProgress(value=0.0, max=817.0), HTML(value='')))"
      ]
     },
     "metadata": {},
     "output_type": "display_data"
    },
    {
     "name": "stdout",
     "output_type": "stream",
     "text": [
      "\n"
     ]
    },
    {
     "data": {
      "application/vnd.jupyter.widget-view+json": {
       "model_id": "05a60c86131f486283ec82bb283ea556",
       "version_major": 2,
       "version_minor": 0
      },
      "text/plain": [
       "HBox(children=(FloatProgress(value=0.0, max=817.0), HTML(value='')))"
      ]
     },
     "metadata": {},
     "output_type": "display_data"
    },
    {
     "name": "stdout",
     "output_type": "stream",
     "text": [
      "\n"
     ]
    },
    {
     "data": {
      "application/vnd.jupyter.widget-view+json": {
       "model_id": "1136baf0f4614d1f8797477f6a75fa5a",
       "version_major": 2,
       "version_minor": 0
      },
      "text/plain": [
       "HBox(children=(FloatProgress(value=0.0, max=817.0), HTML(value='')))"
      ]
     },
     "metadata": {},
     "output_type": "display_data"
    },
    {
     "name": "stdout",
     "output_type": "stream",
     "text": [
      "\n"
     ]
    },
    {
     "data": {
      "application/vnd.jupyter.widget-view+json": {
       "model_id": "f3b04640f60a481db8c4a86ec5fc189e",
       "version_major": 2,
       "version_minor": 0
      },
      "text/plain": [
       "HBox(children=(FloatProgress(value=0.0, max=817.0), HTML(value='')))"
      ]
     },
     "metadata": {},
     "output_type": "display_data"
    },
    {
     "name": "stdout",
     "output_type": "stream",
     "text": [
      "\n"
     ]
    },
    {
     "data": {
      "application/vnd.jupyter.widget-view+json": {
       "model_id": "f9a95ee94d3b4bde8b52535b8f4653af",
       "version_major": 2,
       "version_minor": 0
      },
      "text/plain": [
       "HBox(children=(FloatProgress(value=0.0, max=817.0), HTML(value='')))"
      ]
     },
     "metadata": {},
     "output_type": "display_data"
    },
    {
     "name": "stdout",
     "output_type": "stream",
     "text": [
      "\n"
     ]
    },
    {
     "data": {
      "application/vnd.jupyter.widget-view+json": {
       "model_id": "598966556d924927ad94aed1d120c6ad",
       "version_major": 2,
       "version_minor": 0
      },
      "text/plain": [
       "HBox(children=(FloatProgress(value=0.0, max=817.0), HTML(value='')))"
      ]
     },
     "metadata": {},
     "output_type": "display_data"
    },
    {
     "name": "stdout",
     "output_type": "stream",
     "text": [
      "\n"
     ]
    },
    {
     "data": {
      "application/vnd.jupyter.widget-view+json": {
       "model_id": "b84e1a620f164206b6abfd4553fcdd0d",
       "version_major": 2,
       "version_minor": 0
      },
      "text/plain": [
       "HBox(children=(FloatProgress(value=0.0, max=817.0), HTML(value='')))"
      ]
     },
     "metadata": {},
     "output_type": "display_data"
    },
    {
     "name": "stdout",
     "output_type": "stream",
     "text": [
      "\n"
     ]
    },
    {
     "data": {
      "application/vnd.jupyter.widget-view+json": {
       "model_id": "32edb2df17ee4523b3fc65912042b63b",
       "version_major": 2,
       "version_minor": 0
      },
      "text/plain": [
       "HBox(children=(FloatProgress(value=0.0, max=817.0), HTML(value='')))"
      ]
     },
     "metadata": {},
     "output_type": "display_data"
    },
    {
     "name": "stdout",
     "output_type": "stream",
     "text": [
      "\n"
     ]
    }
   ],
   "source": [
    "# Create empty dictionary\n",
    "rollingWindowsTA = dict()\n",
    "\n",
    "#Fill the dictionairy with the 2D array with rolling windows for each variable. \n",
    "for variable in ta.columns:\n",
    "    rollingWindowsTA[variable] = createRollingWindow1D(ta[variable], 12)"
   ]
  },
  {
   "cell_type": "code",
   "execution_count": 14,
   "metadata": {},
   "outputs": [],
   "source": [
    "df = pd.DataFrame(columns=['Variable', 'R2', 'MAE', 'MSE', 'RMSE'])\n",
    "\n",
    "for variable in ta.columns:\n",
    "    X_train, X_test, y_train, y_test = train_test_split(rollingWindowsTA[variable], y, train_size=168, random_state=0, shuffle=False)\n",
    "    reg = RandomForestRegressor(random_state = 42).fit(X_train, y_train)\n",
    "    y_pred = reg.predict(X_test)\n",
    "    df = df.append(pd.Series({'Variable' : variable, \n",
    "                              'R2':  reg.score(X_train, y_train), \n",
    "                              'MAE': metrics.mean_absolute_error(y_test, y_pred),\n",
    "                              'MSE': metrics.mean_squared_error(y_test, y_pred), \n",
    "                              'RMSE': np.sqrt(metrics.mean_squared_error(y_test, y_pred))}), ignore_index=True)"
   ]
  },
  {
   "cell_type": "code",
   "execution_count": 15,
   "metadata": {},
   "outputs": [
    {
     "data": {
      "text/html": [
       "<div>\n",
       "<style scoped>\n",
       "    .dataframe tbody tr th:only-of-type {\n",
       "        vertical-align: middle;\n",
       "    }\n",
       "\n",
       "    .dataframe tbody tr th {\n",
       "        vertical-align: top;\n",
       "    }\n",
       "\n",
       "    .dataframe thead th {\n",
       "        text-align: right;\n",
       "    }\n",
       "</style>\n",
       "<table border=\"1\" class=\"dataframe\">\n",
       "  <thead>\n",
       "    <tr style=\"text-align: right;\">\n",
       "      <th></th>\n",
       "      <th>Variable</th>\n",
       "      <th>R2</th>\n",
       "      <th>MAE</th>\n",
       "      <th>MSE</th>\n",
       "      <th>RMSE</th>\n",
       "    </tr>\n",
       "  </thead>\n",
       "  <tbody>\n",
       "    <tr>\n",
       "      <th>0</th>\n",
       "      <td>MA(1,9)</td>\n",
       "      <td>0.392204</td>\n",
       "      <td>0.035244</td>\n",
       "      <td>0.002182</td>\n",
       "      <td>0.046716</td>\n",
       "    </tr>\n",
       "    <tr>\n",
       "      <th>1</th>\n",
       "      <td>MA(1,12)</td>\n",
       "      <td>0.291008</td>\n",
       "      <td>0.034091</td>\n",
       "      <td>0.002076</td>\n",
       "      <td>0.045561</td>\n",
       "    </tr>\n",
       "    <tr>\n",
       "      <th>2</th>\n",
       "      <td>MA(2,9)</td>\n",
       "      <td>0.318575</td>\n",
       "      <td>0.035857</td>\n",
       "      <td>0.002245</td>\n",
       "      <td>0.047378</td>\n",
       "    </tr>\n",
       "    <tr>\n",
       "      <th>3</th>\n",
       "      <td>MA(2,12)</td>\n",
       "      <td>0.247087</td>\n",
       "      <td>0.035082</td>\n",
       "      <td>0.002215</td>\n",
       "      <td>0.047065</td>\n",
       "    </tr>\n",
       "    <tr>\n",
       "      <th>4</th>\n",
       "      <td>MA(3,9)</td>\n",
       "      <td>0.265368</td>\n",
       "      <td>0.034526</td>\n",
       "      <td>0.002157</td>\n",
       "      <td>0.046446</td>\n",
       "    </tr>\n",
       "    <tr>\n",
       "      <th>5</th>\n",
       "      <td>MA(3,12)</td>\n",
       "      <td>0.239820</td>\n",
       "      <td>0.034605</td>\n",
       "      <td>0.002143</td>\n",
       "      <td>0.046292</td>\n",
       "    </tr>\n",
       "    <tr>\n",
       "      <th>6</th>\n",
       "      <td>MOM(9)</td>\n",
       "      <td>0.355890</td>\n",
       "      <td>0.035246</td>\n",
       "      <td>0.002255</td>\n",
       "      <td>0.047485</td>\n",
       "    </tr>\n",
       "    <tr>\n",
       "      <th>7</th>\n",
       "      <td>MOM(12)</td>\n",
       "      <td>0.322391</td>\n",
       "      <td>0.034443</td>\n",
       "      <td>0.002161</td>\n",
       "      <td>0.046482</td>\n",
       "    </tr>\n",
       "    <tr>\n",
       "      <th>8</th>\n",
       "      <td>VOL(1,9)</td>\n",
       "      <td>0.510372</td>\n",
       "      <td>0.034452</td>\n",
       "      <td>0.002123</td>\n",
       "      <td>0.046074</td>\n",
       "    </tr>\n",
       "    <tr>\n",
       "      <th>9</th>\n",
       "      <td>VOL(1,12)</td>\n",
       "      <td>0.410273</td>\n",
       "      <td>0.034906</td>\n",
       "      <td>0.002182</td>\n",
       "      <td>0.046713</td>\n",
       "    </tr>\n",
       "    <tr>\n",
       "      <th>10</th>\n",
       "      <td>VOL(2,9)</td>\n",
       "      <td>0.317310</td>\n",
       "      <td>0.034354</td>\n",
       "      <td>0.002085</td>\n",
       "      <td>0.045665</td>\n",
       "    </tr>\n",
       "    <tr>\n",
       "      <th>11</th>\n",
       "      <td>VOL(2,12)</td>\n",
       "      <td>0.333641</td>\n",
       "      <td>0.035565</td>\n",
       "      <td>0.002205</td>\n",
       "      <td>0.046953</td>\n",
       "    </tr>\n",
       "    <tr>\n",
       "      <th>12</th>\n",
       "      <td>VOL(3,9)</td>\n",
       "      <td>0.303815</td>\n",
       "      <td>0.033564</td>\n",
       "      <td>0.002014</td>\n",
       "      <td>0.044882</td>\n",
       "    </tr>\n",
       "    <tr>\n",
       "      <th>13</th>\n",
       "      <td>VOL(3,12)</td>\n",
       "      <td>0.270811</td>\n",
       "      <td>0.034155</td>\n",
       "      <td>0.002067</td>\n",
       "      <td>0.045465</td>\n",
       "    </tr>\n",
       "  </tbody>\n",
       "</table>\n",
       "</div>"
      ],
      "text/plain": [
       "     Variable        R2       MAE       MSE      RMSE\n",
       "0     MA(1,9)  0.392204  0.035244  0.002182  0.046716\n",
       "1    MA(1,12)  0.291008  0.034091  0.002076  0.045561\n",
       "2     MA(2,9)  0.318575  0.035857  0.002245  0.047378\n",
       "3    MA(2,12)  0.247087  0.035082  0.002215  0.047065\n",
       "4     MA(3,9)  0.265368  0.034526  0.002157  0.046446\n",
       "5    MA(3,12)  0.239820  0.034605  0.002143  0.046292\n",
       "6      MOM(9)  0.355890  0.035246  0.002255  0.047485\n",
       "7     MOM(12)  0.322391  0.034443  0.002161  0.046482\n",
       "8    VOL(1,9)  0.510372  0.034452  0.002123  0.046074\n",
       "9   VOL(1,12)  0.410273  0.034906  0.002182  0.046713\n",
       "10   VOL(2,9)  0.317310  0.034354  0.002085  0.045665\n",
       "11  VOL(2,12)  0.333641  0.035565  0.002205  0.046953\n",
       "12   VOL(3,9)  0.303815  0.033564  0.002014  0.044882\n",
       "13  VOL(3,12)  0.270811  0.034155  0.002067  0.045465"
      ]
     },
     "execution_count": 15,
     "metadata": {},
     "output_type": "execute_result"
    }
   ],
   "source": [
    "df"
   ]
  },
  {
   "cell_type": "code",
   "execution_count": null,
   "metadata": {},
   "outputs": [],
   "source": []
  },
  {
   "cell_type": "code",
   "execution_count": null,
   "metadata": {},
   "outputs": [],
   "source": []
  },
  {
   "cell_type": "code",
   "execution_count": null,
   "metadata": {},
   "outputs": [],
   "source": []
  }
 ],
 "metadata": {
  "kernelspec": {
   "display_name": "Python 3",
   "language": "python",
   "name": "python3"
  },
  "language_info": {
   "codemirror_mode": {
    "name": "ipython",
    "version": 3
   },
   "file_extension": ".py",
   "mimetype": "text/x-python",
   "name": "python",
   "nbconvert_exporter": "python",
   "pygments_lexer": "ipython3",
   "version": "3.6.10"
  }
 },
 "nbformat": 4,
 "nbformat_minor": 4
}
