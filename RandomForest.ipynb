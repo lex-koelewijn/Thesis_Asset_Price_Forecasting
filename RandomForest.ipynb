{
 "cells": [
  {
   "cell_type": "code",
   "execution_count": 163,
   "metadata": {},
   "outputs": [],
   "source": [
    "import sklearn\n",
    "import cProfile\n",
    "import pstats\n",
    "import os\n",
    "import pandas as pd\n",
    "import numpy as np\n",
    "from sklearn.ensemble import RandomForestRegressor\n",
    "from sklearn.model_selection import train_test_split\n",
    "from sklearn import metrics\n",
    " \n",
    "from utils.dm_test import dm_test\n",
    "from tqdm.notebook import tqdm #This is not a functional neccesity, but improves the interface. "
   ]
  },
  {
   "cell_type": "code",
   "execution_count": 164,
   "metadata": {},
   "outputs": [],
   "source": [
    "pd.set_option('display.max_columns', None)"
   ]
  },
  {
   "cell_type": "code",
   "execution_count": 165,
   "metadata": {},
   "outputs": [],
   "source": [
    "def createRollingWindow(dataset, look_back = 1):\n",
    "    \"\"\"\n",
    "    Function takes a 2 dimensional array as input and outputs a 2 dimensional array containing rolling windows of the matrix of size [No_Obs - look_back, look_back * No_Vars].\n",
    "    It creates rolling windows through concatenating all variables at time t with all variables at time t+1 etc until you you have reached t+look_back and move to next window. \n",
    "    \"\"\"\n",
    "    X= pd.DataFrame(np.empty((dataset.shape[0] - look_back, dataset.shape[1] * look_back)))\n",
    "    for i in range(dataset.shape[0] - look_back):    \n",
    "        X.iloc[i] = dataset.iloc[i:(i + look_back):].to_numpy().flatten()\n",
    "    return X"
   ]
  },
  {
   "cell_type": "code",
   "execution_count": 166,
   "metadata": {},
   "outputs": [],
   "source": [
    "def createRollingWindow1D(dataset, returns, look_back = 1):\n",
    "    \"\"\"\n",
    "    Function takes a 1 dimensional array as input and outputs a 2 dimensional array containing rolling windows of the series of size look_back. (Where each row is a rolling window)\n",
    "    The corresponding returns (y) will also be shifted to be in line with the look_back variable such that the rolling windows and the 1 month OOS return line up.\n",
    "    \"\"\"\n",
    "    X= pd.DataFrame(np.empty((dataset.shape[0] - look_back, look_back)))\n",
    "    for i in range(dataset.shape[0] - look_back):    \n",
    "        X.iloc[i] = dataset.iloc[i:(i + look_back):].to_numpy().flatten()\n",
    "        \n",
    "    y = returns.shift(periods=-look_back)[:returns.shape[0]-look_back].reset_index(drop=True)['Log equity premium'].astype('float64')\n",
    "#     y = y\n",
    "    return X, y"
   ]
  },
  {
   "cell_type": "code",
   "execution_count": 167,
   "metadata": {},
   "outputs": [],
   "source": [
    "def R2(actual, predicted, average):\n",
    "    \"\"\"\n",
    "    Calculated the R2 score of the vectors containing the actual returns, predicted returns and the average returns. \n",
    "    \"\"\"\n",
    "    SSR = sum((actual-predicted)**2)\n",
    "    SST = sum((actual-average)**2)\n",
    "    return (1- SSR/SST)"
   ]
  },
  {
   "cell_type": "code",
   "execution_count": 168,
   "metadata": {},
   "outputs": [],
   "source": [
    "def significanceLevel(stat, pVal):\n",
    "    \"\"\"\n",
    "    Function to format statistical test results by adding asterisks for the appropriate significance levels and round the numbers. \n",
    "    \"\"\"\n",
    "    if(pVal < 0.01):\n",
    "        return str(round(stat,2)) + '***'\n",
    "    elif(pVal < 0.05):\n",
    "        return str(round(stat,2)) + '**'\n",
    "    elif(pVal < 0.1):\n",
    "        return str(round(stat,2)) + '*'\n",
    "    else:\n",
    "        return str(round(stat,2))"
   ]
  },
  {
   "cell_type": "code",
   "execution_count": 169,
   "metadata": {},
   "outputs": [],
   "source": [
    "def directionalAccuracy(actual, predicted):\n",
    "    \"\"\"\n",
    "    Calculate the directional accuracy of a predicted series compared to the actual series. Output is a value between 0 and 1 representing a percentage.\n",
    "    \"\"\"\n",
    "    return round(sum(np.sign(actual) == np.sign(predicted))/actual.shape[0]*100,2)"
   ]
  },
  {
   "cell_type": "code",
   "execution_count": 170,
   "metadata": {},
   "outputs": [],
   "source": [
    "def check_existence_directory(directories):\n",
    "    for direc in directories:\n",
    "        if not os.path.exists(direc):\n",
    "            os.makedirs(direc)"
   ]
  },
  {
   "cell_type": "markdown",
   "metadata": {},
   "source": [
    "## Reading Data\n",
    "First we start with loading the relevant data from the excel to be used in our analyis"
   ]
  },
  {
   "cell_type": "code",
   "execution_count": 171,
   "metadata": {},
   "outputs": [],
   "source": [
    "#Read the equity premium series to a dataframe\n",
    "ep = pd.read_excel('data/Augemented_Formatted_results.xls', sheet_name='Equity premium', skiprows= range(1118,1127,1))[:-1]\n",
    "ep['Date'] = pd.to_datetime(ep['Date'], format='%Y%m')\n",
    "ep = ep.set_index('Date')\n",
    "ep = ep.loc[(ep.index >= '1950-12-01')]"
   ]
  },
  {
   "cell_type": "code",
   "execution_count": 172,
   "metadata": {},
   "outputs": [],
   "source": [
    "#Read the maacroeconomic variables to a dataframe\n",
    "mev = pd.read_excel('data/Augemented_Formatted_results.xls', sheet_name='Macroeconomic variables', \n",
    "                    skiprows= range(1118,1126,1)).fillna(method='bfill')[:-1] #backward fill missing values. \n",
    "mev = mev.loc[:, ~mev.columns.str.match('Unnamed')]  #Remove empty column\n",
    "mev['Date'] = pd.to_datetime(mev['Date'], format='%Y%m') #convert date pandas format\n",
    "mev = mev.set_index('Date') #Set date as index. \n",
    "mev = mev.loc[(mev.index >= '1950-12-01')]"
   ]
  },
  {
   "cell_type": "code",
   "execution_count": 173,
   "metadata": {},
   "outputs": [],
   "source": [
    "ta = pd.read_excel('data/Augemented_Formatted_results.xls', sheet_name='Technical indicators', \n",
    "                    skiprows= range(1118,1119,1))[:-1]\n",
    "ta['Date'] = pd.to_datetime(ta['Date'], format='%Y%m')\n",
    "ta = ta.set_index('Date')\n",
    "ta = ta.loc[(ta.index >= '1950-12-01')]"
   ]
  },
  {
   "cell_type": "markdown",
   "metadata": {},
   "source": [
    "# Random Forest\n",
    "In the code below a random forest setup will first be used for the macro economic variables (MEV) and then for the technical indicators (TA). I will first give a general overview of the setup: \n",
    "\n",
    "A rollwing window with a size of 180 months is used to select the training sample of the data on which we train the model to make the 1 month OOS forecast. Thus for example:\n",
    "1. First rolling window: Train model on MEV data from 1950:12 - 1965:12 and make prediction for 1966:01\n",
    "2. Second rolling window: Train model on MEV data from 1951:01 - 1966:01 and make prediction for 1966:02\n",
    "3. Etc. \n",
    "\n",
    "The model is trained using the vector $z_t$ which contains all the macroeconomic variables at time t as the indepent variables and the return at time $t+1$ is used as the dependent variable. The model tries to find a function for $r_{t+1} = g^*(z_t)$. Thus each rolling window has 180 observations used to train the model and this trained model will then predict the return at time $t+1$.\n",
    "\n",
    "After we have gone through all the data we can look at the accuracy of the model though the $R^2$ metric. Furthermore we can compare the forecasts produced by the model with the historical average through the Diebold Mariano test to see whether the model is significantly better than the historical average benchmark.\n",
    "\n",
    "Below follow first the general functions to train a random forest, analyze the results and some global variables that are set. Then the analysis is done with a number of different setups."
   ]
  },
  {
   "cell_type": "code",
   "execution_count": 174,
   "metadata": {},
   "outputs": [],
   "source": [
    "def trainRandomForest(X_mev, y_mev, window_size):\n",
    "    results_mev = pd.DataFrame(columns=['Date_t', 'Date_t1', 'Actual', 'Pred', 'HA']) \n",
    "\n",
    "    for i in tqdm(range(0, X_mev.shape[0]-window_size)):\n",
    "        #Slice the 180 month rolling window to train the model\n",
    "        X = X_mev.iloc[i:(window_size + i):]\n",
    "        y = y_mev[i:(window_size + i):]\n",
    "\n",
    "        #Get the X and y datapoint at time t (the most recent one) and seperate from the training set. \n",
    "        X_t = X.tail(1)\n",
    "        y_t1 = y.tail(1)\n",
    "        X = X.iloc[:X.shape[0]-1]\n",
    "        y = y.iloc[:y.shape[0]-1]\n",
    "\n",
    "        #Train a random forest model on current slice of data\n",
    "        RF = RandomForestRegressor(n_estimators = 300, max_depth = 6, random_state = 42).fit(X, y)\n",
    "\n",
    "        #Make a 1 month OOS prediction of the current time point t.\n",
    "        y_pred = RF.predict(X_t)\n",
    "\n",
    "        #Calculate the historical average based on all returns in the current window\n",
    "        HA = y.mean()\n",
    "\n",
    "        results_mev = results_mev.append(pd.Series({\n",
    "            'Date_t': X_t.index.format()[0],\n",
    "            'Date_t1': ep.index[window_size+i],\n",
    "            'Actual': y_t1.values.astype('float64')[0],\n",
    "            'Pred': y_pred[0],\n",
    "            'HA': HA\n",
    "        }), ignore_index=True)\n",
    "        \n",
    "    return results_mev"
   ]
  },
  {
   "cell_type": "code",
   "execution_count": 175,
   "metadata": {},
   "outputs": [],
   "source": [
    "def analyzeResults(results, resultsRF, method, dataset):\n",
    "    DM = dm_test(results['Actual'].astype(float), results['HA'].astype(float), results['Pred'].astype(float))\n",
    "    resultsRF = resultsRF.append(pd.Series({\n",
    "                'Method': method,\n",
    "                'Dataset': dataset,\n",
    "                'R2': round(R2(results.Actual, results.Pred, results.HA) , 3),\n",
    "                'DM': significanceLevel(DM[0], DM[1]),\n",
    "                'DA': directionalAccuracy(results.Actual, results.Pred),\n",
    "                'DA HA': directionalAccuracy(results.Actual, results.HA)\n",
    "            }), ignore_index=True)\n",
    "    return resultsRF"
   ]
  },
  {
   "cell_type": "code",
   "execution_count": 176,
   "metadata": {},
   "outputs": [],
   "source": [
    "window_size = 180\n",
    "resultsRF = pd.DataFrame(columns=['Method', 'Dataset', 'R2', 'DM']) \n",
    "check_existence_directory(['output'])"
   ]
  },
  {
   "cell_type": "markdown",
   "metadata": {},
   "source": [
    "### Macro Economic Variables"
   ]
  },
  {
   "cell_type": "code",
   "execution_count": 177,
   "metadata": {},
   "outputs": [],
   "source": [
    "#Shift y variable by 1 month to the future and remove the last observation of the independent variables. Now X and y line up such that each row in X is at time t\n",
    "# and each row in y with the same index is t+1.\n",
    "y_mev = ep.shift(periods=-1)[:ep.shape[0]-1].reset_index(drop=True)['Log equity premium'].astype('float64')\n",
    "X_mev = mev.iloc[:mev.shape[0]-1]"
   ]
  },
  {
   "cell_type": "code",
   "execution_count": 178,
   "metadata": {},
   "outputs": [],
   "source": [
    "# Check if we have the stored results available. If not then we train the model and save the results.\n",
    "try: \n",
    "    results_mev = pd.read_parquet('output/RF_MEV.gzip')\n",
    "except:\n",
    "    print('No saved results found, running model estimation.')\n",
    "    results_mev = trainRandomForest(X_mev, y_mev, window_size)\n",
    "    results_mev.to_parquet('output/RF_MEV.gzip', compression='gzip')"
   ]
  },
  {
   "cell_type": "code",
   "execution_count": 179,
   "metadata": {},
   "outputs": [],
   "source": [
    "resultsRF = analyzeResults(results_mev, resultsRF, method = 'Random Forest', dataset = 'MEV')"
   ]
  },
  {
   "cell_type": "markdown",
   "metadata": {},
   "source": [
    "### Technical Indiciators\n"
   ]
  },
  {
   "cell_type": "code",
   "execution_count": 180,
   "metadata": {},
   "outputs": [],
   "source": [
    "#Shift y variable by 1 month to the future and remove the last observation of the independent variables. Now X and y line up such that each row in X is at time t\n",
    "# and each row in y with the same index is t+1.\n",
    "y_ta = ep.shift(periods=-1)[:ep.shape[0]-1].reset_index(drop=True)['Log equity premium'].astype('float64')\n",
    "X_ta = ta.iloc[:ta.shape[0]-1]"
   ]
  },
  {
   "cell_type": "code",
   "execution_count": 181,
   "metadata": {},
   "outputs": [],
   "source": [
    "# Check if we have the stored results available. If not then we train the model and save the results.\n",
    "try: \n",
    "    results_ta = pd.read_parquet('output/RF_TA.gzip')\n",
    "except:\n",
    "    print('No saved results found, running model estimation.')\n",
    "    results_ta = trainRandomForest(X_ta, y_ta, window_size)\n",
    "    results_ta.to_parquet('output/RF_TA.gzip', compression='gzip')"
   ]
  },
  {
   "cell_type": "code",
   "execution_count": 182,
   "metadata": {},
   "outputs": [],
   "source": [
    "resultsRF = analyzeResults(results_ta, resultsRF, method = 'Random Forest', dataset = 'TA')"
   ]
  },
  {
   "cell_type": "code",
   "execution_count": 183,
   "metadata": {},
   "outputs": [],
   "source": [
    "with pd.ExcelWriter('output/RandomForest.xlsx') as writer:\n",
    "    resultsRF.to_excel(writer, sheet_name='Accuracy')"
   ]
  },
  {
   "cell_type": "markdown",
   "metadata": {},
   "source": [
    "# Principal Components Analysis\n",
    "### Macro Economic Variables"
   ]
  },
  {
   "cell_type": "code",
   "execution_count": 184,
   "metadata": {},
   "outputs": [],
   "source": [
    "pca = PCA(n_components=3, svd_solver='full')\n",
    "X_mev_pca = pd.DataFrame(pca.fit_transform(X_mev))"
   ]
  },
  {
   "cell_type": "code",
   "execution_count": 185,
   "metadata": {},
   "outputs": [],
   "source": [
    "# Check if we have the stored results available. If not then we train the model and save the results.\n",
    "try: \n",
    "    results_mev_pca = pd.read_parquet('output/RF_MEV_PCA.gzip')\n",
    "except:\n",
    "    print('No saved results found, running model estimation.')\n",
    "    results_mev_pca = trainRandomForest(X_mev_pca, y_mev, window_size)\n",
    "    results_mev_pca.to_parquet('output/RF_MEV_PCA.gzip', compression='gzip')"
   ]
  },
  {
   "cell_type": "code",
   "execution_count": 186,
   "metadata": {},
   "outputs": [],
   "source": [
    "resultsRF = analyzeResults(results_mev_pca, resultsRF, method = 'Random Forest', dataset = 'MEV PCA')"
   ]
  },
  {
   "cell_type": "markdown",
   "metadata": {},
   "source": [
    "### Technical Indicators"
   ]
  },
  {
   "cell_type": "code",
   "execution_count": 187,
   "metadata": {},
   "outputs": [],
   "source": [
    "pca = PCA(n_components=3, svd_solver='full')\n",
    "X_ta_pca = pd.DataFrame(pca.fit_transform(X_ta))"
   ]
  },
  {
   "cell_type": "code",
   "execution_count": 188,
   "metadata": {},
   "outputs": [],
   "source": [
    "# Check if we have the stored results available. If not then we train the model and save the results.\n",
    "try: \n",
    "    results_ta_pca = pd.read_parquet('output/RF_TA_PCA.gzip')\n",
    "except:\n",
    "    print('No saved results found, running model estimation.')\n",
    "    results_ta_pca = trainRandomForest(X_ta_pca, y_ta, window_size)\n",
    "    results_ta_pca.to_parquet('output/RF_TA_PCA.gzip', compression='gzip')"
   ]
  },
  {
   "cell_type": "code",
   "execution_count": 189,
   "metadata": {},
   "outputs": [],
   "source": [
    "resultsRF = analyzeResults(results_ta_pca, resultsRF, method = 'Random Forest', dataset = 'TA PCA')"
   ]
  },
  {
   "cell_type": "markdown",
   "metadata": {},
   "source": [
    "## Output\n",
    "In the result below the follow elements can be found:\n",
    "* R2 = The out of sample $R^2$ score as defined by eq. 25 in the thesis. A negative value means the models predictions are worse than the historical average benchmark.\n",
    "* DM: The test statistic for a one-sided Diebold Mariano test with its significance level: \n",
    "    * $H_0$: Forcasts of model are worse than historical average or not significantly different from the historical average. \n",
    "    * $H_A$: Forcasts of model are significantly better than historical average. \n",
    "* DA: The directional accuracy of the model in terms of the percentage of predictions that have the correct direction. \n",
    "* DA HA: The directional accuracy of the historical averave in terms of percentage of prediction that have the correct direction."
   ]
  },
  {
   "cell_type": "code",
   "execution_count": 190,
   "metadata": {},
   "outputs": [
    {
     "data": {
      "text/html": [
       "<div>\n",
       "<style scoped>\n",
       "    .dataframe tbody tr th:only-of-type {\n",
       "        vertical-align: middle;\n",
       "    }\n",
       "\n",
       "    .dataframe tbody tr th {\n",
       "        vertical-align: top;\n",
       "    }\n",
       "\n",
       "    .dataframe thead th {\n",
       "        text-align: right;\n",
       "    }\n",
       "</style>\n",
       "<table border=\"1\" class=\"dataframe\">\n",
       "  <thead>\n",
       "    <tr style=\"text-align: right;\">\n",
       "      <th></th>\n",
       "      <th>Method</th>\n",
       "      <th>Dataset</th>\n",
       "      <th>R2</th>\n",
       "      <th>DM</th>\n",
       "      <th>DA</th>\n",
       "      <th>DA HA</th>\n",
       "    </tr>\n",
       "  </thead>\n",
       "  <tbody>\n",
       "    <tr>\n",
       "      <th>0</th>\n",
       "      <td>Random Forest</td>\n",
       "      <td>MEV</td>\n",
       "      <td>-0.147</td>\n",
       "      <td>-3.0</td>\n",
       "      <td>54.63</td>\n",
       "      <td>56.02</td>\n",
       "    </tr>\n",
       "    <tr>\n",
       "      <th>1</th>\n",
       "      <td>Random Forest</td>\n",
       "      <td>TA</td>\n",
       "      <td>-0.077</td>\n",
       "      <td>-2.59</td>\n",
       "      <td>57.56</td>\n",
       "      <td>56.02</td>\n",
       "    </tr>\n",
       "    <tr>\n",
       "      <th>2</th>\n",
       "      <td>Random Forest</td>\n",
       "      <td>MEV PCA</td>\n",
       "      <td>-0.207</td>\n",
       "      <td>-3.96</td>\n",
       "      <td>53.86</td>\n",
       "      <td>56.02</td>\n",
       "    </tr>\n",
       "    <tr>\n",
       "      <th>3</th>\n",
       "      <td>Random Forest</td>\n",
       "      <td>TA PCA</td>\n",
       "      <td>-0.108</td>\n",
       "      <td>-3.56</td>\n",
       "      <td>57.72</td>\n",
       "      <td>56.02</td>\n",
       "    </tr>\n",
       "  </tbody>\n",
       "</table>\n",
       "</div>"
      ],
      "text/plain": [
       "          Method  Dataset     R2     DM     DA  DA HA\n",
       "0  Random Forest      MEV -0.147   -3.0  54.63  56.02\n",
       "1  Random Forest       TA -0.077  -2.59  57.56  56.02\n",
       "2  Random Forest  MEV PCA -0.207  -3.96  53.86  56.02\n",
       "3  Random Forest   TA PCA -0.108  -3.56  57.72  56.02"
      ]
     },
     "execution_count": 190,
     "metadata": {},
     "output_type": "execute_result"
    }
   ],
   "source": [
    "resultsRF"
   ]
  },
  {
   "cell_type": "code",
   "execution_count": null,
   "metadata": {},
   "outputs": [],
   "source": []
  }
 ],
 "metadata": {
  "kernelspec": {
   "display_name": "Python 3",
   "language": "python",
   "name": "python3"
  },
  "language_info": {
   "codemirror_mode": {
    "name": "ipython",
    "version": 3
   },
   "file_extension": ".py",
   "mimetype": "text/x-python",
   "name": "python",
   "nbconvert_exporter": "python",
   "pygments_lexer": "ipython3",
   "version": "3.6.10"
  }
 },
 "nbformat": 4,
 "nbformat_minor": 4
}
