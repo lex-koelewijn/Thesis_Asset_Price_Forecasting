{
 "cells": [
  {
   "cell_type": "code",
   "execution_count": 231,
   "metadata": {},
   "outputs": [],
   "source": [
    "import pandas as pd\n",
    "import numpy as np\n",
    "import sklearn\n",
    "from sklearn.linear_model import LinearRegression\n",
    "from sklearn.model_selection import train_test_split\n",
    "from tqdm.notebook import tqdm"
   ]
  },
  {
   "cell_type": "code",
   "execution_count": 232,
   "metadata": {},
   "outputs": [],
   "source": [
    "pd.set_option('display.max_columns', None)"
   ]
  },
  {
   "cell_type": "code",
   "execution_count": 233,
   "metadata": {},
   "outputs": [],
   "source": [
    "def createRollingWindow(dataset, look_back = 1):\n",
    "    \"\"\"\n",
    "    Function takes a 2 dimensional array as input and outputs a 2 dimensional array containing rolling windows of the matrix of size [No_Obs - look_back, look_back * No_Vars].\n",
    "    It creates rolling windows through concatenating all variables at time t with all variables at time t+1 etc until you you have reached t+look_back and move to next window. \n",
    "    \"\"\"\n",
    "    X= pd.DataFrame(np.empty((dataset.shape[0] - look_back, dataset.shape[1] * look_back)))\n",
    "    for i in tqdm(range(dataset.shape[0] - look_back)):    \n",
    "        X.iloc[i] = dataset.iloc[i:(i + look_back):].to_numpy().flatten()\n",
    "    return X"
   ]
  },
  {
   "cell_type": "code",
   "execution_count": 234,
   "metadata": {},
   "outputs": [],
   "source": [
    "def createRollingWindow1D(dataset, look_back = 1):\n",
    "    \"\"\"\n",
    "    Function takes a 1 dimensional array as input and outputs a 2 dimensional array containing rolling windows of the series of size look_back.\n",
    "    \"\"\"\n",
    "    X= pd.DataFrame(np.empty((dataset.shape[0] - look_back, look_back)))\n",
    "    for i in tqdm(range(dataset.shape[0] - look_back)):    \n",
    "        X.iloc[i] = dataset.iloc[i:(i + look_back):].to_numpy().flatten()\n",
    "    return X"
   ]
  },
  {
   "cell_type": "markdown",
   "metadata": {},
   "source": [
    "## Reading Data\n",
    "First we start with loading the relevant data from the excel to be used in our analyis"
   ]
  },
  {
   "cell_type": "code",
   "execution_count": 236,
   "metadata": {},
   "outputs": [],
   "source": [
    "#Read the equity premium series to a dataframe\n",
    "ep = pd.read_excel('data/Augemented_Formatted_results.xls', sheet_name='Equity premium', skiprows= range(1118,1127,1))[:-1]\n",
    "ep['Date'] = pd.to_datetime(ep['Date'], format='%Y%m')\n",
    "ep = ep.set_index('Date')\n",
    "ep = ep.loc[(ep.index >= '1950-12-01')]"
   ]
  },
  {
   "cell_type": "code",
   "execution_count": 237,
   "metadata": {},
   "outputs": [],
   "source": [
    "#Read the maacroeconomic variables to a dataframe\n",
    "mev = pd.read_excel('data/Augemented_Formatted_results.xls', sheet_name='Macroeconomic variables', \n",
    "                    skiprows= range(1118,1126,1)).fillna(method='bfill')[:-1] #backward fill missing values. \n",
    "mev = mev.loc[:, ~mev.columns.str.match('Unnamed')]  #Remove empty column\n",
    "mev['Date'] = pd.to_datetime(mev['Date'], format='%Y%m') #convert date pandas format\n",
    "mev = mev.set_index('Date') #Set date as index. \n",
    "mev = mev.loc[(mev.index >= '1950-12-01')]"
   ]
  },
  {
   "cell_type": "code",
   "execution_count": 238,
   "metadata": {},
   "outputs": [],
   "source": [
    "ta = pd.read_excel('data/Augemented_Formatted_results.xls', sheet_name='Technical indicators', \n",
    "                    skiprows= range(1118,1119,1))[:-1]\n",
    "ta['Date'] = pd.to_datetime(ta['Date'], format='%Y%m')\n",
    "ta = ta.set_index('Date')\n",
    "ta = ta.loc[(ta.index >= '1950-12-01')]"
   ]
  },
  {
   "cell_type": "markdown",
   "metadata": {},
   "source": [
    "# Random Forest"
   ]
  },
  {
   "cell_type": "code",
   "execution_count": null,
   "metadata": {},
   "outputs": [],
   "source": []
  }
 ],
 "metadata": {
  "kernelspec": {
   "display_name": "Python 3",
   "language": "python",
   "name": "python3"
  },
  "language_info": {
   "codemirror_mode": {
    "name": "ipython",
    "version": 3
   },
   "file_extension": ".py",
   "mimetype": "text/x-python",
   "name": "python",
   "nbconvert_exporter": "python",
   "pygments_lexer": "ipython3",
   "version": "3.6.10"
  }
 },
 "nbformat": 4,
 "nbformat_minor": 4
}
