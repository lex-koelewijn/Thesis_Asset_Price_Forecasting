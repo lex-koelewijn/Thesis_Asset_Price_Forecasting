{
 "cells": [
  {
   "cell_type": "markdown",
   "metadata": {},
   "source": [
    "# OLS Baseline \n",
    "In this notebook an OLS estimation will be performed which serves as a baseline to compare the other methods with. It also serves as the proof-of-concept to figure out how to structure the data correctly and save results before moving on to other architectures."
   ]
  },
  {
   "cell_type": "code",
   "execution_count": 231,
   "metadata": {},
   "outputs": [],
   "source": [
    "import pandas as pd\n",
    "import numpy as np\n",
    "import sklearn\n",
    "from sklearn.linear_model import LinearRegression\n",
    "from sklearn.model_selection import train_test_split\n",
    "from tqdm.notebook import tqdm"
   ]
  },
  {
   "cell_type": "code",
   "execution_count": 232,
   "metadata": {},
   "outputs": [],
   "source": [
    "pd.set_option('display.max_columns', None)"
   ]
  },
  {
   "cell_type": "code",
   "execution_count": 233,
   "metadata": {},
   "outputs": [],
   "source": [
    "def createRollingWindow(dataset, look_back = 1):\n",
    "    \"\"\"\n",
    "    Function takes a 2 dimensional array as input and outputs a 2 dimensional array containing rolling windows of the matrix of size [No_Obs - look_back, look_back * No_Vars].\n",
    "    It creates rolling windows through concatenating all variables at time t with all variables at time t+1 etc until you you have reached t+look_back and move to next window. \n",
    "    \"\"\"\n",
    "    X= pd.DataFrame(np.empty((dataset.shape[0] - look_back, dataset.shape[1] * look_back)))\n",
    "    for i in tqdm(range(dataset.shape[0] - look_back)):    \n",
    "        X.iloc[i] = dataset.iloc[i:(i + look_back):].to_numpy().flatten()\n",
    "    return X"
   ]
  },
  {
   "cell_type": "code",
   "execution_count": 234,
   "metadata": {},
   "outputs": [],
   "source": [
    "def createRollingWindow1D(dataset, look_back = 1):\n",
    "    \"\"\"\n",
    "    Function takes a 1 dimensional array as input and outputs a 2 dimensional array containing rolling windows of the series of size look_back.\n",
    "    \"\"\"\n",
    "    X= pd.DataFrame(np.empty((dataset.shape[0] - look_back, look_back)))\n",
    "    for i in tqdm(range(dataset.shape[0] - look_back)):    \n",
    "        X.iloc[i] = dataset.iloc[i:(i + look_back):].to_numpy().flatten()\n",
    "    return X"
   ]
  },
  {
   "cell_type": "code",
   "execution_count": 235,
   "metadata": {},
   "outputs": [],
   "source": [
    "def shift_data(steps, X, y):\n",
    "    \"\"\"\n",
    "    Function takes a 2D X matrix and 1d y series and shifts them with steps and resizes them such that there are no empty lines. \n",
    "    \"\"\"\n",
    "    X = X[:X.shape[0]-steps]\n",
    "    y = y.shift(periods=-steps)[:y.shape[0]-steps].reset_index(drop=True)\n",
    "    return X,y"
   ]
  },
  {
   "cell_type": "markdown",
   "metadata": {},
   "source": [
    "## Reading Data\n",
    "First we start with loading the relevant data from the excel to be used in our analyis"
   ]
  },
  {
   "cell_type": "code",
   "execution_count": 236,
   "metadata": {},
   "outputs": [],
   "source": [
    "#Read the equity premium series to a dataframe\n",
    "ep = pd.read_excel('data/Augemented_Formatted_results.xls', sheet_name='Equity premium', skiprows= range(1118,1127,1))[:-1]\n",
    "ep['Date'] = pd.to_datetime(ep['Date'], format='%Y%m')\n",
    "ep = ep.set_index('Date')\n",
    "ep = ep.loc[(ep.index >= '1950-12-01')]"
   ]
  },
  {
   "cell_type": "code",
   "execution_count": 237,
   "metadata": {},
   "outputs": [],
   "source": [
    "#Read the maacroeconomic variables to a dataframe\n",
    "mev = pd.read_excel('data/Augemented_Formatted_results.xls', sheet_name='Macroeconomic variables', \n",
    "                    skiprows= range(1118,1126,1)).fillna(method='bfill')[:-1] #backward fill missing values. \n",
    "mev = mev.loc[:, ~mev.columns.str.match('Unnamed')]  #Remove empty column\n",
    "mev['Date'] = pd.to_datetime(mev['Date'], format='%Y%m') #convert date pandas format\n",
    "mev = mev.set_index('Date') #Set date as index. \n",
    "mev = mev.loc[(mev.index >= '1950-12-01')]"
   ]
  },
  {
   "cell_type": "code",
   "execution_count": 238,
   "metadata": {},
   "outputs": [],
   "source": [
    "ta = pd.read_excel('data/Augemented_Formatted_results.xls', sheet_name='Technical indicators', \n",
    "                    skiprows= range(1118,1119,1))[:-1]\n",
    "ta['Date'] = pd.to_datetime(ta['Date'], format='%Y%m')\n",
    "ta = ta.set_index('Date')\n",
    "ta = ta.loc[(ta.index >= '1950-12-01')]"
   ]
  },
  {
   "cell_type": "markdown",
   "metadata": {},
   "source": [
    "# Comparisson to Rapach\n",
    "I start by recreating the analysis as done in the Neely, Rapach, Tu and Zhou (2014) paper as a starting reference point. Seeing as the results do line up with those presented in the paper, we can confirm that the dataset is the same and all is in order. \n",
    "\n",
    "It is the exact in-sample predicitve regression as run in the Rapach paper of which the results can be found in table 2. It is the following bi-variate regression which is run on the data from 1951:01 - 2011:12\\:  \n",
    "$$ r_{t+1} = \\alpha_i +\\beta_i q_{i,t} + \\epsilon_{i,t+1}$$\n",
    "\n",
    "First I recreate the MEV regression followed by the TA regressions to make sure the results line up. \n",
    "\n",
    "### MEV"
   ]
  },
  {
   "cell_type": "code",
   "execution_count": 239,
   "metadata": {},
   "outputs": [],
   "source": [
    "#Shift equity premiumms such that they correspond to the 1 month out of sample corresponding to each window. \n",
    "y = ep.shift(periods=-1)[:ep.loc[(ep.index <= '2011-12-01')].shape[0]-1].reset_index(drop=True)\n",
    "\n",
    "#Convert y to a series with only log equity premium or simple equity premium \n",
    "y = y['Log equity premium'].astype('float64')\n",
    "\n",
    "# Remove the last observation such that the size of the dataamtrix coincides with the shifted y euity ridk premium\n",
    "X = mev[:mev.loc[(mev.index <= '2011-12-01')].shape[0]-1]"
   ]
  },
  {
   "cell_type": "code",
   "execution_count": 240,
   "metadata": {},
   "outputs": [],
   "source": [
    "df = pd.DataFrame(columns=['Variable', 'Coef', 'Intercept', 'R2'])\n",
    "for variable in mev.columns:\n",
    "#     X_train, X_test, y_train, y_test = train_test_split(, y, train_size=168, random_state=0, shuffle=False)\n",
    "    reg = LinearRegression().fit(X[variable].values.reshape(-1, 1), y)\n",
    "    df = df.append(pd.Series({'Variable' : variable, \n",
    "                              'Coef' : reg.coef_[0], \n",
    "                              'Intercept' : reg.intercept_, \n",
    "                              'R2':  reg.score(X[variable].values.reshape(-1,1), y)}), ignore_index=True)\n",
    "\n",
    "    "
   ]
  },
  {
   "cell_type": "code",
   "execution_count": 241,
   "metadata": {},
   "outputs": [
    {
     "data": {
      "text/html": [
       "<div>\n",
       "<style scoped>\n",
       "    .dataframe tbody tr th:only-of-type {\n",
       "        vertical-align: middle;\n",
       "    }\n",
       "\n",
       "    .dataframe tbody tr th {\n",
       "        vertical-align: top;\n",
       "    }\n",
       "\n",
       "    .dataframe thead th {\n",
       "        text-align: right;\n",
       "    }\n",
       "</style>\n",
       "<table border=\"1\" class=\"dataframe\">\n",
       "  <thead>\n",
       "    <tr style=\"text-align: right;\">\n",
       "      <th></th>\n",
       "      <th>Variable</th>\n",
       "      <th>Coef</th>\n",
       "      <th>Intercept</th>\n",
       "      <th>R2</th>\n",
       "    </tr>\n",
       "  </thead>\n",
       "  <tbody>\n",
       "    <tr>\n",
       "      <th>0</th>\n",
       "      <td>DP</td>\n",
       "      <td>0.007794</td>\n",
       "      <td>0.031787</td>\n",
       "      <td>0.005802</td>\n",
       "    </tr>\n",
       "    <tr>\n",
       "      <th>1</th>\n",
       "      <td>DY</td>\n",
       "      <td>0.008356</td>\n",
       "      <td>0.033700</td>\n",
       "      <td>0.006702</td>\n",
       "    </tr>\n",
       "    <tr>\n",
       "      <th>2</th>\n",
       "      <td>EP</td>\n",
       "      <td>0.004349</td>\n",
       "      <td>0.016671</td>\n",
       "      <td>0.001982</td>\n",
       "    </tr>\n",
       "    <tr>\n",
       "      <th>3</th>\n",
       "      <td>DE</td>\n",
       "      <td>0.005918</td>\n",
       "      <td>0.008803</td>\n",
       "      <td>0.001708</td>\n",
       "    </tr>\n",
       "    <tr>\n",
       "      <th>4</th>\n",
       "      <td>RVOL</td>\n",
       "      <td>0.074078</td>\n",
       "      <td>-0.006035</td>\n",
       "      <td>0.007336</td>\n",
       "    </tr>\n",
       "    <tr>\n",
       "      <th>5</th>\n",
       "      <td>BM</td>\n",
       "      <td>0.005359</td>\n",
       "      <td>0.001713</td>\n",
       "      <td>0.000988</td>\n",
       "    </tr>\n",
       "    <tr>\n",
       "      <th>6</th>\n",
       "      <td>NTIS</td>\n",
       "      <td>-0.006571</td>\n",
       "      <td>0.004691</td>\n",
       "      <td>0.000008</td>\n",
       "    </tr>\n",
       "    <tr>\n",
       "      <th>7</th>\n",
       "      <td>TBL (ann %)</td>\n",
       "      <td>-0.001084</td>\n",
       "      <td>0.009667</td>\n",
       "      <td>0.005648</td>\n",
       "    </tr>\n",
       "    <tr>\n",
       "      <th>8</th>\n",
       "      <td>LTY (ann %)</td>\n",
       "      <td>-0.000756</td>\n",
       "      <td>0.009371</td>\n",
       "      <td>0.002256</td>\n",
       "    </tr>\n",
       "    <tr>\n",
       "      <th>9</th>\n",
       "      <td>LTR (%)</td>\n",
       "      <td>0.001345</td>\n",
       "      <td>0.003850</td>\n",
       "      <td>0.007570</td>\n",
       "    </tr>\n",
       "    <tr>\n",
       "      <th>10</th>\n",
       "      <td>TMS (ann %)</td>\n",
       "      <td>0.001987</td>\n",
       "      <td>0.001333</td>\n",
       "      <td>0.004424</td>\n",
       "    </tr>\n",
       "    <tr>\n",
       "      <th>11</th>\n",
       "      <td>DFY (ann %)</td>\n",
       "      <td>0.001601</td>\n",
       "      <td>0.003051</td>\n",
       "      <td>0.000290</td>\n",
       "    </tr>\n",
       "    <tr>\n",
       "      <th>12</th>\n",
       "      <td>DFR (%)</td>\n",
       "      <td>0.001572</td>\n",
       "      <td>0.004582</td>\n",
       "      <td>0.002576</td>\n",
       "    </tr>\n",
       "    <tr>\n",
       "      <th>13</th>\n",
       "      <td>INFL (%)</td>\n",
       "      <td>-0.000987</td>\n",
       "      <td>0.004891</td>\n",
       "      <td>0.000066</td>\n",
       "    </tr>\n",
       "    <tr>\n",
       "      <th>14</th>\n",
       "      <td>Risk-free rate</td>\n",
       "      <td>-1.301226</td>\n",
       "      <td>0.009667</td>\n",
       "      <td>0.005648</td>\n",
       "    </tr>\n",
       "    <tr>\n",
       "      <th>15</th>\n",
       "      <td>12-month moving sum of earnings</td>\n",
       "      <td>-0.000051</td>\n",
       "      <td>0.005643</td>\n",
       "      <td>0.000647</td>\n",
       "    </tr>\n",
       "  </tbody>\n",
       "</table>\n",
       "</div>"
      ],
      "text/plain": [
       "                           Variable      Coef  Intercept        R2\n",
       "0                                DP  0.007794   0.031787  0.005802\n",
       "1                                DY  0.008356   0.033700  0.006702\n",
       "2                                EP  0.004349   0.016671  0.001982\n",
       "3                                DE  0.005918   0.008803  0.001708\n",
       "4                              RVOL  0.074078  -0.006035  0.007336\n",
       "5                                BM  0.005359   0.001713  0.000988\n",
       "6                              NTIS -0.006571   0.004691  0.000008\n",
       "7                       TBL (ann %) -0.001084   0.009667  0.005648\n",
       "8                       LTY (ann %) -0.000756   0.009371  0.002256\n",
       "9                           LTR (%)  0.001345   0.003850  0.007570\n",
       "10                      TMS (ann %)  0.001987   0.001333  0.004424\n",
       "11                      DFY (ann %)  0.001601   0.003051  0.000290\n",
       "12                          DFR (%)  0.001572   0.004582  0.002576\n",
       "13                         INFL (%) -0.000987   0.004891  0.000066\n",
       "14                   Risk-free rate -1.301226   0.009667  0.005648\n",
       "15  12-month moving sum of earnings -0.000051   0.005643  0.000647"
      ]
     },
     "execution_count": 241,
     "metadata": {},
     "output_type": "execute_result"
    }
   ],
   "source": [
    "df"
   ]
  },
  {
   "cell_type": "markdown",
   "metadata": {},
   "source": [
    "### TA"
   ]
  },
  {
   "cell_type": "code",
   "execution_count": 242,
   "metadata": {},
   "outputs": [],
   "source": [
    "# Remove the last observation such that the size of the dataamtrix coincides with the shifted y euity ridk premium\n",
    "X = ta[:ta.loc[(ta.index <= '2011-12-01')].shape[0]-1]"
   ]
  },
  {
   "cell_type": "code",
   "execution_count": 243,
   "metadata": {},
   "outputs": [],
   "source": [
    "df = pd.DataFrame(columns=['Variable', 'Coef', 'Intercept', 'R2'])\n",
    "for variable in ta.columns:\n",
    "#     X_train, X_test, y_train, y_test = train_test_split(, y, train_size=168, random_state=0, shuffle=False)\n",
    "    reg = LinearRegression().fit(X[variable].values.reshape(-1, 1), y)\n",
    "    df = df.append(pd.Series({'Variable' : variable, \n",
    "                              'Coef' : reg.coef_[0], \n",
    "                              'Intercept' : reg.intercept_, \n",
    "                              'R2':  reg.score(X[variable].values.reshape(-1,1), y)}), ignore_index=True)"
   ]
  },
  {
   "cell_type": "code",
   "execution_count": 244,
   "metadata": {},
   "outputs": [
    {
     "data": {
      "text/html": [
       "<div>\n",
       "<style scoped>\n",
       "    .dataframe tbody tr th:only-of-type {\n",
       "        vertical-align: middle;\n",
       "    }\n",
       "\n",
       "    .dataframe tbody tr th {\n",
       "        vertical-align: top;\n",
       "    }\n",
       "\n",
       "    .dataframe thead th {\n",
       "        text-align: right;\n",
       "    }\n",
       "</style>\n",
       "<table border=\"1\" class=\"dataframe\">\n",
       "  <thead>\n",
       "    <tr style=\"text-align: right;\">\n",
       "      <th></th>\n",
       "      <th>Variable</th>\n",
       "      <th>Coef</th>\n",
       "      <th>Intercept</th>\n",
       "      <th>R2</th>\n",
       "    </tr>\n",
       "  </thead>\n",
       "  <tbody>\n",
       "    <tr>\n",
       "      <th>0</th>\n",
       "      <td>MA(1,9)</td>\n",
       "      <td>0.006672</td>\n",
       "      <td>0.000079</td>\n",
       "      <td>0.005380</td>\n",
       "    </tr>\n",
       "    <tr>\n",
       "      <th>1</th>\n",
       "      <td>MA(1,12)</td>\n",
       "      <td>0.008684</td>\n",
       "      <td>-0.001518</td>\n",
       "      <td>0.008683</td>\n",
       "    </tr>\n",
       "    <tr>\n",
       "      <th>2</th>\n",
       "      <td>MA(2,9)</td>\n",
       "      <td>0.007026</td>\n",
       "      <td>-0.000198</td>\n",
       "      <td>0.005913</td>\n",
       "    </tr>\n",
       "    <tr>\n",
       "      <th>3</th>\n",
       "      <td>MA(2,12)</td>\n",
       "      <td>0.009441</td>\n",
       "      <td>-0.002038</td>\n",
       "      <td>0.010290</td>\n",
       "    </tr>\n",
       "    <tr>\n",
       "      <th>4</th>\n",
       "      <td>MA(3,9)</td>\n",
       "      <td>0.007652</td>\n",
       "      <td>-0.000667</td>\n",
       "      <td>0.006948</td>\n",
       "    </tr>\n",
       "    <tr>\n",
       "      <th>5</th>\n",
       "      <td>MA(3,12)</td>\n",
       "      <td>0.005433</td>\n",
       "      <td>0.000747</td>\n",
       "      <td>0.003371</td>\n",
       "    </tr>\n",
       "    <tr>\n",
       "      <th>6</th>\n",
       "      <td>MOM(9)</td>\n",
       "      <td>0.005455</td>\n",
       "      <td>0.000761</td>\n",
       "      <td>0.003435</td>\n",
       "    </tr>\n",
       "    <tr>\n",
       "      <th>7</th>\n",
       "      <td>MOM(12)</td>\n",
       "      <td>0.005752</td>\n",
       "      <td>0.000442</td>\n",
       "      <td>0.003672</td>\n",
       "    </tr>\n",
       "    <tr>\n",
       "      <th>8</th>\n",
       "      <td>VOL(1,9)</td>\n",
       "      <td>0.006776</td>\n",
       "      <td>0.000083</td>\n",
       "      <td>0.005644</td>\n",
       "    </tr>\n",
       "    <tr>\n",
       "      <th>9</th>\n",
       "      <td>VOL(1,12)</td>\n",
       "      <td>0.008881</td>\n",
       "      <td>-0.001572</td>\n",
       "      <td>0.009247</td>\n",
       "    </tr>\n",
       "    <tr>\n",
       "      <th>10</th>\n",
       "      <td>VOL(2,9)</td>\n",
       "      <td>0.007368</td>\n",
       "      <td>-0.000291</td>\n",
       "      <td>0.006701</td>\n",
       "    </tr>\n",
       "    <tr>\n",
       "      <th>11</th>\n",
       "      <td>VOL(2,12)</td>\n",
       "      <td>0.007401</td>\n",
       "      <td>-0.000504</td>\n",
       "      <td>0.006484</td>\n",
       "    </tr>\n",
       "    <tr>\n",
       "      <th>12</th>\n",
       "      <td>VOL(3,9)</td>\n",
       "      <td>0.004784</td>\n",
       "      <td>0.001336</td>\n",
       "      <td>0.002748</td>\n",
       "    </tr>\n",
       "    <tr>\n",
       "      <th>13</th>\n",
       "      <td>VOL(3,12)</td>\n",
       "      <td>0.008488</td>\n",
       "      <td>-0.001276</td>\n",
       "      <td>0.008489</td>\n",
       "    </tr>\n",
       "  </tbody>\n",
       "</table>\n",
       "</div>"
      ],
      "text/plain": [
       "     Variable      Coef  Intercept        R2\n",
       "0     MA(1,9)  0.006672   0.000079  0.005380\n",
       "1    MA(1,12)  0.008684  -0.001518  0.008683\n",
       "2     MA(2,9)  0.007026  -0.000198  0.005913\n",
       "3    MA(2,12)  0.009441  -0.002038  0.010290\n",
       "4     MA(3,9)  0.007652  -0.000667  0.006948\n",
       "5    MA(3,12)  0.005433   0.000747  0.003371\n",
       "6      MOM(9)  0.005455   0.000761  0.003435\n",
       "7     MOM(12)  0.005752   0.000442  0.003672\n",
       "8    VOL(1,9)  0.006776   0.000083  0.005644\n",
       "9   VOL(1,12)  0.008881  -0.001572  0.009247\n",
       "10   VOL(2,9)  0.007368  -0.000291  0.006701\n",
       "11  VOL(2,12)  0.007401  -0.000504  0.006484\n",
       "12   VOL(3,9)  0.004784   0.001336  0.002748\n",
       "13  VOL(3,12)  0.008488  -0.001276  0.008489"
      ]
     },
     "execution_count": 244,
     "metadata": {},
     "output_type": "execute_result"
    }
   ],
   "source": [
    "df"
   ]
  },
  {
   "cell_type": "markdown",
   "metadata": {},
   "source": [
    "## Rolling Window Regression\n",
    "\n",
    "In the analysis below I have implemented multiple versions of a rolling window variation of the regression. 1\n",
    "1. First we create a rolling window of all the MEVs of the past 12 months and concatenate them into 1 vector which serves as input for the 1 month out of sample log equity risk premium. \n",
    "2. Secondly we create a rolling window of each MEV separately of the past 12 months and concatenate them into 1 vector which serves as input for the 1 month out of sample log equity risk premium. The difference with the first regression is thus that this in this regression we run the analysis for each variable separately to be more in line with Neely, Rapach, Tu and Zhou (2014)/"
   ]
  },
  {
   "cell_type": "markdown",
   "metadata": {},
   "source": [
    "### Data restructuring\n",
    "We must create rolling windows of the Macro Economic Variables (MEV) and match them with the 1 month out of sample equity premium in order train a model. "
   ]
  },
  {
   "cell_type": "code",
   "execution_count": 245,
   "metadata": {},
   "outputs": [
    {
     "data": {
      "application/vnd.jupyter.widget-view+json": {
       "model_id": "309313f76ac5484f89e5b792c5d979db",
       "version_major": 2,
       "version_minor": 0
      },
      "text/plain": [
       "HBox(children=(FloatProgress(value=0.0, max=817.0), HTML(value='')))"
      ]
     },
     "metadata": {},
     "output_type": "display_data"
    },
    {
     "name": "stdout",
     "output_type": "stream",
     "text": [
      "\n"
     ]
    }
   ],
   "source": [
    "#Create rolling window version of the MEV dataset.  \n",
    "X_mev = createRollingWindow(mev, look_back = 12)"
   ]
  },
  {
   "cell_type": "code",
   "execution_count": 246,
   "metadata": {},
   "outputs": [],
   "source": [
    "#Shift equity premiumms such that they correspond to the 1 month out of sample corresponding to each window. \n",
    "y = ep.shift(periods=-12)[:ep.shape[0]-12].reset_index(drop=True)\n",
    "\n",
    "#Convert y to a series with only log equity premium or simple equity premium \n",
    "y = y['Log equity premium'].astype('float64')"
   ]
  },
  {
   "cell_type": "markdown",
   "metadata": {},
   "source": [
    "### Train OLS Model Windowed\n",
    "Create rolling windows where we try to predit the 1 month out of sample equity premium based on the previous 12 months of Macro economic variables."
   ]
  },
  {
   "cell_type": "code",
   "execution_count": 247,
   "metadata": {},
   "outputs": [],
   "source": [
    "#Create Train and test set\n",
    "X_train, X_test, y_train, y_test = train_test_split(X_mev, y, train_size=168, random_state=0, shuffle=False)"
   ]
  },
  {
   "cell_type": "code",
   "execution_count": 248,
   "metadata": {},
   "outputs": [],
   "source": [
    "#Train a linear regression model on MEV rolling window data and the corresponding 1 month out of sample equity premium. \n",
    "reg = LinearRegression().fit(X_train, y_train)\n",
    "coefficients = reg.coef_\n",
    "intercept = reg.intercept_"
   ]
  },
  {
   "cell_type": "code",
   "execution_count": 249,
   "metadata": {},
   "outputs": [
    {
     "name": "stdout",
     "output_type": "stream",
     "text": [
      "Coefficients:  [-2.65252665e+07  1.76773912e-01  2.65252536e+07  2.65252645e+07\n",
      " -2.48042903e-01  1.24187343e+00 -3.79275290e+00 -4.35398443e+08\n",
      "  4.35352041e+08  1.59326858e-02 -4.35352041e+08  9.09159188e-01\n",
      " -1.57406129e-02  3.41614032e-02  5.56815926e+07  5.05635120e+00\n",
      "  5.40864430e+07  1.20185387e+01 -5.40864550e+07 -5.40864488e+07\n",
      " -6.27266749e-01 -2.95883028e+00  2.33537704e+00 -4.93021529e+08\n",
      "  4.93024170e+08  3.98614294e-02 -4.93024171e+08  2.63886321e-01\n",
      "  1.32358202e-03  1.18363307e-02 -3.16963639e+06 -4.35331152e-01\n",
      "  1.65885713e+08  1.36194616e+01 -1.65885725e+08 -1.65885732e+08\n",
      "  9.03046506e-01  3.69012147e-01 -3.83640925e+00 -5.72609186e+08\n",
      "  5.72605039e+08  8.27989876e-02 -5.72605039e+08  2.16672525e-01\n",
      "  3.26282680e-02  7.93452840e-03  4.97653085e+06 -5.70604092e-01\n",
      "  2.41813499e+08  1.17532047e+01 -2.41813519e+08 -2.41813511e+08\n",
      "  2.25737442e-01  1.70433645e+00  5.07369753e+00 -5.79175805e+08\n",
      "  5.79162898e+08  8.74013156e-02 -5.79162898e+08 -4.50054422e-01\n",
      "  4.94965911e-02  1.63348112e-03  1.54882948e+07  2.03625658e+00\n",
      "  2.30305287e+08  1.95931346e+01 -2.30305282e+08 -2.30305301e+08\n",
      "  3.06287752e-01  4.28070828e-01  2.19215820e+00 -6.02351622e+08\n",
      "  6.02351373e+08  4.57692146e-02 -6.02351373e+08 -3.55597779e-01\n",
      "  2.96260715e-02  2.66933143e-02  2.97747130e+05 -4.89019379e+00\n",
      "  1.79938272e+08 -5.87357977e+00 -1.79938267e+08 -1.79938271e+08\n",
      "  5.62890500e-01 -1.78424267e+00  4.00844954e+00 -7.38103763e+08\n",
      "  7.38102928e+08  7.48157129e-02 -7.38102928e+08 -2.87913650e-01\n",
      "  1.21457987e-02  3.09377164e-02  1.00234394e+06 -2.36657846e+00\n",
      "  1.17693254e+08 -3.84400742e+00 -1.17693260e+08 -1.17693254e+08\n",
      "  2.24315900e-01  1.25607350e+00 -5.05261165e+00 -7.48005967e+08\n",
      "  7.48005201e+08  6.43869638e-02 -7.48005200e+08  1.12682134e-01\n",
      "  3.39308530e-02  6.54256940e-02  9.19961506e+05  1.81157281e+00\n",
      "  8.40882319e+07  4.80725338e+00 -8.40882591e+07 -8.40882297e+07\n",
      "  4.02715445e-01 -3.15554142e-02  3.64212630e+00 -7.98569740e+08\n",
      "  7.98569412e+08  4.33350205e-02 -7.98569411e+08 -5.09189174e-01\n",
      "  2.43923664e-02 -3.50060165e-02  3.95399933e+05  8.30308059e+00\n",
      "  2.89417705e+08  2.73624951e+01 -2.89417696e+08 -2.89417735e+08\n",
      " -1.06810345e+00  6.99086994e-01  3.05474574e+00 -8.44012504e+08\n",
      "  8.44011986e+08 -7.56046176e-03 -8.44011987e+08  5.20131633e-01\n",
      "  1.40842199e-02  1.71451084e-02  6.20610701e+05 -1.17399418e+01\n",
      "  3.52953436e+08 -9.44637104e+00 -3.52953453e+08 -3.52953429e+08\n",
      "  4.56581257e-01 -2.00348905e+00  3.23740091e+00 -8.82275587e+08\n",
      "  8.82275119e+08  4.81430292e-02 -8.82275119e+08  5.03553882e-01\n",
      " -4.90698218e-03  3.95108834e-02  5.61960315e+05  8.68033580e+00\n",
      "  1.06813609e+08  1.83099566e+01 -1.06813611e+08 -1.06813627e+08\n",
      "  6.18828058e-01  4.49671436e-01  2.08325044e+00 -8.58554412e+08\n",
      "  8.58554251e+08  7.53006637e-02 -8.58554251e+08 -5.23803681e-02\n",
      "  3.23168039e-02 -2.96882689e-02  1.93558453e+05 -5.43526912e+00\n",
      "  1.76541137e+08  1.56359990e+00 -1.76541137e+08 -1.76541136e+08\n",
      " -6.39150914e-01  8.87405597e-01  1.93995775e+00 -9.04910227e+08\n",
      "  9.04909825e+08  4.20057774e-02 -9.04909824e+08 -1.19296081e+00\n",
      "  1.85960829e-02 -1.53831840e-02  4.83339336e+05 -4.25209105e-02]\n",
      "Intercept:  0.009757667165855523\n",
      "Mean Absolute Error: 15.805841849587061\n",
      "Mean Squared Error: 977.3759656738616\n",
      "Root Mean Squared Error: 31.263012741478732\n",
      "R2: -525094.7996636973\n",
      "Explained Variance: -488032.71709039697\n"
     ]
    }
   ],
   "source": [
    "#Make a prediction\n",
    "y_pred = reg.predict(X_test)\n",
    "\n",
    "print('Coefficients: ', coefficients)\n",
    "print('Intercept: ', intercept)\n",
    "\n",
    "from sklearn import metrics\n",
    "print('Mean Absolute Error:', metrics.mean_absolute_error(y_test, y_pred))\n",
    "print('Mean Squared Error:', metrics.mean_squared_error(y_test, y_pred))\n",
    "print('Root Mean Squared Error:', np.sqrt(metrics.mean_squared_error(y_test, y_pred)))\n",
    "print('R2:', metrics.r2_score(y_test, y_pred))\n",
    "print('Explained Variance:', metrics.explained_variance_score(y_test, y_pred))"
   ]
  },
  {
   "cell_type": "markdown",
   "metadata": {},
   "source": [
    "## Rolling window OLS estimation for each variable separately\n",
    "Up till now I have combined all variables into 1 window, however this is not in line with Neely, Rapach, Tu and Zhou (2014). They run seperate regression for each macro economic variable and TA variable, and hence that is what should also do. \n",
    "\n",
    "rollingWindowMEV is a dictionary which will be filled with the 2D dataframes containing the rolling windows for a single variable. Thus rollingWindowsMEV['DP'] would yield the 2D matrix containing the rolling windows for the variable DP and will be of size [No_obs-window_size, window_size] or in our case [828 obs - 12, 12] = [817,12]. The dictionairy is thus accessible with the variable name as index key and these can be obtained from the original data through mev.columns which yields an array of the column names of the original dataframe."
   ]
  },
  {
   "cell_type": "code",
   "execution_count": 250,
   "metadata": {},
   "outputs": [],
   "source": [
    "#Shift equity premiumms such that they correspond to the 1 month out of sample corresponding to each window. \n",
    "y = ep.shift(periods=-12)[:ep.shape[0]-12].reset_index(drop=True)\n",
    "\n",
    "#Convert y to a series with only log equity premium or simple equity premium \n",
    "y = y['Log equity premium'].astype('float64')"
   ]
  },
  {
   "cell_type": "code",
   "execution_count": 251,
   "metadata": {},
   "outputs": [
    {
     "data": {
      "application/vnd.jupyter.widget-view+json": {
       "model_id": "833af40722844cc7a44b2520407f3cd6",
       "version_major": 2,
       "version_minor": 0
      },
      "text/plain": [
       "HBox(children=(FloatProgress(value=0.0, max=817.0), HTML(value='')))"
      ]
     },
     "metadata": {},
     "output_type": "display_data"
    },
    {
     "name": "stdout",
     "output_type": "stream",
     "text": [
      "\n"
     ]
    },
    {
     "data": {
      "application/vnd.jupyter.widget-view+json": {
       "model_id": "31c11be4745e4388a42ddfc2cc291bcd",
       "version_major": 2,
       "version_minor": 0
      },
      "text/plain": [
       "HBox(children=(FloatProgress(value=0.0, max=817.0), HTML(value='')))"
      ]
     },
     "metadata": {},
     "output_type": "display_data"
    },
    {
     "name": "stdout",
     "output_type": "stream",
     "text": [
      "\n"
     ]
    },
    {
     "data": {
      "application/vnd.jupyter.widget-view+json": {
       "model_id": "65d85c0e606f4714972bbfac4f6406ed",
       "version_major": 2,
       "version_minor": 0
      },
      "text/plain": [
       "HBox(children=(FloatProgress(value=0.0, max=817.0), HTML(value='')))"
      ]
     },
     "metadata": {},
     "output_type": "display_data"
    },
    {
     "name": "stdout",
     "output_type": "stream",
     "text": [
      "\n"
     ]
    },
    {
     "data": {
      "application/vnd.jupyter.widget-view+json": {
       "model_id": "603a37332cb6497bbc9225e117a61ac5",
       "version_major": 2,
       "version_minor": 0
      },
      "text/plain": [
       "HBox(children=(FloatProgress(value=0.0, max=817.0), HTML(value='')))"
      ]
     },
     "metadata": {},
     "output_type": "display_data"
    },
    {
     "name": "stdout",
     "output_type": "stream",
     "text": [
      "\n"
     ]
    },
    {
     "data": {
      "application/vnd.jupyter.widget-view+json": {
       "model_id": "b17d084375a647938bd6e7a81e7ca916",
       "version_major": 2,
       "version_minor": 0
      },
      "text/plain": [
       "HBox(children=(FloatProgress(value=0.0, max=817.0), HTML(value='')))"
      ]
     },
     "metadata": {},
     "output_type": "display_data"
    },
    {
     "name": "stdout",
     "output_type": "stream",
     "text": [
      "\n"
     ]
    },
    {
     "data": {
      "application/vnd.jupyter.widget-view+json": {
       "model_id": "fb8f58e243ed4f49b21c1012950260fc",
       "version_major": 2,
       "version_minor": 0
      },
      "text/plain": [
       "HBox(children=(FloatProgress(value=0.0, max=817.0), HTML(value='')))"
      ]
     },
     "metadata": {},
     "output_type": "display_data"
    },
    {
     "name": "stdout",
     "output_type": "stream",
     "text": [
      "\n"
     ]
    },
    {
     "data": {
      "application/vnd.jupyter.widget-view+json": {
       "model_id": "35866a3a6f8e4076a77d3fe58b4b9a49",
       "version_major": 2,
       "version_minor": 0
      },
      "text/plain": [
       "HBox(children=(FloatProgress(value=0.0, max=817.0), HTML(value='')))"
      ]
     },
     "metadata": {},
     "output_type": "display_data"
    },
    {
     "name": "stdout",
     "output_type": "stream",
     "text": [
      "\n"
     ]
    },
    {
     "data": {
      "application/vnd.jupyter.widget-view+json": {
       "model_id": "0501a7e8a5f24f0b8380114bb9124700",
       "version_major": 2,
       "version_minor": 0
      },
      "text/plain": [
       "HBox(children=(FloatProgress(value=0.0, max=817.0), HTML(value='')))"
      ]
     },
     "metadata": {},
     "output_type": "display_data"
    },
    {
     "name": "stdout",
     "output_type": "stream",
     "text": [
      "\n"
     ]
    },
    {
     "data": {
      "application/vnd.jupyter.widget-view+json": {
       "model_id": "4a29e24b3cbc4dbabbbdf4562232c8a0",
       "version_major": 2,
       "version_minor": 0
      },
      "text/plain": [
       "HBox(children=(FloatProgress(value=0.0, max=817.0), HTML(value='')))"
      ]
     },
     "metadata": {},
     "output_type": "display_data"
    },
    {
     "name": "stdout",
     "output_type": "stream",
     "text": [
      "\n"
     ]
    },
    {
     "data": {
      "application/vnd.jupyter.widget-view+json": {
       "model_id": "b8fc2205e803486194ca7977a9045e0c",
       "version_major": 2,
       "version_minor": 0
      },
      "text/plain": [
       "HBox(children=(FloatProgress(value=0.0, max=817.0), HTML(value='')))"
      ]
     },
     "metadata": {},
     "output_type": "display_data"
    },
    {
     "name": "stdout",
     "output_type": "stream",
     "text": [
      "\n"
     ]
    },
    {
     "data": {
      "application/vnd.jupyter.widget-view+json": {
       "model_id": "db0832097f274e7ab848075437242ec4",
       "version_major": 2,
       "version_minor": 0
      },
      "text/plain": [
       "HBox(children=(FloatProgress(value=0.0, max=817.0), HTML(value='')))"
      ]
     },
     "metadata": {},
     "output_type": "display_data"
    },
    {
     "name": "stdout",
     "output_type": "stream",
     "text": [
      "\n"
     ]
    },
    {
     "data": {
      "application/vnd.jupyter.widget-view+json": {
       "model_id": "bd8223ea13e646c8a5d94adcea766849",
       "version_major": 2,
       "version_minor": 0
      },
      "text/plain": [
       "HBox(children=(FloatProgress(value=0.0, max=817.0), HTML(value='')))"
      ]
     },
     "metadata": {},
     "output_type": "display_data"
    },
    {
     "name": "stdout",
     "output_type": "stream",
     "text": [
      "\n"
     ]
    },
    {
     "data": {
      "application/vnd.jupyter.widget-view+json": {
       "model_id": "5f05456d7b8f493ca470a527341ccec5",
       "version_major": 2,
       "version_minor": 0
      },
      "text/plain": [
       "HBox(children=(FloatProgress(value=0.0, max=817.0), HTML(value='')))"
      ]
     },
     "metadata": {},
     "output_type": "display_data"
    },
    {
     "name": "stdout",
     "output_type": "stream",
     "text": [
      "\n"
     ]
    },
    {
     "data": {
      "application/vnd.jupyter.widget-view+json": {
       "model_id": "03d474528adf4da69a43a089d819166b",
       "version_major": 2,
       "version_minor": 0
      },
      "text/plain": [
       "HBox(children=(FloatProgress(value=0.0, max=817.0), HTML(value='')))"
      ]
     },
     "metadata": {},
     "output_type": "display_data"
    },
    {
     "name": "stdout",
     "output_type": "stream",
     "text": [
      "\n"
     ]
    },
    {
     "data": {
      "application/vnd.jupyter.widget-view+json": {
       "model_id": "30ab4153133d4bf19d35b63d50c3a3b7",
       "version_major": 2,
       "version_minor": 0
      },
      "text/plain": [
       "HBox(children=(FloatProgress(value=0.0, max=817.0), HTML(value='')))"
      ]
     },
     "metadata": {},
     "output_type": "display_data"
    },
    {
     "name": "stdout",
     "output_type": "stream",
     "text": [
      "\n"
     ]
    },
    {
     "data": {
      "application/vnd.jupyter.widget-view+json": {
       "model_id": "328d39c9eb5248fcb844c5c9a84bc8f8",
       "version_major": 2,
       "version_minor": 0
      },
      "text/plain": [
       "HBox(children=(FloatProgress(value=0.0, max=817.0), HTML(value='')))"
      ]
     },
     "metadata": {},
     "output_type": "display_data"
    },
    {
     "name": "stdout",
     "output_type": "stream",
     "text": [
      "\n"
     ]
    }
   ],
   "source": [
    "# Create empty dictionary\n",
    "rollingWindowsMEV = dict()\n",
    "\n",
    "#Fill the dictionairy with the 2D array with rolling windows for each variable. \n",
    "for variable in mev.columns:\n",
    "    rollingWindowsMEV[variable] = createRollingWindow1D(mev[variable], 12)"
   ]
  },
  {
   "cell_type": "code",
   "execution_count": 252,
   "metadata": {},
   "outputs": [],
   "source": [
    "df = pd.DataFrame(columns=['Variable', 'Coef', 'Intercept', 'R2'])\n",
    "\n",
    "for variable in mev.columns:\n",
    "    X_train, X_test, y_train, y_test = train_test_split(rollingWindowsMEV[variable], y, train_size=168, random_state=0, shuffle=False)\n",
    "    reg = LinearRegression().fit(X_train, y_train)\n",
    "    \n",
    "    df = df.append(pd.Series({'Variable' : variable, \n",
    "                              'Coef' : reg.coef_[0], \n",
    "                              'Intercept' : reg.intercept_, \n",
    "                              'R2':  reg.score(X_train, y_train)}), ignore_index=True)\n",
    "    \n",
    "    y_pred = reg.predict(X_test)\n",
    "#     print('Mean Absolute Error:', metrics.mean_absolute_error(y_test, y_pred))\n",
    "#     print('Mean Squared Error:', metrics.mean_squared_error(y_test, y_pred))\n",
    "#     print('Root Mean Squared Error:', np.sqrt(metrics.mean_squared_error(y_test, y_pred)))\n",
    "#     print('R2:', metrics.r2_score(y_test, y_pred))\n",
    "#     print('Explained Variance:', metrics.explained_variance_score(y_test, y_pred))\n",
    "#     print('\\n')"
   ]
  },
  {
   "cell_type": "code",
   "execution_count": 253,
   "metadata": {},
   "outputs": [
    {
     "data": {
      "text/html": [
       "<div>\n",
       "<style scoped>\n",
       "    .dataframe tbody tr th:only-of-type {\n",
       "        vertical-align: middle;\n",
       "    }\n",
       "\n",
       "    .dataframe tbody tr th {\n",
       "        vertical-align: top;\n",
       "    }\n",
       "\n",
       "    .dataframe thead th {\n",
       "        text-align: right;\n",
       "    }\n",
       "</style>\n",
       "<table border=\"1\" class=\"dataframe\">\n",
       "  <thead>\n",
       "    <tr style=\"text-align: right;\">\n",
       "      <th></th>\n",
       "      <th>Variable</th>\n",
       "      <th>Coef</th>\n",
       "      <th>Intercept</th>\n",
       "      <th>R2</th>\n",
       "    </tr>\n",
       "  </thead>\n",
       "  <tbody>\n",
       "    <tr>\n",
       "      <th>0</th>\n",
       "      <td>DP</td>\n",
       "      <td>-0.008935</td>\n",
       "      <td>0.064910</td>\n",
       "      <td>0.072770</td>\n",
       "    </tr>\n",
       "    <tr>\n",
       "      <th>1</th>\n",
       "      <td>DY</td>\n",
       "      <td>0.001962</td>\n",
       "      <td>0.068221</td>\n",
       "      <td>0.075063</td>\n",
       "    </tr>\n",
       "    <tr>\n",
       "      <th>2</th>\n",
       "      <td>EP</td>\n",
       "      <td>0.014268</td>\n",
       "      <td>0.049222</td>\n",
       "      <td>0.067791</td>\n",
       "    </tr>\n",
       "    <tr>\n",
       "      <th>3</th>\n",
       "      <td>DE</td>\n",
       "      <td>-0.030262</td>\n",
       "      <td>0.005276</td>\n",
       "      <td>0.053072</td>\n",
       "    </tr>\n",
       "    <tr>\n",
       "      <th>4</th>\n",
       "      <td>RVOL</td>\n",
       "      <td>-0.107951</td>\n",
       "      <td>0.008718</td>\n",
       "      <td>0.079077</td>\n",
       "    </tr>\n",
       "    <tr>\n",
       "      <th>5</th>\n",
       "      <td>BM</td>\n",
       "      <td>0.051665</td>\n",
       "      <td>-0.027054</td>\n",
       "      <td>0.082900</td>\n",
       "    </tr>\n",
       "    <tr>\n",
       "      <th>6</th>\n",
       "      <td>NTIS</td>\n",
       "      <td>-0.536463</td>\n",
       "      <td>0.023586</td>\n",
       "      <td>0.073837</td>\n",
       "    </tr>\n",
       "    <tr>\n",
       "      <th>7</th>\n",
       "      <td>TBL (ann %)</td>\n",
       "      <td>-0.007852</td>\n",
       "      <td>0.027838</td>\n",
       "      <td>0.140212</td>\n",
       "    </tr>\n",
       "    <tr>\n",
       "      <th>8</th>\n",
       "      <td>LTY (ann %)</td>\n",
       "      <td>-0.007834</td>\n",
       "      <td>0.039370</td>\n",
       "      <td>0.095641</td>\n",
       "    </tr>\n",
       "    <tr>\n",
       "      <th>9</th>\n",
       "      <td>LTR (%)</td>\n",
       "      <td>0.004386</td>\n",
       "      <td>0.005874</td>\n",
       "      <td>0.100159</td>\n",
       "    </tr>\n",
       "    <tr>\n",
       "      <th>10</th>\n",
       "      <td>TMS (ann %)</td>\n",
       "      <td>0.003612</td>\n",
       "      <td>-0.003280</td>\n",
       "      <td>0.112354</td>\n",
       "    </tr>\n",
       "    <tr>\n",
       "      <th>11</th>\n",
       "      <td>DFY (ann %)</td>\n",
       "      <td>-0.048118</td>\n",
       "      <td>0.003070</td>\n",
       "      <td>0.066387</td>\n",
       "    </tr>\n",
       "    <tr>\n",
       "      <th>12</th>\n",
       "      <td>DFR (%)</td>\n",
       "      <td>0.000118</td>\n",
       "      <td>0.010260</td>\n",
       "      <td>0.039831</td>\n",
       "    </tr>\n",
       "    <tr>\n",
       "      <th>13</th>\n",
       "      <td>INFL (%)</td>\n",
       "      <td>0.026942</td>\n",
       "      <td>0.012015</td>\n",
       "      <td>0.084721</td>\n",
       "    </tr>\n",
       "    <tr>\n",
       "      <th>14</th>\n",
       "      <td>Risk-free rate</td>\n",
       "      <td>-9.422772</td>\n",
       "      <td>0.027838</td>\n",
       "      <td>0.140212</td>\n",
       "    </tr>\n",
       "    <tr>\n",
       "      <th>15</th>\n",
       "      <td>12-month moving sum of earnings</td>\n",
       "      <td>0.031498</td>\n",
       "      <td>0.025334</td>\n",
       "      <td>0.047912</td>\n",
       "    </tr>\n",
       "  </tbody>\n",
       "</table>\n",
       "</div>"
      ],
      "text/plain": [
       "                           Variable      Coef  Intercept        R2\n",
       "0                                DP -0.008935   0.064910  0.072770\n",
       "1                                DY  0.001962   0.068221  0.075063\n",
       "2                                EP  0.014268   0.049222  0.067791\n",
       "3                                DE -0.030262   0.005276  0.053072\n",
       "4                              RVOL -0.107951   0.008718  0.079077\n",
       "5                                BM  0.051665  -0.027054  0.082900\n",
       "6                              NTIS -0.536463   0.023586  0.073837\n",
       "7                       TBL (ann %) -0.007852   0.027838  0.140212\n",
       "8                       LTY (ann %) -0.007834   0.039370  0.095641\n",
       "9                           LTR (%)  0.004386   0.005874  0.100159\n",
       "10                      TMS (ann %)  0.003612  -0.003280  0.112354\n",
       "11                      DFY (ann %) -0.048118   0.003070  0.066387\n",
       "12                          DFR (%)  0.000118   0.010260  0.039831\n",
       "13                         INFL (%)  0.026942   0.012015  0.084721\n",
       "14                   Risk-free rate -9.422772   0.027838  0.140212\n",
       "15  12-month moving sum of earnings  0.031498   0.025334  0.047912"
      ]
     },
     "execution_count": 253,
     "metadata": {},
     "output_type": "execute_result"
    }
   ],
   "source": [
    "df"
   ]
  },
  {
   "cell_type": "code",
   "execution_count": 254,
   "metadata": {},
   "outputs": [
    {
     "data": {
      "application/vnd.jupyter.widget-view+json": {
       "model_id": "816452961c414b69b79dbe95d82ea312",
       "version_major": 2,
       "version_minor": 0
      },
      "text/plain": [
       "HBox(children=(FloatProgress(value=0.0, max=817.0), HTML(value='')))"
      ]
     },
     "metadata": {},
     "output_type": "display_data"
    },
    {
     "name": "stdout",
     "output_type": "stream",
     "text": [
      "\n"
     ]
    },
    {
     "data": {
      "application/vnd.jupyter.widget-view+json": {
       "model_id": "2957e090526346da8f55bc1cf048944d",
       "version_major": 2,
       "version_minor": 0
      },
      "text/plain": [
       "HBox(children=(FloatProgress(value=0.0, max=817.0), HTML(value='')))"
      ]
     },
     "metadata": {},
     "output_type": "display_data"
    },
    {
     "name": "stdout",
     "output_type": "stream",
     "text": [
      "\n"
     ]
    },
    {
     "data": {
      "application/vnd.jupyter.widget-view+json": {
       "model_id": "4f00594fc76b4ef1a44390617e75d2b1",
       "version_major": 2,
       "version_minor": 0
      },
      "text/plain": [
       "HBox(children=(FloatProgress(value=0.0, max=817.0), HTML(value='')))"
      ]
     },
     "metadata": {},
     "output_type": "display_data"
    },
    {
     "name": "stdout",
     "output_type": "stream",
     "text": [
      "\n"
     ]
    },
    {
     "data": {
      "application/vnd.jupyter.widget-view+json": {
       "model_id": "0239569464734b86a9183f8d6515453f",
       "version_major": 2,
       "version_minor": 0
      },
      "text/plain": [
       "HBox(children=(FloatProgress(value=0.0, max=817.0), HTML(value='')))"
      ]
     },
     "metadata": {},
     "output_type": "display_data"
    },
    {
     "name": "stdout",
     "output_type": "stream",
     "text": [
      "\n"
     ]
    },
    {
     "data": {
      "application/vnd.jupyter.widget-view+json": {
       "model_id": "e7826629c91b4a3bb6df138ba9a795a5",
       "version_major": 2,
       "version_minor": 0
      },
      "text/plain": [
       "HBox(children=(FloatProgress(value=0.0, max=817.0), HTML(value='')))"
      ]
     },
     "metadata": {},
     "output_type": "display_data"
    },
    {
     "name": "stdout",
     "output_type": "stream",
     "text": [
      "\n"
     ]
    },
    {
     "data": {
      "application/vnd.jupyter.widget-view+json": {
       "model_id": "a9ccb336d4b14037a90617451e829002",
       "version_major": 2,
       "version_minor": 0
      },
      "text/plain": [
       "HBox(children=(FloatProgress(value=0.0, max=817.0), HTML(value='')))"
      ]
     },
     "metadata": {},
     "output_type": "display_data"
    },
    {
     "name": "stdout",
     "output_type": "stream",
     "text": [
      "\n"
     ]
    },
    {
     "data": {
      "application/vnd.jupyter.widget-view+json": {
       "model_id": "bcd3ca9009954c6f8ee074af9f330774",
       "version_major": 2,
       "version_minor": 0
      },
      "text/plain": [
       "HBox(children=(FloatProgress(value=0.0, max=817.0), HTML(value='')))"
      ]
     },
     "metadata": {},
     "output_type": "display_data"
    },
    {
     "name": "stdout",
     "output_type": "stream",
     "text": [
      "\n"
     ]
    },
    {
     "data": {
      "application/vnd.jupyter.widget-view+json": {
       "model_id": "96098ea7e9c34f6ab9078743d6f70286",
       "version_major": 2,
       "version_minor": 0
      },
      "text/plain": [
       "HBox(children=(FloatProgress(value=0.0, max=817.0), HTML(value='')))"
      ]
     },
     "metadata": {},
     "output_type": "display_data"
    },
    {
     "name": "stdout",
     "output_type": "stream",
     "text": [
      "\n"
     ]
    },
    {
     "data": {
      "application/vnd.jupyter.widget-view+json": {
       "model_id": "879bb1acb725409dafb313b6d45a749b",
       "version_major": 2,
       "version_minor": 0
      },
      "text/plain": [
       "HBox(children=(FloatProgress(value=0.0, max=817.0), HTML(value='')))"
      ]
     },
     "metadata": {},
     "output_type": "display_data"
    },
    {
     "name": "stdout",
     "output_type": "stream",
     "text": [
      "\n"
     ]
    },
    {
     "data": {
      "application/vnd.jupyter.widget-view+json": {
       "model_id": "57eb9d67fa594b61b08332bc17528a47",
       "version_major": 2,
       "version_minor": 0
      },
      "text/plain": [
       "HBox(children=(FloatProgress(value=0.0, max=817.0), HTML(value='')))"
      ]
     },
     "metadata": {},
     "output_type": "display_data"
    },
    {
     "name": "stdout",
     "output_type": "stream",
     "text": [
      "\n"
     ]
    },
    {
     "data": {
      "application/vnd.jupyter.widget-view+json": {
       "model_id": "aeff2a23361448e5aa47738e17dfc021",
       "version_major": 2,
       "version_minor": 0
      },
      "text/plain": [
       "HBox(children=(FloatProgress(value=0.0, max=817.0), HTML(value='')))"
      ]
     },
     "metadata": {},
     "output_type": "display_data"
    },
    {
     "name": "stdout",
     "output_type": "stream",
     "text": [
      "\n"
     ]
    },
    {
     "data": {
      "application/vnd.jupyter.widget-view+json": {
       "model_id": "da63c26785124f2c9a46e5fcaade8dd2",
       "version_major": 2,
       "version_minor": 0
      },
      "text/plain": [
       "HBox(children=(FloatProgress(value=0.0, max=817.0), HTML(value='')))"
      ]
     },
     "metadata": {},
     "output_type": "display_data"
    },
    {
     "name": "stdout",
     "output_type": "stream",
     "text": [
      "\n"
     ]
    },
    {
     "data": {
      "application/vnd.jupyter.widget-view+json": {
       "model_id": "38e5cda662f049769cc8203a397fcb1b",
       "version_major": 2,
       "version_minor": 0
      },
      "text/plain": [
       "HBox(children=(FloatProgress(value=0.0, max=817.0), HTML(value='')))"
      ]
     },
     "metadata": {},
     "output_type": "display_data"
    },
    {
     "name": "stdout",
     "output_type": "stream",
     "text": [
      "\n"
     ]
    },
    {
     "data": {
      "application/vnd.jupyter.widget-view+json": {
       "model_id": "e1fb49cee020451c8fedb6936172bb55",
       "version_major": 2,
       "version_minor": 0
      },
      "text/plain": [
       "HBox(children=(FloatProgress(value=0.0, max=817.0), HTML(value='')))"
      ]
     },
     "metadata": {},
     "output_type": "display_data"
    },
    {
     "name": "stdout",
     "output_type": "stream",
     "text": [
      "\n"
     ]
    }
   ],
   "source": [
    "# Create empty dictionary\n",
    "rollingWindowsTA = dict()\n",
    "\n",
    "#Fill the dictionairy with the 2D array with rolling windows for each variable. \n",
    "for variable in ta.columns:\n",
    "    rollingWindowsTA[variable] = createRollingWindow1D(ta[variable], 12)"
   ]
  },
  {
   "cell_type": "code",
   "execution_count": 255,
   "metadata": {},
   "outputs": [],
   "source": [
    "df = pd.DataFrame(columns=['Variable', 'Coef', 'Intercept', 'R2'])\n",
    "\n",
    "for variable in ta.columns:\n",
    "    X_train, X_test, y_train, y_test = train_test_split(rollingWindowsTA[variable], y, train_size=168, random_state=0, shuffle=False)\n",
    "    reg = LinearRegression().fit(X_train, y_train)\n",
    "    \n",
    "    df = df.append(pd.Series({'Variable' : variable, \n",
    "                              'Coef' : reg.coef_[0], \n",
    "                              'Intercept' : reg.intercept_, \n",
    "                              'R2':  reg.score(X_train, y_train)}), ignore_index=True)\n",
    "    \n",
    "    y_pred = reg.predict(X_test)"
   ]
  },
  {
   "cell_type": "code",
   "execution_count": 256,
   "metadata": {},
   "outputs": [
    {
     "data": {
      "text/html": [
       "<div>\n",
       "<style scoped>\n",
       "    .dataframe tbody tr th:only-of-type {\n",
       "        vertical-align: middle;\n",
       "    }\n",
       "\n",
       "    .dataframe tbody tr th {\n",
       "        vertical-align: top;\n",
       "    }\n",
       "\n",
       "    .dataframe thead th {\n",
       "        text-align: right;\n",
       "    }\n",
       "</style>\n",
       "<table border=\"1\" class=\"dataframe\">\n",
       "  <thead>\n",
       "    <tr style=\"text-align: right;\">\n",
       "      <th></th>\n",
       "      <th>Variable</th>\n",
       "      <th>Coef</th>\n",
       "      <th>Intercept</th>\n",
       "      <th>R2</th>\n",
       "    </tr>\n",
       "  </thead>\n",
       "  <tbody>\n",
       "    <tr>\n",
       "      <th>0</th>\n",
       "      <td>MA(1,9)</td>\n",
       "      <td>-0.006507</td>\n",
       "      <td>0.014977</td>\n",
       "      <td>0.079938</td>\n",
       "    </tr>\n",
       "    <tr>\n",
       "      <th>1</th>\n",
       "      <td>MA(1,12)</td>\n",
       "      <td>-0.016159</td>\n",
       "      <td>0.020468</td>\n",
       "      <td>0.086660</td>\n",
       "    </tr>\n",
       "    <tr>\n",
       "      <th>2</th>\n",
       "      <td>MA(2,9)</td>\n",
       "      <td>-0.008058</td>\n",
       "      <td>0.015480</td>\n",
       "      <td>0.112626</td>\n",
       "    </tr>\n",
       "    <tr>\n",
       "      <th>3</th>\n",
       "      <td>MA(2,12)</td>\n",
       "      <td>-0.020813</td>\n",
       "      <td>0.020773</td>\n",
       "      <td>0.113394</td>\n",
       "    </tr>\n",
       "    <tr>\n",
       "      <th>4</th>\n",
       "      <td>MA(3,9)</td>\n",
       "      <td>-0.022828</td>\n",
       "      <td>0.019723</td>\n",
       "      <td>0.109648</td>\n",
       "    </tr>\n",
       "    <tr>\n",
       "      <th>5</th>\n",
       "      <td>MA(3,12)</td>\n",
       "      <td>-0.023328</td>\n",
       "      <td>0.020944</td>\n",
       "      <td>0.154533</td>\n",
       "    </tr>\n",
       "    <tr>\n",
       "      <th>6</th>\n",
       "      <td>MOM(9)</td>\n",
       "      <td>-0.016882</td>\n",
       "      <td>0.024376</td>\n",
       "      <td>0.077311</td>\n",
       "    </tr>\n",
       "    <tr>\n",
       "      <th>7</th>\n",
       "      <td>MOM(12)</td>\n",
       "      <td>-0.014455</td>\n",
       "      <td>0.025411</td>\n",
       "      <td>0.071408</td>\n",
       "    </tr>\n",
       "    <tr>\n",
       "      <th>8</th>\n",
       "      <td>VOL(1,9)</td>\n",
       "      <td>-0.001469</td>\n",
       "      <td>0.013710</td>\n",
       "      <td>0.029859</td>\n",
       "    </tr>\n",
       "    <tr>\n",
       "      <th>9</th>\n",
       "      <td>VOL(1,12)</td>\n",
       "      <td>0.001415</td>\n",
       "      <td>0.019103</td>\n",
       "      <td>0.041229</td>\n",
       "    </tr>\n",
       "    <tr>\n",
       "      <th>10</th>\n",
       "      <td>VOL(2,9)</td>\n",
       "      <td>0.001866</td>\n",
       "      <td>0.019360</td>\n",
       "      <td>0.035829</td>\n",
       "    </tr>\n",
       "    <tr>\n",
       "      <th>11</th>\n",
       "      <td>VOL(2,12)</td>\n",
       "      <td>-0.006739</td>\n",
       "      <td>0.016818</td>\n",
       "      <td>0.045640</td>\n",
       "    </tr>\n",
       "    <tr>\n",
       "      <th>12</th>\n",
       "      <td>VOL(3,9)</td>\n",
       "      <td>-0.003931</td>\n",
       "      <td>0.017141</td>\n",
       "      <td>0.020593</td>\n",
       "    </tr>\n",
       "    <tr>\n",
       "      <th>13</th>\n",
       "      <td>VOL(3,12)</td>\n",
       "      <td>-0.006796</td>\n",
       "      <td>0.018320</td>\n",
       "      <td>0.040164</td>\n",
       "    </tr>\n",
       "  </tbody>\n",
       "</table>\n",
       "</div>"
      ],
      "text/plain": [
       "     Variable      Coef  Intercept        R2\n",
       "0     MA(1,9) -0.006507   0.014977  0.079938\n",
       "1    MA(1,12) -0.016159   0.020468  0.086660\n",
       "2     MA(2,9) -0.008058   0.015480  0.112626\n",
       "3    MA(2,12) -0.020813   0.020773  0.113394\n",
       "4     MA(3,9) -0.022828   0.019723  0.109648\n",
       "5    MA(3,12) -0.023328   0.020944  0.154533\n",
       "6      MOM(9) -0.016882   0.024376  0.077311\n",
       "7     MOM(12) -0.014455   0.025411  0.071408\n",
       "8    VOL(1,9) -0.001469   0.013710  0.029859\n",
       "9   VOL(1,12)  0.001415   0.019103  0.041229\n",
       "10   VOL(2,9)  0.001866   0.019360  0.035829\n",
       "11  VOL(2,12) -0.006739   0.016818  0.045640\n",
       "12   VOL(3,9) -0.003931   0.017141  0.020593\n",
       "13  VOL(3,12) -0.006796   0.018320  0.040164"
      ]
     },
     "execution_count": 256,
     "metadata": {},
     "output_type": "execute_result"
    }
   ],
   "source": [
    "df"
   ]
  },
  {
   "cell_type": "code",
   "execution_count": null,
   "metadata": {},
   "outputs": [],
   "source": []
  }
 ],
 "metadata": {
  "kernelspec": {
   "display_name": "Python 3",
   "language": "python",
   "name": "python3"
  },
  "language_info": {
   "codemirror_mode": {
    "name": "ipython",
    "version": 3
   },
   "file_extension": ".py",
   "mimetype": "text/x-python",
   "name": "python",
   "nbconvert_exporter": "python",
   "pygments_lexer": "ipython3",
   "version": "3.6.10"
  }
 },
 "nbformat": 4,
 "nbformat_minor": 4
}
