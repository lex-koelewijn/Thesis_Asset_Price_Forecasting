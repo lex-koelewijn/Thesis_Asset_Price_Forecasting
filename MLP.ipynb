{
 "cells": [
  {
   "cell_type": "code",
   "execution_count": 2,
   "metadata": {},
   "outputs": [],
   "source": [
    "import pandas as pd\n",
    "import numpy as np\n",
    "import keras \n",
    "from utils.utils import *\n",
    "from utils.clarkWestTest import clarkWestTest\n",
    "\n",
    "from keras.models import Sequential\n",
    "from keras.layers import Dense, Activation, BatchNormalization\n",
    "from tensorflow.keras.callbacks import EarlyStopping\n",
    "from tensorflow.keras import regularizers\n",
    "from keras import optimizers \n",
    "from keras import metrics \n",
    "from tqdm.notebook import tqdm"
   ]
  },
  {
   "cell_type": "code",
   "execution_count": 3,
   "metadata": {},
   "outputs": [],
   "source": [
    "# Read in the relevant data for the analysis.\n",
    "ep = readEquityPremiumData()\n",
    "mev = readMacroEconomicVariableData()\n",
    "ta = readTechnicalIndicatorData()"
   ]
  },
  {
   "cell_type": "markdown",
   "metadata": {},
   "source": [
    "## Functions"
   ]
  },
  {
   "cell_type": "code",
   "execution_count": 6,
   "metadata": {},
   "outputs": [],
   "source": [
    "def normalizeData(X):\n",
    "    return (X-np.mean(X))/np.std(X)"
   ]
  },
  {
   "cell_type": "code",
   "execution_count": 7,
   "metadata": {},
   "outputs": [],
   "source": [
    "def analyzeResults(results, resultsRF, method, dataset):\n",
    "    \"\"\"\n",
    "    Calcutale the evaluation measures based on the results of a mdel and append them to a datafram provided. \n",
    "    \"\"\"\n",
    "    CW = clarkWestTest(results['Actual'].astype(float), results['HA'].astype(float), results['Pred'].astype(float))\n",
    "    resultsRF = resultsRF.append(pd.Series({\n",
    "                'Method': method,\n",
    "                'Dataset': dataset,\n",
    "                'R2': round(R2(results.Actual, results.Pred, results.HA) , 3),\n",
    "                'CW': significanceLevel(CW[0], CW[1]),\n",
    "                'DA': directionalAccuracy(results.Actual, results.Pred),\n",
    "                'DA HA': directionalAccuracy(results.Actual, results.HA)\n",
    "            }), ignore_index=True)\n",
    "    return resultsRF"
   ]
  },
  {
   "cell_type": "code",
   "execution_count": 8,
   "metadata": {},
   "outputs": [],
   "source": [
    "def createModel(hidden):\n",
    "    model = Sequential()\n",
    "    model.add(Dense(14, input_shape=(14, ), \n",
    "                    activation='relu', \n",
    "                    activity_regularizer=regularizers.l1(0.01)))\n",
    "    model.add(BatchNormalization())\n",
    "    model.add(Dense(hidden, \n",
    "                    activation='relu', \n",
    "                    activity_regularizer=regularizers.l1(0.01)))\n",
    "    model.add(BatchNormalization())\n",
    "    model.add(Dense(1, \n",
    "                    activation='linear', \n",
    "                    activity_regularizer=regularizers.l1(0.01)))\n",
    "\n",
    "    model.compile(optimizer = 'sgd', loss = 'mean_squared_error', metrics = ['mean_squared_error'])\n",
    "    early_stopping = EarlyStopping(monitor='val_loss', patience = 5, min_delta=0.001, mode = 'min')\n",
    "    model.fit(X_mev, y_mev, epochs=100, batch_size=256, validation_split = 0.2, callbacks=[early_stopping], verbose=0)\n",
    "    return model"
   ]
  },
  {
   "cell_type": "code",
   "execution_count": 9,
   "metadata": {},
   "outputs": [],
   "source": [
    "def trainMLP(X_mev, y_mev, window_size, hidden):\n",
    "    results = pd.DataFrame(columns=['Date_t', 'Date_t1', 'Actual', 'Pred', 'HA']) \n",
    "    \n",
    "    for i in tqdm(range(0, X_mev.shape[0]-window_size)):\n",
    "        #Slice the 180 month rolling window to train the model\n",
    "        X = X_mev.iloc[i:(window_size + i):]\n",
    "        y = y_mev[i:(window_size + i):]\n",
    "\n",
    "        #Get the X and y datapoint at time t (the most recent one) and seperate from the training set. \n",
    "        X_t = X.tail(1)\n",
    "        y_t1 = y.tail(1)\n",
    "        X = X.iloc[:X.shape[0]-1]\n",
    "        y = y.iloc[:y.shape[0]-1]\n",
    "        \n",
    "         # Define and train the model in keras once every year\n",
    "        if(i % 12 == 0):\n",
    "            model = createModel(hidden)\n",
    "\n",
    "        #Make a 1 month OOS prediction of the current time point t.\n",
    "        y_pred = model.predict(X_t)\n",
    "\n",
    "        #Calculate the historical average based on all returns in the current window\n",
    "        HA = y.mean()\n",
    "\n",
    "        results = results.append(pd.Series({\n",
    "            'Date_t': X_t.index.format()[0],\n",
    "            'Date_t1': ep.index[window_size+i],\n",
    "            'Actual': y_t1.values.astype('float64')[0],\n",
    "            'Pred': y_pred[0][0],\n",
    "            'HA': HA\n",
    "        }), ignore_index=True)\n",
    "        \n",
    "    return results"
   ]
  },
  {
   "cell_type": "code",
   "execution_count": 26,
   "metadata": {},
   "outputs": [],
   "source": [
    "def modelTrainingSequence(X, y, window_size, hidden, dataset):\n",
    "    performanceResults = pd.DataFrame(columns=['Method', 'Dataset', 'R2', 'CW']) \n",
    "    \n",
    "    # For each of the network specifications, try to find saved outputs. Otherwise train and evaluate model and save the outcomes. \n",
    "    for hidden in hidden_sizes:\n",
    "        try: \n",
    "            results = pd.read_parquet('output/MLP_' + str(dataset) +'_' + str(hidden) +'.gzip')\n",
    "        except:\n",
    "            print('No saved results found, running model estimation.')\n",
    "            results = trainMLP(X, y, window_size = window_size, hidden = hidden)\n",
    "            results.to_parquet('output/MLP_' + str(dataset) +'_' + str(hidden) +'.gzip', compression='gzip')\n",
    "        performanceResults = analyzeResults(results, performanceResults, method = 'MLP '+str(hidden), dataset = dataset)\n",
    "    \n",
    "    return performanceResults\n",
    "    "
   ]
  },
  {
   "cell_type": "markdown",
   "metadata": {},
   "source": [
    "### MLP MEV"
   ]
  },
  {
   "cell_type": "code",
   "execution_count": 18,
   "metadata": {},
   "outputs": [],
   "source": [
    "window_size = 180\n",
    "hidden_sizes = [32, 16, 8, 4, 2] \n",
    "check_existence_directory(['output'])"
   ]
  },
  {
   "cell_type": "code",
   "execution_count": 19,
   "metadata": {},
   "outputs": [],
   "source": [
    "y_mev = ep.shift(periods=-1)[:ep.shape[0]-1].reset_index(drop=True)['Log equity premium'].astype('float64')\n",
    "X_mev = mev.iloc[:mev.shape[0]-1]"
   ]
  },
  {
   "cell_type": "code",
   "execution_count": 20,
   "metadata": {},
   "outputs": [],
   "source": [
    "resultsMLP = modelTrainingSequence(normalizeData(X_mev), y_mev, window_size, hidden_sizes, dataset = 'MEV')"
   ]
  },
  {
   "cell_type": "code",
   "execution_count": 21,
   "metadata": {},
   "outputs": [
    {
     "data": {
      "text/html": [
       "<div>\n",
       "<style scoped>\n",
       "    .dataframe tbody tr th:only-of-type {\n",
       "        vertical-align: middle;\n",
       "    }\n",
       "\n",
       "    .dataframe tbody tr th {\n",
       "        vertical-align: top;\n",
       "    }\n",
       "\n",
       "    .dataframe thead th {\n",
       "        text-align: right;\n",
       "    }\n",
       "</style>\n",
       "<table border=\"1\" class=\"dataframe\">\n",
       "  <thead>\n",
       "    <tr style=\"text-align: right;\">\n",
       "      <th></th>\n",
       "      <th>Method</th>\n",
       "      <th>Dataset</th>\n",
       "      <th>R2</th>\n",
       "      <th>CW</th>\n",
       "      <th>DA</th>\n",
       "      <th>DA HA</th>\n",
       "    </tr>\n",
       "  </thead>\n",
       "  <tbody>\n",
       "    <tr>\n",
       "      <th>0</th>\n",
       "      <td>MLP 32</td>\n",
       "      <td>MEV</td>\n",
       "      <td>-266.661</td>\n",
       "      <td>1.07</td>\n",
       "      <td>50.62</td>\n",
       "      <td>56.02</td>\n",
       "    </tr>\n",
       "    <tr>\n",
       "      <th>1</th>\n",
       "      <td>MLP 16</td>\n",
       "      <td>MEV</td>\n",
       "      <td>-215.638</td>\n",
       "      <td>0.28</td>\n",
       "      <td>50.00</td>\n",
       "      <td>56.02</td>\n",
       "    </tr>\n",
       "    <tr>\n",
       "      <th>2</th>\n",
       "      <td>MLP 8</td>\n",
       "      <td>MEV</td>\n",
       "      <td>-418.934</td>\n",
       "      <td>-1.02</td>\n",
       "      <td>48.15</td>\n",
       "      <td>56.02</td>\n",
       "    </tr>\n",
       "    <tr>\n",
       "      <th>3</th>\n",
       "      <td>MLP 4</td>\n",
       "      <td>MEV</td>\n",
       "      <td>-130.138</td>\n",
       "      <td>-0.45</td>\n",
       "      <td>49.07</td>\n",
       "      <td>56.02</td>\n",
       "    </tr>\n",
       "    <tr>\n",
       "      <th>4</th>\n",
       "      <td>MLP 2</td>\n",
       "      <td>MEV</td>\n",
       "      <td>-139.575</td>\n",
       "      <td>1.16</td>\n",
       "      <td>56.17</td>\n",
       "      <td>56.02</td>\n",
       "    </tr>\n",
       "  </tbody>\n",
       "</table>\n",
       "</div>"
      ],
      "text/plain": [
       "   Method Dataset       R2     CW     DA  DA HA\n",
       "0  MLP 32     MEV -266.661   1.07  50.62  56.02\n",
       "1  MLP 16     MEV -215.638   0.28  50.00  56.02\n",
       "2   MLP 8     MEV -418.934  -1.02  48.15  56.02\n",
       "3   MLP 4     MEV -130.138  -0.45  49.07  56.02\n",
       "4   MLP 2     MEV -139.575   1.16  56.17  56.02"
      ]
     },
     "execution_count": 21,
     "metadata": {},
     "output_type": "execute_result"
    }
   ],
   "source": [
    "resultsMLP"
   ]
  },
  {
   "cell_type": "markdown",
   "metadata": {},
   "source": [
    "### resultsMLP"
   ]
  },
  {
   "cell_type": "markdown",
   "metadata": {},
   "source": [
    "### MLP TA"
   ]
  },
  {
   "cell_type": "code",
   "execution_count": 22,
   "metadata": {},
   "outputs": [],
   "source": [
    "window_size = 180\n",
    "hidden_sizes = [32, 16, 8, 4, 2] \n",
    "check_existence_directory(['output'])"
   ]
  },
  {
   "cell_type": "code",
   "execution_count": 23,
   "metadata": {},
   "outputs": [],
   "source": [
    "#Shift y variable by 1 month to the future and remove the last observation of the independent variables. Now X and y line up such that each row in X is at time t\n",
    "# and each row in y with the same index is t+1.\n",
    "y_ta = ep.shift(periods=-1)[:ep.shape[0]-1].reset_index(drop=True)['Log equity premium'].astype('float64')\n",
    "X_ta = ta.iloc[:ta.shape[0]-1]"
   ]
  },
  {
   "cell_type": "code",
   "execution_count": 24,
   "metadata": {},
   "outputs": [],
   "source": [
    "resultsTA = modelTrainingSequence(normalizeData(X_ta), y_ta, window_size, hidden_sizes, dataset = 'TA')"
   ]
  },
  {
   "cell_type": "code",
   "execution_count": 25,
   "metadata": {},
   "outputs": [
    {
     "data": {
      "text/html": [
       "<div>\n",
       "<style scoped>\n",
       "    .dataframe tbody tr th:only-of-type {\n",
       "        vertical-align: middle;\n",
       "    }\n",
       "\n",
       "    .dataframe tbody tr th {\n",
       "        vertical-align: top;\n",
       "    }\n",
       "\n",
       "    .dataframe thead th {\n",
       "        text-align: right;\n",
       "    }\n",
       "</style>\n",
       "<table border=\"1\" class=\"dataframe\">\n",
       "  <thead>\n",
       "    <tr style=\"text-align: right;\">\n",
       "      <th></th>\n",
       "      <th>Method</th>\n",
       "      <th>Dataset</th>\n",
       "      <th>R2</th>\n",
       "      <th>CW</th>\n",
       "      <th>DA</th>\n",
       "      <th>DA HA</th>\n",
       "    </tr>\n",
       "  </thead>\n",
       "  <tbody>\n",
       "    <tr>\n",
       "      <th>0</th>\n",
       "      <td>MLP 32</td>\n",
       "      <td>TA</td>\n",
       "      <td>-164.918</td>\n",
       "      <td>0.11</td>\n",
       "      <td>49.54</td>\n",
       "      <td>56.02</td>\n",
       "    </tr>\n",
       "    <tr>\n",
       "      <th>1</th>\n",
       "      <td>MLP 16</td>\n",
       "      <td>TA</td>\n",
       "      <td>-236.502</td>\n",
       "      <td>-1.71</td>\n",
       "      <td>51.39</td>\n",
       "      <td>56.02</td>\n",
       "    </tr>\n",
       "    <tr>\n",
       "      <th>2</th>\n",
       "      <td>MLP 8</td>\n",
       "      <td>TA</td>\n",
       "      <td>-340.942</td>\n",
       "      <td>0.08</td>\n",
       "      <td>48.92</td>\n",
       "      <td>56.02</td>\n",
       "    </tr>\n",
       "    <tr>\n",
       "      <th>3</th>\n",
       "      <td>MLP 4</td>\n",
       "      <td>TA</td>\n",
       "      <td>-256.960</td>\n",
       "      <td>0.49</td>\n",
       "      <td>54.48</td>\n",
       "      <td>56.02</td>\n",
       "    </tr>\n",
       "    <tr>\n",
       "      <th>4</th>\n",
       "      <td>MLP 2</td>\n",
       "      <td>TA</td>\n",
       "      <td>-119.965</td>\n",
       "      <td>0.63</td>\n",
       "      <td>50.77</td>\n",
       "      <td>56.02</td>\n",
       "    </tr>\n",
       "  </tbody>\n",
       "</table>\n",
       "</div>"
      ],
      "text/plain": [
       "   Method Dataset       R2     CW     DA  DA HA\n",
       "0  MLP 32      TA -164.918   0.11  49.54  56.02\n",
       "1  MLP 16      TA -236.502  -1.71  51.39  56.02\n",
       "2   MLP 8      TA -340.942   0.08  48.92  56.02\n",
       "3   MLP 4      TA -256.960   0.49  54.48  56.02\n",
       "4   MLP 2      TA -119.965   0.63  50.77  56.02"
      ]
     },
     "execution_count": 25,
     "metadata": {},
     "output_type": "execute_result"
    }
   ],
   "source": [
    "resultsTA"
   ]
  },
  {
   "cell_type": "code",
   "execution_count": null,
   "metadata": {},
   "outputs": [],
   "source": []
  },
  {
   "cell_type": "code",
   "execution_count": null,
   "metadata": {},
   "outputs": [],
   "source": []
  },
  {
   "cell_type": "code",
   "execution_count": null,
   "metadata": {},
   "outputs": [],
   "source": []
  },
  {
   "cell_type": "code",
   "execution_count": null,
   "metadata": {},
   "outputs": [],
   "source": []
  },
  {
   "cell_type": "code",
   "execution_count": null,
   "metadata": {},
   "outputs": [],
   "source": []
  },
  {
   "cell_type": "code",
   "execution_count": null,
   "metadata": {},
   "outputs": [],
   "source": []
  },
  {
   "cell_type": "code",
   "execution_count": null,
   "metadata": {},
   "outputs": [],
   "source": []
  },
  {
   "cell_type": "code",
   "execution_count": null,
   "metadata": {},
   "outputs": [],
   "source": []
  },
  {
   "cell_type": "code",
   "execution_count": null,
   "metadata": {},
   "outputs": [],
   "source": []
  },
  {
   "cell_type": "code",
   "execution_count": null,
   "metadata": {},
   "outputs": [],
   "source": []
  },
  {
   "cell_type": "code",
   "execution_count": null,
   "metadata": {},
   "outputs": [],
   "source": []
  }
 ],
 "metadata": {
  "kernelspec": {
   "display_name": "Python 3",
   "language": "python",
   "name": "python3"
  },
  "language_info": {
   "codemirror_mode": {
    "name": "ipython",
    "version": 3
   },
   "file_extension": ".py",
   "mimetype": "text/x-python",
   "name": "python",
   "nbconvert_exporter": "python",
   "pygments_lexer": "ipython3",
   "version": "3.6.10"
  }
 },
 "nbformat": 4,
 "nbformat_minor": 4
}
