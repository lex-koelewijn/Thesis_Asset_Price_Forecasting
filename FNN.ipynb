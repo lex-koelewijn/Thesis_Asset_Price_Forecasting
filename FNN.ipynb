{
 "cells": [
  {
   "cell_type": "code",
   "execution_count": 2,
   "metadata": {},
   "outputs": [],
   "source": [
    "import keras\n",
    "import tensorflow\n",
    "import pandas as pd\n",
    "import numpy as np\n",
    "from keras.models import Sequential\n",
    "from keras.layers import Dense, Activation, BatchNormalization\n",
    "from tensorflow.keras.callbacks import EarlyStopping\n",
    "from tensorflow.keras import regularizers\n",
    "from sklearn.decomposition import PCA\n",
    "from pandas.testing import assert_series_equal\n",
    "from keras import optimizers \n",
    "from keras import metrics \n",
    "from tqdm.notebook import tqdm\n",
    "from numpy.random import seed"
   ]
  },
  {
   "cell_type": "markdown",
   "metadata": {},
   "source": [
    "## Google Collab Setup \n",
    "The following blocks of code should be used when running the code on Google Collab. (Meaning the local set up block should be commented) "
   ]
  },
  {
   "cell_type": "code",
   "execution_count": null,
   "metadata": {},
   "outputs": [],
   "source": [
    "import sys\n",
    "import os\n",
    "import tensorflow as tf\n",
    "from google.colab import files\n",
    "from google.colab import drive"
   ]
  },
  {
   "cell_type": "code",
   "execution_count": null,
   "metadata": {},
   "outputs": [],
   "source": [
    "# Mount my google drive where the input files are stored. \n",
    "drive.mount('/content/drive')\n",
    "sys.path.append('/content/drive/MyDrive/RUG/Master thesis finance/')\n",
    "\n",
    "#Import util files from Drive\n",
    "from utils.utils import *\n",
    "from utils.clarkWestTest import clarkWestTest"
   ]
  },
  {
   "cell_type": "code",
   "execution_count": null,
   "metadata": {},
   "outputs": [],
   "source": [
    "# Load the GPU provided by google\n",
    "device_name = tf.test.gpu_device_name()\n",
    "if device_name != '/device:GPU:0':\n",
    "  raise SystemError('GPU device not found')\n",
    "print('Found GPU at: {}'.format(device_name))\n",
    "\n",
    "#Set desired verbosity of tensorflow\n",
    "tf.compat.v1.logging.set_verbosity(tf.compat.v1.logging.ERROR)\n",
    "\n",
    "# Read the data from the drive location\n",
    "path_to_data = '/content/drive/MyDrive/RUG/Master thesis finance/'\n",
    "# Read in the relevant data for the analysis.\n",
    "ep = readEquityPremiumData(path_to_data)\n",
    "mev = readMacroEconomicVariableData(path_to_data)\n",
    "ta = readTechnicalIndicatorData(path_to_data)"
   ]
  },
  {
   "cell_type": "code",
   "execution_count": null,
   "metadata": {},
   "outputs": [],
   "source": [
    "def downloadFiles(directory):\n",
    "    \"\"\"\n",
    "    Function which downloads all files in the directory specified in the Collab environment.   \n",
    "    \"\"\"\n",
    "    for filename in os.listdir(directory):\n",
    "        files.download(directory+filename)"
   ]
  },
  {
   "cell_type": "code",
   "execution_count": null,
   "metadata": {},
   "outputs": [],
   "source": [
    "def copyFilesToDrive():\n",
    "    \"\"\"\n",
    "    Function which copies all the output files to my personal drive. Fully hardcoded.   \n",
    "    \"\"\"\n",
    "    !cp -r 'output/' '/content/drive/MyDrive/RUG/Master thesis finance/'"
   ]
  },
  {
   "cell_type": "markdown",
   "metadata": {},
   "source": [
    "## Local Setup\n",
    "The code blocks below should be used when running the repository on a local machine. (Meaning the Google collab block should be commented)"
   ]
  },
  {
   "cell_type": "code",
   "execution_count": 3,
   "metadata": {},
   "outputs": [],
   "source": [
    "from utils.utils import *\n",
    "from utils.clarkWestTest import clarkWestTest"
   ]
  },
  {
   "cell_type": "code",
   "execution_count": 4,
   "metadata": {},
   "outputs": [],
   "source": [
    "ep = readEquityPremiumData()\n",
    "mev = readMacroEconomicVariableData()\n",
    "ta = readTechnicalIndicatorData()"
   ]
  },
  {
   "cell_type": "markdown",
   "metadata": {},
   "source": [
    "## Global Setup\n",
    "From hereonout all code works both on a local machine or in Google collab. The required settings that are unisversal will be applied below. "
   ]
  },
  {
   "cell_type": "code",
   "execution_count": 5,
   "metadata": {},
   "outputs": [],
   "source": [
    "#Set fixed seed for python, numpy and tensorflow\n",
    "seed(42)\n",
    "np.random.seed(42)\n",
    "try:\n",
    "    tensorflow.random.set_seed(42)\n",
    "except:\n",
    "    tensorflow.set_random_seed(42)"
   ]
  },
  {
   "cell_type": "markdown",
   "metadata": {},
   "source": [
    "## Functions"
   ]
  },
  {
   "cell_type": "code",
   "execution_count": 8,
   "metadata": {},
   "outputs": [],
   "source": [
    "def createModel(X, y, inputUnits, inputShape, hidden):\n",
    "    \"\"\"\n",
    "    Define the model in keras. Hidden is an array where each value in the array represents the number of hidden units of said layer. Thus [32, 16] means two hidden layers, \n",
    "    one with 32 units and one with 16 units.\n",
    "    \"\"\"\n",
    "    model = Sequential()\n",
    "    \n",
    "    # Input layer\n",
    "    model.add(Dense(inputUnits, input_shape=inputShape, \n",
    "                    activation='relu', \n",
    "                    activity_regularizer=regularizers.l1(0.01)))\n",
    "    model.add(BatchNormalization())\n",
    "    \n",
    "    # Add hidden layers\n",
    "    for units in hidden:\n",
    "        model.add(Dense(units, \n",
    "                        activation='relu', \n",
    "                        activity_regularizer=regularizers.l1(0.01)))\n",
    "        model.add(BatchNormalization())\n",
    "    \n",
    "    \n",
    "    # Output layer\n",
    "    model.add(Dense(1, \n",
    "                    activation='linear', \n",
    "                    activity_regularizer=regularizers.l1(0.01)))\n",
    "\n",
    "    model.compile(optimizer = 'ADAM', loss = 'mean_squared_error', metrics = ['mean_squared_error'])\n",
    "    early_stopping = EarlyStopping(monitor='val_loss', patience = 5, min_delta=0.001, mode = 'min')\n",
    "    model.fit(X, y, epochs=100, batch_size=8, validation_split = 0.2, callbacks=[early_stopping], verbose=0)\n",
    "    return model"
   ]
  },
  {
   "cell_type": "code",
   "execution_count": 9,
   "metadata": {},
   "outputs": [],
   "source": [
    "def trainFNN(X_mev, y_mev, window_size, hidden, inputUnits, inputShape):\n",
    "    results = pd.DataFrame(columns=['Date_t', 'Date_t1', 'Actual', 'Pred', 'HA']) \n",
    "    \n",
    "    for i in tqdm(range(0, X_mev.shape[0]-window_size)):\n",
    "        #Slice the 180 month rolling window to train the model\n",
    "        X = X_mev.iloc[i:(window_size + i):]\n",
    "        y = y_mev[i:(window_size + i):]\n",
    "\n",
    "        #Get the X and y datapoint at time t (the most recent one) and seperate from the training set. \n",
    "        X_t = X.tail(1)\n",
    "        y_t1 = y.tail(1)\n",
    "        X = X.iloc[:X.shape[0]-1]\n",
    "        y = y.iloc[:y.shape[0]-1]\n",
    "        \n",
    "         # Define and train the model in keras once every year\n",
    "        if(i % 12 == 0):\n",
    "            model = createModel(X, y, inputUnits, inputShape, hidden)\n",
    "\n",
    "        #Make a 1 month OOS prediction of the current time point t.\n",
    "        y_pred = model.predict(X_t)\n",
    "\n",
    "        #Calculate the historical average based on all returns in the current window\n",
    "        HA = y.mean()\n",
    "\n",
    "        results = results.append(pd.Series({\n",
    "            'Date_t': X_t.index.format()[0],\n",
    "            'Date_t1': ep.index[window_size+i],\n",
    "            'Actual': y_t1.values.astype('float64')[0],\n",
    "            'Pred': y_pred[0][0],\n",
    "            'HA': HA\n",
    "        }), ignore_index=True)\n",
    "        \n",
    "    return results"
   ]
  },
  {
   "cell_type": "code",
   "execution_count": 10,
   "metadata": {},
   "outputs": [],
   "source": [
    "def modelTrainingSequence(X, y, window_size, hidden, architecture, dataset, inputUnits, inputShape):\n",
    "    performanceResults = pd.DataFrame(columns=['Method', 'Dataset', 'R2', 'CW']) \n",
    "    \n",
    "    # For each of the network specifications, try to find saved outputs. Otherwise train and evaluate model and save the outcomes. \n",
    "    for hidden in hidden_sizes:\n",
    "        try: \n",
    "            results = pd.read_parquet('output/' + str(architecture) + '_' + str(dataset) +'_' + str(hidden).replace('[', '').replace(']', '').replace(', ', '_') +'.gzip')\n",
    "        except:\n",
    "            print('No saved results found, running model estimation.')\n",
    "            results = trainFNN(X, y, window_size = window_size, hidden = hidden, inputUnits = inputUnits, inputShape = inputShape)\n",
    "            results.to_parquet('output/' + str(architecture) + '_' + str(dataset) +'_' + str(hidden).replace('[', '').replace(']', '').replace(', ', '_') +'.gzip', compression='gzip')\n",
    "        performanceResults = analyzeResults(results, performanceResults, method = str(architecture)+' '+str(hidden), dataset = dataset)\n",
    "    \n",
    "    return performanceResults\n",
    "    "
   ]
  },
  {
   "cell_type": "markdown",
   "metadata": {},
   "source": [
    "### FNN MEV\n",
    "Run the FNN for all the macroeconomic at once as training input. "
   ]
  },
  {
   "cell_type": "code",
   "execution_count": 11,
   "metadata": {},
   "outputs": [],
   "source": [
    "window_size = 180\n",
    "hidden_sizes = [[32], [32, 16], [32, 16, 8], [32, 16, 8, 4], [32, 16, 8, 4, 2]] \n",
    "check_existence_directory(['output'])"
   ]
  },
  {
   "cell_type": "code",
   "execution_count": 12,
   "metadata": {},
   "outputs": [],
   "source": [
    "y_mev = ep.shift(periods=-1)[:ep.shape[0]-1].reset_index(drop=True)['Log equity premium'].astype('float64')\n",
    "X_mev = mev.iloc[:mev.shape[0]-1]"
   ]
  },
  {
   "cell_type": "code",
   "execution_count": 13,
   "metadata": {},
   "outputs": [],
   "source": [
    "resultsMEVAll = modelTrainingSequence(normalizeData(X_mev), normalizeData(y_mev), window_size, hidden_sizes, architecture = 'FNN', dataset = 'MEV', inputUnits = 14, inputShape = (14,))"
   ]
  },
  {
   "cell_type": "code",
   "execution_count": 15,
   "metadata": {},
   "outputs": [
    {
     "data": {
      "text/html": [
       "<div>\n",
       "<style scoped>\n",
       "    .dataframe tbody tr th:only-of-type {\n",
       "        vertical-align: middle;\n",
       "    }\n",
       "\n",
       "    .dataframe tbody tr th {\n",
       "        vertical-align: top;\n",
       "    }\n",
       "\n",
       "    .dataframe thead th {\n",
       "        text-align: right;\n",
       "    }\n",
       "</style>\n",
       "<table border=\"1\" class=\"dataframe\">\n",
       "  <thead>\n",
       "    <tr style=\"text-align: right;\">\n",
       "      <th></th>\n",
       "      <th>Method</th>\n",
       "      <th>Dataset</th>\n",
       "      <th>R2</th>\n",
       "      <th>CW</th>\n",
       "      <th>DA</th>\n",
       "      <th>DA HA</th>\n",
       "    </tr>\n",
       "  </thead>\n",
       "  <tbody>\n",
       "    <tr>\n",
       "      <th>0</th>\n",
       "      <td>FNN [32]</td>\n",
       "      <td>MEV</td>\n",
       "      <td>-0.106</td>\n",
       "      <td>0.81</td>\n",
       "      <td>46.30</td>\n",
       "      <td>49.69</td>\n",
       "    </tr>\n",
       "    <tr>\n",
       "      <th>1</th>\n",
       "      <td>FNN [32, 16]</td>\n",
       "      <td>MEV</td>\n",
       "      <td>-0.039</td>\n",
       "      <td>0.48</td>\n",
       "      <td>48.30</td>\n",
       "      <td>49.69</td>\n",
       "    </tr>\n",
       "    <tr>\n",
       "      <th>2</th>\n",
       "      <td>FNN [32, 16, 8]</td>\n",
       "      <td>MEV</td>\n",
       "      <td>-0.027</td>\n",
       "      <td>-0.01</td>\n",
       "      <td>49.07</td>\n",
       "      <td>49.69</td>\n",
       "    </tr>\n",
       "    <tr>\n",
       "      <th>3</th>\n",
       "      <td>FNN [32, 16, 8, 4]</td>\n",
       "      <td>MEV</td>\n",
       "      <td>-0.008</td>\n",
       "      <td>0.37</td>\n",
       "      <td>48.77</td>\n",
       "      <td>49.69</td>\n",
       "    </tr>\n",
       "    <tr>\n",
       "      <th>4</th>\n",
       "      <td>FNN [32, 16, 8, 4, 2]</td>\n",
       "      <td>MEV</td>\n",
       "      <td>0.002</td>\n",
       "      <td>1.22</td>\n",
       "      <td>51.54</td>\n",
       "      <td>49.69</td>\n",
       "    </tr>\n",
       "  </tbody>\n",
       "</table>\n",
       "</div>"
      ],
      "text/plain": [
       "                  Method Dataset     R2     CW     DA  DA HA\n",
       "0               FNN [32]     MEV -0.106   0.81  46.30  49.69\n",
       "1           FNN [32, 16]     MEV -0.039   0.48  48.30  49.69\n",
       "2        FNN [32, 16, 8]     MEV -0.027  -0.01  49.07  49.69\n",
       "3     FNN [32, 16, 8, 4]     MEV -0.008   0.37  48.77  49.69\n",
       "4  FNN [32, 16, 8, 4, 2]     MEV  0.002   1.22  51.54  49.69"
      ]
     },
     "execution_count": 15,
     "metadata": {},
     "output_type": "execute_result"
    }
   ],
   "source": [
    "resultsMEVAll"
   ]
  },
  {
   "cell_type": "markdown",
   "metadata": {},
   "source": [
    "### FNN TA\n",
    "Run the FNN for all the macroeconomic at once as training input. "
   ]
  },
  {
   "cell_type": "code",
   "execution_count": 17,
   "metadata": {},
   "outputs": [],
   "source": [
    "window_size = 180\n",
    "hidden_sizes = [[32], [32, 16], [32, 16, 8], [32, 16, 8, 4], [32, 16, 8, 4, 2]] \n",
    "check_existence_directory(['output'])"
   ]
  },
  {
   "cell_type": "code",
   "execution_count": 18,
   "metadata": {},
   "outputs": [],
   "source": [
    "#Shift y variable by 1 month to the future and remove the last observation of the independent variables. Now X and y line up such that each row in X is at time t\n",
    "# and each row in y with the same index is t+1.\n",
    "y_ta = ep.shift(periods=-1)[:ep.shape[0]-1].reset_index(drop=True)['Log equity premium'].astype('float64')\n",
    "X_ta = ta.iloc[:ta.shape[0]-1]"
   ]
  },
  {
   "cell_type": "code",
   "execution_count": 19,
   "metadata": {},
   "outputs": [],
   "source": [
    "resultsTAAll = modelTrainingSequence(normalizeData(X_ta), normalizeData(y_ta), window_size, hidden_sizes, architecture = 'FNN', dataset = 'TA', inputUnits = 14, inputShape = (14,))"
   ]
  },
  {
   "cell_type": "code",
   "execution_count": 20,
   "metadata": {},
   "outputs": [
    {
     "data": {
      "text/html": [
       "<div>\n",
       "<style scoped>\n",
       "    .dataframe tbody tr th:only-of-type {\n",
       "        vertical-align: middle;\n",
       "    }\n",
       "\n",
       "    .dataframe tbody tr th {\n",
       "        vertical-align: top;\n",
       "    }\n",
       "\n",
       "    .dataframe thead th {\n",
       "        text-align: right;\n",
       "    }\n",
       "</style>\n",
       "<table border=\"1\" class=\"dataframe\">\n",
       "  <thead>\n",
       "    <tr style=\"text-align: right;\">\n",
       "      <th></th>\n",
       "      <th>Method</th>\n",
       "      <th>Dataset</th>\n",
       "      <th>R2</th>\n",
       "      <th>CW</th>\n",
       "      <th>DA</th>\n",
       "      <th>DA HA</th>\n",
       "    </tr>\n",
       "  </thead>\n",
       "  <tbody>\n",
       "    <tr>\n",
       "      <th>0</th>\n",
       "      <td>FNN [32]</td>\n",
       "      <td>TA</td>\n",
       "      <td>-0.232</td>\n",
       "      <td>-2.49</td>\n",
       "      <td>48.92</td>\n",
       "      <td>49.69</td>\n",
       "    </tr>\n",
       "    <tr>\n",
       "      <th>1</th>\n",
       "      <td>FNN [32, 16]</td>\n",
       "      <td>TA</td>\n",
       "      <td>-0.043</td>\n",
       "      <td>1.82**</td>\n",
       "      <td>50.31</td>\n",
       "      <td>49.69</td>\n",
       "    </tr>\n",
       "    <tr>\n",
       "      <th>2</th>\n",
       "      <td>FNN [32, 16, 8]</td>\n",
       "      <td>TA</td>\n",
       "      <td>-0.052</td>\n",
       "      <td>-0.55</td>\n",
       "      <td>46.30</td>\n",
       "      <td>49.69</td>\n",
       "    </tr>\n",
       "    <tr>\n",
       "      <th>3</th>\n",
       "      <td>FNN [32, 16, 8, 4]</td>\n",
       "      <td>TA</td>\n",
       "      <td>-0.036</td>\n",
       "      <td>0.75</td>\n",
       "      <td>48.15</td>\n",
       "      <td>49.69</td>\n",
       "    </tr>\n",
       "    <tr>\n",
       "      <th>4</th>\n",
       "      <td>FNN [32, 16, 8, 4, 2]</td>\n",
       "      <td>TA</td>\n",
       "      <td>-0.014</td>\n",
       "      <td>-0.39</td>\n",
       "      <td>45.83</td>\n",
       "      <td>49.69</td>\n",
       "    </tr>\n",
       "  </tbody>\n",
       "</table>\n",
       "</div>"
      ],
      "text/plain": [
       "                  Method Dataset     R2      CW     DA  DA HA\n",
       "0               FNN [32]      TA -0.232   -2.49  48.92  49.69\n",
       "1           FNN [32, 16]      TA -0.043  1.82**  50.31  49.69\n",
       "2        FNN [32, 16, 8]      TA -0.052   -0.55  46.30  49.69\n",
       "3     FNN [32, 16, 8, 4]      TA -0.036    0.75  48.15  49.69\n",
       "4  FNN [32, 16, 8, 4, 2]      TA -0.014   -0.39  45.83  49.69"
      ]
     },
     "execution_count": 20,
     "metadata": {},
     "output_type": "execute_result"
    }
   ],
   "source": [
    "resultsTAAll"
   ]
  },
  {
   "cell_type": "markdown",
   "metadata": {},
   "source": [
    "### FNN ALL\n",
    "Run the FNN for all the macroeconomic variables and techical indicators at once. "
   ]
  },
  {
   "cell_type": "code",
   "execution_count": 63,
   "metadata": {},
   "outputs": [],
   "source": [
    "assert_series_equal(y_ta, y_mev)\n",
    "y_all = y_ta\n",
    "X_all = pd.concat([X_mev, X_ta], ignore_index = False, axis =1)\n",
    "resultsAll = modelTrainingSequence(normalizeData(X_all), normalizeData(y_all), window_size, hidden_sizes, architecture = 'FNN', dataset = 'ALL', inputUnits = 28, inputShape = (28,))"
   ]
  },
  {
   "cell_type": "code",
   "execution_count": null,
   "metadata": {},
   "outputs": [],
   "source": [
    "resultsAll"
   ]
  },
  {
   "cell_type": "markdown",
   "metadata": {},
   "source": [
    "# Principal Components Analysis"
   ]
  },
  {
   "cell_type": "code",
   "execution_count": 76,
   "metadata": {},
   "outputs": [],
   "source": [
    "def trainPCAModel(X, y, explainedVariance, hidden, architecture, dataset):\n",
    "    performanceResults = pd.DataFrame(columns=['Method', 'Dataset', 'R2', 'CW', 'DA', 'DA HA', 'MSFE', 'MSFE HA']) \n",
    "    \n",
    "    # Let the PCA analysis determine the optimal number of components such that >95% of the variance is explained. \n",
    "    pca = PCA(n_components=0.95, svd_solver='full')\n",
    "    X = pd.DataFrame(pca.fit_transform(normalizeData(X)))\n",
    "    y = normalizeData(y)\n",
    "    \n",
    "    #Extract the input sizes from the PCA transformed dataset. \n",
    "    inputUnits = X.shape[1]\n",
    "    inputShape = (X.shape[1],)\n",
    "    \n",
    "    for hidden in hidden_sizes:\n",
    "        try: \n",
    "            results_pca = pd.read_parquet('output/' + str(architecture) + '_' + str(dataset) +'_' + str(hidden).replace('[', '').replace(']', '').replace(', ', '_')+ '_PCA' +'.gzip')\n",
    "        except:\n",
    "            print('No saved results found, running model estimation.')\n",
    "            results_pca = trainFNN(X, y, window_size = window_size, hidden = hidden, inputUnits = inputUnits, inputShape = inputShape)\n",
    "            results_pca.to_parquet('output/' + str(architecture) + '_' + str(dataset) +'_' + str(hidden).replace('[', '').replace(']', '').replace(', ', '_')+ '_PCA' +'.gzip', compression='gzip')\n",
    "            copyFilesToDrive()\n",
    "        performanceResults = analyzeResults(results_pca, performanceResults, method = str(architecture)+' PCA '+str(hidden), dataset = dataset)\n",
    "                                   \n",
    "    return performanceResults                                \n"
   ]
  },
  {
   "cell_type": "code",
   "execution_count": null,
   "metadata": {},
   "outputs": [],
   "source": [
    "resultsMEVPCA = trainPCAModel(X_mev, y_mev, window_size, hidden_sizes, architecture = 'FNN', dataset = 'MEV')\n",
    "resultsTAPCA = trainPCAModel(X_ta, y_ta, window_size, hidden_sizes, architecture = 'FNN', dataset = 'TA')\n",
    "resultsALLPCA = trainPCAModel(X_all, y_all, window_size, hidden_sizes, architecture = 'FNN', dataset = 'ALL')\n",
    "resultsPCACombined = pd.concat([resultsMEVPCA, resultsTAPCA, resultsALLPCA])"
   ]
  },
  {
   "cell_type": "markdown",
   "metadata": {},
   "source": [
    "# Analysis per Variable\n",
    "Up till now we have trained models using a vector of all variables at each time point. In the analysis below models will be trained for each variable seperately with the same set up as above. This allows us to observe the predictive power of variables indivdually given the current model architecucture."
   ]
  },
  {
   "cell_type": "code",
   "execution_count": 21,
   "metadata": {},
   "outputs": [],
   "source": [
    "def runAnalysisPerVariable(X_raw, y_raw, hidden,  window_size, architecture, dataset, inputUnits, inputShape):\n",
    "    # Initialize empty datafram to contain the results. \n",
    "    resultsDF = pd.DataFrame(columns=['Method', 'Dataset', 'R2', 'CW']) \n",
    "    \n",
    "    # Init y\n",
    "    y = y_raw.shift(periods=-1)[:y_raw.shape[0]-1].reset_index(drop=True)['Log equity premium'].astype('float64')\n",
    "\n",
    "    for variable in X_raw.columns:\n",
    "        # Select current variable and reshape such that pandas and numpy understand each other. \n",
    "        X = X_raw.iloc[:X_raw.shape[0]-1][variable]\n",
    "        X = pd.DataFrame(X.values.reshape(-1, 1))\n",
    "        \n",
    "        for hidden in hidden_sizes:\n",
    "            # If model has been trained already we load input, otherwise train model. \n",
    "            try: \n",
    "                results = pd.read_parquet('output/' + str(architecture) + '_' + str(dataset) +'_' + str(hidden).replace('[', '').replace(']', '').replace(', ', '_') + '_' + str(variable).replace(' ', '').replace('%', '') + '.gzip')\n",
    "            except:\n",
    "                print('No saved results found, running model estimation.')\n",
    "                results = trainFNN(normalizeData(X), normalizeData(y), window_size = window_size, hidden = hidden, inputUnits = inputUnits, inputShape = inputShape)\n",
    "                results.to_parquet('output/' + str(architecture) + '_' + str(dataset) +'_' + str(hidden).replace('[', '').replace(']', '').replace(', ', '_') + '_' + str(variable).replace(' ', '').replace('%', '') + '.gzip', compression='gzip')\n",
    "                copyFilesToDrive()\n",
    "                \n",
    "            #Analyze the results\n",
    "            resultsDF = analyzeResults(results, resultsDF, method = architecture+' '+str(hidden), dataset =   dataset + ': ' + str(variable))\n",
    "            \n",
    "    return resultsDF\n",
    "    \n",
    "    "
   ]
  },
  {
   "cell_type": "markdown",
   "metadata": {},
   "source": [
    "### Macroeconomic variables"
   ]
  },
  {
   "cell_type": "code",
   "execution_count": 22,
   "metadata": {},
   "outputs": [],
   "source": [
    "resultsMEV = runAnalysisPerVariable(mev, ep, hidden_sizes,  window_size, architecture = 'FNN', dataset = 'MEV', inputUnits = 1, inputShape = (1,))"
   ]
  },
  {
   "cell_type": "code",
   "execution_count": 23,
   "metadata": {},
   "outputs": [
    {
     "data": {
      "text/html": [
       "<div>\n",
       "<style scoped>\n",
       "    .dataframe tbody tr th:only-of-type {\n",
       "        vertical-align: middle;\n",
       "    }\n",
       "\n",
       "    .dataframe tbody tr th {\n",
       "        vertical-align: top;\n",
       "    }\n",
       "\n",
       "    .dataframe thead th {\n",
       "        text-align: right;\n",
       "    }\n",
       "</style>\n",
       "<table border=\"1\" class=\"dataframe\">\n",
       "  <thead>\n",
       "    <tr style=\"text-align: right;\">\n",
       "      <th></th>\n",
       "      <th>Method</th>\n",
       "      <th>Dataset</th>\n",
       "      <th>R2</th>\n",
       "      <th>CW</th>\n",
       "      <th>DA</th>\n",
       "      <th>DA HA</th>\n",
       "    </tr>\n",
       "  </thead>\n",
       "  <tbody>\n",
       "    <tr>\n",
       "      <th>0</th>\n",
       "      <td>FNN [32]</td>\n",
       "      <td>MEV: DP</td>\n",
       "      <td>-0.012</td>\n",
       "      <td>0.83</td>\n",
       "      <td>52.31</td>\n",
       "      <td>49.69</td>\n",
       "    </tr>\n",
       "    <tr>\n",
       "      <th>1</th>\n",
       "      <td>FNN [32, 16]</td>\n",
       "      <td>MEV: DP</td>\n",
       "      <td>-0.004</td>\n",
       "      <td>0.91</td>\n",
       "      <td>52.31</td>\n",
       "      <td>49.69</td>\n",
       "    </tr>\n",
       "    <tr>\n",
       "      <th>2</th>\n",
       "      <td>FNN [32, 16, 8]</td>\n",
       "      <td>MEV: DP</td>\n",
       "      <td>-0.138</td>\n",
       "      <td>-1.57</td>\n",
       "      <td>43.21</td>\n",
       "      <td>49.69</td>\n",
       "    </tr>\n",
       "    <tr>\n",
       "      <th>3</th>\n",
       "      <td>FNN [32, 16, 8, 4]</td>\n",
       "      <td>MEV: DP</td>\n",
       "      <td>-0.061</td>\n",
       "      <td>-0.05</td>\n",
       "      <td>48.30</td>\n",
       "      <td>49.69</td>\n",
       "    </tr>\n",
       "    <tr>\n",
       "      <th>4</th>\n",
       "      <td>FNN [32, 16, 8, 4, 2]</td>\n",
       "      <td>MEV: DP</td>\n",
       "      <td>-61.162</td>\n",
       "      <td>0.22</td>\n",
       "      <td>53.55</td>\n",
       "      <td>49.69</td>\n",
       "    </tr>\n",
       "    <tr>\n",
       "      <th>...</th>\n",
       "      <td>...</td>\n",
       "      <td>...</td>\n",
       "      <td>...</td>\n",
       "      <td>...</td>\n",
       "      <td>...</td>\n",
       "      <td>...</td>\n",
       "    </tr>\n",
       "    <tr>\n",
       "      <th>65</th>\n",
       "      <td>FNN [32]</td>\n",
       "      <td>MEV: INFL (%)</td>\n",
       "      <td>-0.053</td>\n",
       "      <td>-1.44</td>\n",
       "      <td>46.30</td>\n",
       "      <td>49.69</td>\n",
       "    </tr>\n",
       "    <tr>\n",
       "      <th>66</th>\n",
       "      <td>FNN [32, 16]</td>\n",
       "      <td>MEV: INFL (%)</td>\n",
       "      <td>-0.017</td>\n",
       "      <td>0.0</td>\n",
       "      <td>52.01</td>\n",
       "      <td>49.69</td>\n",
       "    </tr>\n",
       "    <tr>\n",
       "      <th>67</th>\n",
       "      <td>FNN [32, 16, 8]</td>\n",
       "      <td>MEV: INFL (%)</td>\n",
       "      <td>-0.029</td>\n",
       "      <td>0.55</td>\n",
       "      <td>48.46</td>\n",
       "      <td>49.69</td>\n",
       "    </tr>\n",
       "    <tr>\n",
       "      <th>68</th>\n",
       "      <td>FNN [32, 16, 8, 4]</td>\n",
       "      <td>MEV: INFL (%)</td>\n",
       "      <td>-0.049</td>\n",
       "      <td>1.39*</td>\n",
       "      <td>49.07</td>\n",
       "      <td>49.69</td>\n",
       "    </tr>\n",
       "    <tr>\n",
       "      <th>69</th>\n",
       "      <td>FNN [32, 16, 8, 4, 2]</td>\n",
       "      <td>MEV: INFL (%)</td>\n",
       "      <td>-0.005</td>\n",
       "      <td>0.42</td>\n",
       "      <td>46.14</td>\n",
       "      <td>49.69</td>\n",
       "    </tr>\n",
       "  </tbody>\n",
       "</table>\n",
       "<p>70 rows × 6 columns</p>\n",
       "</div>"
      ],
      "text/plain": [
       "                   Method        Dataset      R2     CW     DA  DA HA\n",
       "0                FNN [32]        MEV: DP  -0.012   0.83  52.31  49.69\n",
       "1            FNN [32, 16]        MEV: DP  -0.004   0.91  52.31  49.69\n",
       "2         FNN [32, 16, 8]        MEV: DP  -0.138  -1.57  43.21  49.69\n",
       "3      FNN [32, 16, 8, 4]        MEV: DP  -0.061  -0.05  48.30  49.69\n",
       "4   FNN [32, 16, 8, 4, 2]        MEV: DP -61.162   0.22  53.55  49.69\n",
       "..                    ...            ...     ...    ...    ...    ...\n",
       "65               FNN [32]  MEV: INFL (%)  -0.053  -1.44  46.30  49.69\n",
       "66           FNN [32, 16]  MEV: INFL (%)  -0.017    0.0  52.01  49.69\n",
       "67        FNN [32, 16, 8]  MEV: INFL (%)  -0.029   0.55  48.46  49.69\n",
       "68     FNN [32, 16, 8, 4]  MEV: INFL (%)  -0.049  1.39*  49.07  49.69\n",
       "69  FNN [32, 16, 8, 4, 2]  MEV: INFL (%)  -0.005   0.42  46.14  49.69\n",
       "\n",
       "[70 rows x 6 columns]"
      ]
     },
     "execution_count": 23,
     "metadata": {},
     "output_type": "execute_result"
    }
   ],
   "source": [
    "resultsMEV"
   ]
  },
  {
   "cell_type": "markdown",
   "metadata": {},
   "source": [
    "### Technical Indicators"
   ]
  },
  {
   "cell_type": "code",
   "execution_count": 24,
   "metadata": {},
   "outputs": [],
   "source": [
    "resultsTA = runAnalysisPerVariable(ta, ep, hidden_sizes,  window_size, architecture = 'FNN', dataset = 'TA', inputUnits = 1, inputShape = (1,))"
   ]
  },
  {
   "cell_type": "code",
   "execution_count": 25,
   "metadata": {},
   "outputs": [
    {
     "data": {
      "text/html": [
       "<div>\n",
       "<style scoped>\n",
       "    .dataframe tbody tr th:only-of-type {\n",
       "        vertical-align: middle;\n",
       "    }\n",
       "\n",
       "    .dataframe tbody tr th {\n",
       "        vertical-align: top;\n",
       "    }\n",
       "\n",
       "    .dataframe thead th {\n",
       "        text-align: right;\n",
       "    }\n",
       "</style>\n",
       "<table border=\"1\" class=\"dataframe\">\n",
       "  <thead>\n",
       "    <tr style=\"text-align: right;\">\n",
       "      <th></th>\n",
       "      <th>Method</th>\n",
       "      <th>Dataset</th>\n",
       "      <th>R2</th>\n",
       "      <th>CW</th>\n",
       "      <th>DA</th>\n",
       "      <th>DA HA</th>\n",
       "    </tr>\n",
       "  </thead>\n",
       "  <tbody>\n",
       "    <tr>\n",
       "      <th>0</th>\n",
       "      <td>FNN [32]</td>\n",
       "      <td>TA: MA(1,9)</td>\n",
       "      <td>-0.011</td>\n",
       "      <td>1.02</td>\n",
       "      <td>47.84</td>\n",
       "      <td>49.69</td>\n",
       "    </tr>\n",
       "    <tr>\n",
       "      <th>1</th>\n",
       "      <td>FNN [32, 16]</td>\n",
       "      <td>TA: MA(1,9)</td>\n",
       "      <td>-0.030</td>\n",
       "      <td>0.46</td>\n",
       "      <td>49.85</td>\n",
       "      <td>49.69</td>\n",
       "    </tr>\n",
       "    <tr>\n",
       "      <th>2</th>\n",
       "      <td>FNN [32, 16, 8]</td>\n",
       "      <td>TA: MA(1,9)</td>\n",
       "      <td>-2.935</td>\n",
       "      <td>0.54</td>\n",
       "      <td>50.93</td>\n",
       "      <td>49.69</td>\n",
       "    </tr>\n",
       "    <tr>\n",
       "      <th>3</th>\n",
       "      <td>FNN [32, 16, 8, 4]</td>\n",
       "      <td>TA: MA(1,9)</td>\n",
       "      <td>-0.803</td>\n",
       "      <td>2.07**</td>\n",
       "      <td>48.77</td>\n",
       "      <td>49.69</td>\n",
       "    </tr>\n",
       "    <tr>\n",
       "      <th>4</th>\n",
       "      <td>FNN [32, 16, 8, 4, 2]</td>\n",
       "      <td>TA: MA(1,9)</td>\n",
       "      <td>-0.031</td>\n",
       "      <td>0.5</td>\n",
       "      <td>52.78</td>\n",
       "      <td>49.69</td>\n",
       "    </tr>\n",
       "    <tr>\n",
       "      <th>...</th>\n",
       "      <td>...</td>\n",
       "      <td>...</td>\n",
       "      <td>...</td>\n",
       "      <td>...</td>\n",
       "      <td>...</td>\n",
       "      <td>...</td>\n",
       "    </tr>\n",
       "    <tr>\n",
       "      <th>65</th>\n",
       "      <td>FNN [32]</td>\n",
       "      <td>TA: VOL(3,12)</td>\n",
       "      <td>-0.041</td>\n",
       "      <td>-1.25</td>\n",
       "      <td>46.14</td>\n",
       "      <td>49.69</td>\n",
       "    </tr>\n",
       "    <tr>\n",
       "      <th>66</th>\n",
       "      <td>FNN [32, 16]</td>\n",
       "      <td>TA: VOL(3,12)</td>\n",
       "      <td>-0.046</td>\n",
       "      <td>-0.33</td>\n",
       "      <td>48.46</td>\n",
       "      <td>49.69</td>\n",
       "    </tr>\n",
       "    <tr>\n",
       "      <th>67</th>\n",
       "      <td>FNN [32, 16, 8]</td>\n",
       "      <td>TA: VOL(3,12)</td>\n",
       "      <td>-0.123</td>\n",
       "      <td>-1.69</td>\n",
       "      <td>45.83</td>\n",
       "      <td>49.69</td>\n",
       "    </tr>\n",
       "    <tr>\n",
       "      <th>68</th>\n",
       "      <td>FNN [32, 16, 8, 4]</td>\n",
       "      <td>TA: VOL(3,12)</td>\n",
       "      <td>-0.014</td>\n",
       "      <td>0.26</td>\n",
       "      <td>50.46</td>\n",
       "      <td>49.69</td>\n",
       "    </tr>\n",
       "    <tr>\n",
       "      <th>69</th>\n",
       "      <td>FNN [32, 16, 8, 4, 2]</td>\n",
       "      <td>TA: VOL(3,12)</td>\n",
       "      <td>-1.546</td>\n",
       "      <td>-0.38</td>\n",
       "      <td>47.69</td>\n",
       "      <td>49.69</td>\n",
       "    </tr>\n",
       "  </tbody>\n",
       "</table>\n",
       "<p>70 rows × 6 columns</p>\n",
       "</div>"
      ],
      "text/plain": [
       "                   Method        Dataset     R2      CW     DA  DA HA\n",
       "0                FNN [32]    TA: MA(1,9) -0.011    1.02  47.84  49.69\n",
       "1            FNN [32, 16]    TA: MA(1,9) -0.030    0.46  49.85  49.69\n",
       "2         FNN [32, 16, 8]    TA: MA(1,9) -2.935    0.54  50.93  49.69\n",
       "3      FNN [32, 16, 8, 4]    TA: MA(1,9) -0.803  2.07**  48.77  49.69\n",
       "4   FNN [32, 16, 8, 4, 2]    TA: MA(1,9) -0.031     0.5  52.78  49.69\n",
       "..                    ...            ...    ...     ...    ...    ...\n",
       "65               FNN [32]  TA: VOL(3,12) -0.041   -1.25  46.14  49.69\n",
       "66           FNN [32, 16]  TA: VOL(3,12) -0.046   -0.33  48.46  49.69\n",
       "67        FNN [32, 16, 8]  TA: VOL(3,12) -0.123   -1.69  45.83  49.69\n",
       "68     FNN [32, 16, 8, 4]  TA: VOL(3,12) -0.014    0.26  50.46  49.69\n",
       "69  FNN [32, 16, 8, 4, 2]  TA: VOL(3,12) -1.546   -0.38  47.69  49.69\n",
       "\n",
       "[70 rows x 6 columns]"
      ]
     },
     "execution_count": 25,
     "metadata": {},
     "output_type": "execute_result"
    }
   ],
   "source": [
    "resultsTA"
   ]
  },
  {
   "cell_type": "code",
   "execution_count": 26,
   "metadata": {},
   "outputs": [],
   "source": [
    "with pd.ExcelWriter('output/FNN.xlsx') as writer:\n",
    "    resultsMEVAll.to_excel(writer, sheet_name='Accuracy MEV')\n",
    "    resultsTAAll.to_excel(writer, sheet_name='Accuracy TA')\n",
    "    resultsAll.to_excel(writer, sheet_name='Accuracy All')\n",
    "    resultsPCACombined.to_excel(writer, sheet_name='Accuracy PCA')\n",
    "    resultsMEV.to_excel(writer, sheet_name='MEV Variables')\n",
    "    resultsTA.to_excel(writer, sheet_name='TA Variables')"
   ]
  },
  {
   "cell_type": "code",
   "execution_count": null,
   "metadata": {},
   "outputs": [],
   "source": []
  },
  {
   "cell_type": "code",
   "execution_count": null,
   "metadata": {},
   "outputs": [],
   "source": []
  }
 ],
 "metadata": {
  "kernelspec": {
   "display_name": "Python 3",
   "language": "python",
   "name": "python3"
  },
  "language_info": {
   "codemirror_mode": {
    "name": "ipython",
    "version": 3
   },
   "file_extension": ".py",
   "mimetype": "text/x-python",
   "name": "python",
   "nbconvert_exporter": "python",
   "pygments_lexer": "ipython3",
   "version": "3.6.10"
  }
 },
 "nbformat": 4,
 "nbformat_minor": 4
}
